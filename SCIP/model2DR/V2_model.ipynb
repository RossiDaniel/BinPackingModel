{
 "cells": [
  {
   "cell_type": "code",
   "execution_count": 11,
   "metadata": {},
   "outputs": [],
   "source": [
    "import matplotlib.pyplot as plt\n",
    "from matplotlib.patches import Rectangle\n",
    "from matplotlib.collections import PatchCollection\n",
    "from pyscipopt import Model\n",
    "import time"
   ]
  },
  {
   "cell_type": "code",
   "execution_count": 12,
   "metadata": {},
   "outputs": [],
   "source": [
    "class box:\n",
    "    def __init__(self,dim):\n",
    "        self.dimensioni=dim\n",
    "\n",
    "    def getW(self):\n",
    "        return self.dimensioni[0]\n",
    "\n",
    "    def getD(self):\n",
    "        return self.dimensioni[1]\n"
   ]
  },
  {
   "cell_type": "code",
   "execution_count": 13,
   "metadata": {},
   "outputs": [],
   "source": [
    "class cargo:\n",
    "    def __init__(self,dim):\n",
    "        self.dimensioni=dim\n",
    "\n",
    "    def getW(self):\n",
    "        return self.dimensioni[0]\n",
    "\n",
    "    def getD(self):\n",
    "        return self.dimensioni[1]\n",
    "\n"
   ]
  },
  {
   "cell_type": "code",
   "execution_count": 14,
   "metadata": {},
   "outputs": [],
   "source": [
    "def plotSolution(solution, camion, packages):\n",
    "    boxes = []\n",
    "\n",
    "    width = [p.dimensioni[0] for p in packages]\n",
    "    depth = [p.dimensioni[1] for p in packages]\n",
    "    \n",
    "    #bin\n",
    "    container = Rectangle((0,0), camion.dimensioni[1], camion.dimensioni[0], facecolor='white')\n",
    "    boxes.append(container)\n",
    "\n",
    "    #items\n",
    "    for a in solution:\n",
    "        w = width[a[2]] if a[3] == 0 else depth[a[2]]\n",
    "        d = depth[a[2]] if a[3] == 0 else width[a[2]]\n",
    "        box = Rectangle((a[1],a[0]), d, w, facecolor='r')\n",
    "        boxes.append(box)\n",
    "\n",
    "    #plot\n",
    "    facecolors = [b.get_facecolor() for b in boxes]\n",
    "\n",
    "    collection = PatchCollection(boxes, facecolor=facecolors, alpha=0.4, edgecolor='black', linewidths=2)\n",
    "\n",
    "    ax = plt.gca(xlabel='depth',ylabel='width')\n",
    "    ax.add_collection(collection)\n",
    "    ax.autoscale_view()\n",
    "    ax.axis('equal')\n",
    "    plt.draw_if_interactive()"
   ]
  },
  {
   "cell_type": "code",
   "execution_count": 18,
   "metadata": {},
   "outputs": [],
   "source": [
    "def model(packages,cargo):\n",
    "    model = Model(\"Model2D\")  \n",
    "    # importo dimensioni dei pacchi e del camion\n",
    "    n=len(packages)\n",
    "\n",
    "    w =[packages[i].getW() for i in range(n)]\n",
    "    d =[packages[i].getD() for i in range(n)]\n",
    "\n",
    "    print(w)\n",
    "    print(d)\n",
    "\n",
    "    W =cargo.getW()\n",
    "    D =model.addVar(vtype=\"INTEGER\",name=\"D\")\n",
    "\n",
    "    Md=sum(d)\n",
    "    Mw=W+min(w)\n",
    "\n",
    "    # definisco le variabili\n",
    "    s1 =[[model.addVar(vtype=\"B\",name =\"s1%d%d\" % (i,j)) for i in range(n)] for j in range(n)]\n",
    "    s2 =[[model.addVar(vtype=\"B\",name =\"s2%d%d\" % (i,j)) for i in range(n)] for j in range(n)]\n",
    "    s3 =[[model.addVar(vtype=\"B\",name =\"s3%d%d\" % (i,j)) for i in range(n)] for j in range(n)]\n",
    "    s4 =[[model.addVar(vtype=\"B\",name =\"s4%d%d\" % (i,j)) for i in range(n)] for j in range(n)]\n",
    "    r =[model.addVar(vtype=\"B\",name=\"r%d\" % (i)) for i in range(n)]\n",
    "\n",
    "    x =[model.addVar(vtype=\"INTEGER\",name=\"x%d\" % i) for i in range(n)]\n",
    "    y =[model.addVar(vtype=\"INTEGER\",name=\"y%d\" % i) for i in range(n)]\n",
    "\n",
    "    # definisco i constraints\n",
    "    for i in range(n):\n",
    "        for j in range(n):\n",
    "            if(i < j):\n",
    "                model.addCons(x[i] + w[i]*(1-r[i]) + d[i]*r[i] <= x[j] + Mw*(1-s1[i][j]))           #(1)\n",
    "                model.addCons(y[i] + d[i]*(1-r[i]) + w[i]*r[i] <= y[j] + Md*(1-s2[i][j]))           #(2)\n",
    "                model.addCons(x[j] + w[j]*(1-r[j]) + d[j]*r[j] <= x[i] + Mw*(1-s3[i][j]))           #(3)\n",
    "                model.addCons(y[j] + d[j]*(1-r[j]) + w[j]*r[j] <= y[i] + Md*(1-s4[i][j]))           #(4)\n",
    "                model.addCons(s1[i][j]+s2[i][j]+s3[i][j]+s4[i][j]>=1)          #(5)\n",
    "        model.addCons(x[i] <= W - w[i]*(1-r[i]) -d[i]*r[i])                                        #(4)\n",
    "        model.addCons(y[i] <= D - d[i]*(1-r[i]) -w[i]*r[i])                                         #(5)\n",
    "\n",
    "    #funzione obiettivo\n",
    "    model.setObjective(D, \"minimize\")\n",
    "    model.data=x,y,r,s1,s2,s3,s4,w,d,W,D\n",
    "    return model\n"
   ]
  },
  {
   "cell_type": "code",
   "execution_count": 19,
   "metadata": {},
   "outputs": [],
   "source": [
    "def main():\n",
    "    packages =[]\n",
    "    for i in range(0,5):\n",
    "        w=120\n",
    "        d=80\n",
    "        packages.append(box([w,d]))\n",
    "    camion =cargo([250,1350])\n",
    "    t=time.time()\n",
    "    models =model(packages,camion)\n",
    "    models.optimize()\n",
    "    x,y,r,s1,s2,s3,s4,w,d,W,D= models.data\n",
    "    s = []\n",
    "    for i in range(len(packages)):\n",
    "        s.append([models.getVal(x[i]), models.getVal(y[i]), i, models.getVal(r[i])])\n",
    "    plotSolution(s, camion, packages)\n",
    "    print s"
   ]
  },
  {
   "cell_type": "code",
   "execution_count": 20,
   "metadata": {},
   "outputs": [
    {
     "name": "stdout",
     "output_type": "stream",
     "text": [
      "[120, 120, 120, 120, 120]\n",
      "[80, 80, 80, 80, 80]\n",
      "[[10.0, 0.0, 0, 0.0], [130.0, 0.0, 1, 0.0], [10.0, 0.0, 2, 1.0], [90.0, 0.0, 3, 1.0], [170.0, 0.0, 4, 1.0]]\n"
     ]
    },
    {
     "data": {
      "image/png": "[encoded data removed]",
      "text/plain": [
       "<Figure size 432x288 with 1 Axes>"
      ]
     },
     "metadata": {
      "needs_background": "light"
     },
     "output_type": "display_data"
    }
   ],
   "source": [
    "main()"
   ]
  },
  {
   "cell_type": "code",
   "execution_count": null,
   "metadata": {},
   "outputs": [],
   "source": []
  }
 ],
 "metadata": {
  "kernelspec": {
   "display_name": "Python 2",
   "language": "python",
   "name": "python2"
  },
  "language_info": {
   "codemirror_mode": {
    "name": "ipython",
    "version": 2
   },
   "file_extension": ".py",
   "mimetype": "text/x-python",
   "name": "python",
   "nbconvert_exporter": "python",
   "pygments_lexer": "ipython2",
   "version": "2.7.12"
  }
 },
 "nbformat": 4,
 "nbformat_minor": 2
}
