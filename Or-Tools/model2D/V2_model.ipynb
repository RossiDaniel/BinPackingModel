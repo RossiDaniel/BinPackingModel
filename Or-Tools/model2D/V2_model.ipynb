{
 "cells": [
  {
   "cell_type": "code",
   "execution_count": 1,
   "metadata": {},
   "outputs": [],
   "source": [
    "import matplotlib.pyplot as plt\n",
    "from matplotlib.patches import Rectangle\n",
    "from matplotlib.collections import PatchCollection\n",
    "from ortools.linear_solver import pywraplp\n",
    "import timeit\n",
    "import random\n",
    "import time"
   ]
  },
  {
   "cell_type": "code",
   "execution_count": 8,
   "metadata": {},
   "outputs": [
    {
     "ename": "SyntaxError",
     "evalue": "invalid syntax (<ipython-input-8-33174b67ae27>, line 52)",
     "output_type": "error",
     "traceback": [
      "\u001b[0;36m  File \u001b[0;32m\"<ipython-input-8-33174b67ae27>\"\u001b[0;36m, line \u001b[0;32m52\u001b[0m\n\u001b[0;31m    s.append([x[i].solution_value(), y[i].solution_value(), i, 0)\u001b[0m\n\u001b[0m                                                                ^\u001b[0m\n\u001b[0;31mSyntaxError\u001b[0m\u001b[0;31m:\u001b[0m invalid syntax\n"
     ]
    }
   ],
   "source": [
    "def model(packages,cargo):\n",
    "    solver = pywraplp.Solver('Model2DR', pywraplp.Solver.CBC_MIXED_INTEGER_PROGRAMMING)\n",
    "    # importo dimensioni dei pacchi e del camion\n",
    "    n=len(packages)\n",
    "\n",
    "    w =[packages[i].getW() for i in range(n)]\n",
    "    d =[packages[i].getD() for i in range(n)]\n",
    "\n",
    "    print(w)\n",
    "    print(d)\n",
    "\n",
    "    W =cargo.getW()\n",
    "    D =solver.IntVar(0,solver.infinity(),\"D\")\n",
    "\n",
    "    Md=sum(d)\n",
    "    Mw=W+min(w)\n",
    "\n",
    "    # definisco le variabili\n",
    "    s1 =[[solver.BoolVar(\"s1%d%d\" % (i,j)) for i in range(n)] for j in range(n)]\n",
    "    s2 =[[solver.BoolVar(\"s2%d%d\" % (i,j)) for i in range(n)] for j in range(n)]\n",
    "    s3 =[[solver.BoolVar(\"s3%d%d\" % (i,j)) for i in range(n)] for j in range(n)]\n",
    "    s4 =[[solver.BoolVar(\"s4%d%d\" % (i,j)) for i in range(n)] for j in range(n)]\n",
    "\n",
    "    x =[solver.IntVar(0,solver.infinity(),\"x%d\" % i) for i in range(n)]\n",
    "    y =[solver.IntVar(0,solver.infinity(),\"y%d\" % i) for i in range(n)]\n",
    "\n",
    "\n",
    "\n",
    "    # definisco i constraints\n",
    "    for i in range(n):\n",
    "        for j in range(n):\n",
    "            if(i < j):\n",
    "                solver.Add(x[i] + w[i] <= x[j] + Mw*(1-s1[i][j]))           #(1)\n",
    "                solver.Add(y[i] + d[i] <= y[j] + Md*(1-s2[i][j]))           #(2)\n",
    "                solver.Add(x[j] + w[j] <= x[i] + Mw*(1-s3[i][j]))           #(3)\n",
    "                solver.Add(y[j] + d[j] <= y[i] + Md*(1-s4[i][j]))           #(4)\n",
    "                solver.Add(s1[i][j]+s2[i][j]+s3[i][j]+s4[i][j]>=1)          #(5)\n",
    "        solver.Add(x[i] + w[i] <= W)                   #(6)\n",
    "        solver.Add(y[i] + d[i] <= D)                   #(7)\n",
    "\n",
    "    #funzione obiettivo\n",
    "    objective = solver.Objective()\n",
    "    objective.SetCoefficient(D,1)\n",
    "    objective.SetMinimization()\n",
    "\n",
    "    #soluzione\n",
    "    solver.Solve()\n",
    "\n",
    "    #lista soluzioni\n",
    "    s = []\n",
    "    for i in range(n):\n",
    "        s.append([x[i].solution_value(), y[i].solution_value(), i, 0])\n",
    "    return s"
   ]
  },
  {
   "cell_type": "code",
   "execution_count": 9,
   "metadata": {},
   "outputs": [],
   "source": [
    "def plotSolution(solution, camion, packages):\n",
    "    boxes = []\n",
    "\n",
    "    width = [p.dimensioni[0] for p in packages]\n",
    "    depth = [p.dimensioni[1] for p in packages]\n",
    "    print width\n",
    "    #bin\n",
    "    container = Rectangle((0,0), camion.dimensioni[1], camion.dimensioni[0], facecolor='white')\n",
    "    boxes.append(container)\n",
    "\n",
    "    #items\n",
    "    for a in solution:\n",
    "        w =width[a[2]] if a[3] == 0 else depth[a[2]]\n",
    "        d =depth[a[2]] if a[3] == 0 else width[a[2]]\n",
    "        box = Rectangle((a[1],a[0]), d, w, facecolor='r')\n",
    "        boxes.append(box)\n",
    "    #plot\n",
    "    facecolors = [b.get_facecolor() for b in boxes]\n",
    "\n",
    "    collection = PatchCollection(boxes, facecolor=facecolors, alpha=0.4, edgecolor='black', linewidths=2)\n",
    "\n",
    "    ax = plt.gca(xlabel='depth',ylabel='width')\n",
    "    ax.add_collection(collection)\n",
    "    ax.autoscale_view()\n",
    "    ax.axis('equal')\n",
    "    plt.draw_if_interactive()"
   ]
  },
  {
   "cell_type": "code",
   "execution_count": 4,
   "metadata": {},
   "outputs": [],
   "source": [
    "def main():\n",
    "    packages =[]\n",
    "    for i in range(0,5):\n",
    "        w=120\n",
    "        d=80\n",
    "        packages.append(box([w,d]))\n",
    "    camion =cargo([250,1350])\n",
    "    t=time.time()\n",
    "    s =model(packages,camion)\n",
    "    print s\n",
    "    plotSolution(s,camion,packages)\n",
    "    t=time.time()-t\n",
    "    print(t)"
   ]
  },
  {
   "cell_type": "code",
   "execution_count": 5,
   "metadata": {},
   "outputs": [],
   "source": [
    "class box:\n",
    "    def __init__(self,dim):\n",
    "        self.dimensioni=dim\n",
    "\n",
    "    def getW(self):\n",
    "        return self.dimensioni[0]\n",
    "\n",
    "    def getD(self):\n",
    "        return self.dimensioni[1]\n"
   ]
  },
  {
   "cell_type": "code",
   "execution_count": 6,
   "metadata": {},
   "outputs": [],
   "source": [
    "class cargo:\n",
    "    def __init__(self,dim):\n",
    "        self.dimensioni=dim\n",
    "\n",
    "    def getW(self):\n",
    "        return self.dimensioni[0]\n",
    "\n",
    "    def getD(self):\n",
    "        return self.dimensioni[1]\n"
   ]
  },
  {
   "cell_type": "code",
   "execution_count": 7,
   "metadata": {},
   "outputs": [
    {
     "name": "stdout",
     "output_type": "stream",
     "text": [
      "[120, 120, 120, 120, 120]\n",
      "[80, 80, 80, 80, 80]\n"
     ]
    },
    {
     "ename": "NameError",
     "evalue": "global name 'r' is not defined",
     "output_type": "error",
     "traceback": [
      "\u001b[0;31m---------------------------------------------------------------------------\u001b[0m",
      "\u001b[0;31mNameError\u001b[0m                                 Traceback (most recent call last)",
      "\u001b[0;32m<ipython-input-7-263240bbee7e>\u001b[0m in \u001b[0;36m<module>\u001b[0;34m()\u001b[0m\n\u001b[0;32m----> 1\u001b[0;31m \u001b[0mmain\u001b[0m\u001b[0;34m(\u001b[0m\u001b[0;34m)\u001b[0m\u001b[0;34m\u001b[0m\u001b[0m\n\u001b[0m",
      "\u001b[0;32m<ipython-input-4-c90dd5a37905>\u001b[0m in \u001b[0;36mmain\u001b[0;34m()\u001b[0m\n\u001b[1;32m      7\u001b[0m     \u001b[0mcamion\u001b[0m \u001b[0;34m=\u001b[0m\u001b[0mcargo\u001b[0m\u001b[0;34m(\u001b[0m\u001b[0;34m[\u001b[0m\u001b[0;36m250\u001b[0m\u001b[0;34m,\u001b[0m\u001b[0;36m1350\u001b[0m\u001b[0;34m]\u001b[0m\u001b[0;34m)\u001b[0m\u001b[0;34m\u001b[0m\u001b[0m\n\u001b[1;32m      8\u001b[0m     \u001b[0mt\u001b[0m\u001b[0;34m=\u001b[0m\u001b[0mtime\u001b[0m\u001b[0;34m.\u001b[0m\u001b[0mtime\u001b[0m\u001b[0;34m(\u001b[0m\u001b[0;34m)\u001b[0m\u001b[0;34m\u001b[0m\u001b[0m\n\u001b[0;32m----> 9\u001b[0;31m     \u001b[0ms\u001b[0m \u001b[0;34m=\u001b[0m\u001b[0mmodel\u001b[0m\u001b[0;34m(\u001b[0m\u001b[0mpackages\u001b[0m\u001b[0;34m,\u001b[0m\u001b[0mcamion\u001b[0m\u001b[0;34m)\u001b[0m\u001b[0;34m\u001b[0m\u001b[0m\n\u001b[0m\u001b[1;32m     10\u001b[0m     \u001b[0;32mprint\u001b[0m \u001b[0ms\u001b[0m\u001b[0;34m\u001b[0m\u001b[0m\n\u001b[1;32m     11\u001b[0m     \u001b[0mplotSolution\u001b[0m\u001b[0;34m(\u001b[0m\u001b[0ms\u001b[0m\u001b[0;34m,\u001b[0m\u001b[0mcamion\u001b[0m\u001b[0;34m,\u001b[0m\u001b[0mpackages\u001b[0m\u001b[0;34m)\u001b[0m\u001b[0;34m\u001b[0m\u001b[0m\n",
      "\u001b[0;32m<ipython-input-2-0f7bd315c258>\u001b[0m in \u001b[0;36mmodel\u001b[0;34m(packages, cargo)\u001b[0m\n\u001b[1;32m     50\u001b[0m     \u001b[0ms\u001b[0m \u001b[0;34m=\u001b[0m \u001b[0;34m[\u001b[0m\u001b[0;34m]\u001b[0m\u001b[0;34m\u001b[0m\u001b[0m\n\u001b[1;32m     51\u001b[0m     \u001b[0;32mfor\u001b[0m \u001b[0mi\u001b[0m \u001b[0;32min\u001b[0m \u001b[0mrange\u001b[0m\u001b[0;34m(\u001b[0m\u001b[0mn\u001b[0m\u001b[0;34m)\u001b[0m\u001b[0;34m:\u001b[0m\u001b[0;34m\u001b[0m\u001b[0m\n\u001b[0;32m---> 52\u001b[0;31m         \u001b[0ms\u001b[0m\u001b[0;34m.\u001b[0m\u001b[0mappend\u001b[0m\u001b[0;34m(\u001b[0m\u001b[0;34m[\u001b[0m\u001b[0mx\u001b[0m\u001b[0;34m[\u001b[0m\u001b[0mi\u001b[0m\u001b[0;34m]\u001b[0m\u001b[0;34m.\u001b[0m\u001b[0msolution_value\u001b[0m\u001b[0;34m(\u001b[0m\u001b[0;34m)\u001b[0m\u001b[0;34m,\u001b[0m \u001b[0my\u001b[0m\u001b[0;34m[\u001b[0m\u001b[0mi\u001b[0m\u001b[0;34m]\u001b[0m\u001b[0;34m.\u001b[0m\u001b[0msolution_value\u001b[0m\u001b[0;34m(\u001b[0m\u001b[0;34m)\u001b[0m\u001b[0;34m,\u001b[0m \u001b[0mi\u001b[0m\u001b[0;34m,\u001b[0m \u001b[0mr\u001b[0m\u001b[0;34m[\u001b[0m\u001b[0mi\u001b[0m\u001b[0;34m]\u001b[0m\u001b[0;34m.\u001b[0m\u001b[0msolution_value\u001b[0m\u001b[0;34m(\u001b[0m\u001b[0;34m)\u001b[0m\u001b[0;34m]\u001b[0m\u001b[0;34m)\u001b[0m\u001b[0;34m\u001b[0m\u001b[0m\n\u001b[0m\u001b[1;32m     53\u001b[0m     \u001b[0;32mreturn\u001b[0m \u001b[0ms\u001b[0m\u001b[0;34m\u001b[0m\u001b[0m\n",
      "\u001b[0;31mNameError\u001b[0m: global name 'r' is not defined"
     ]
    }
   ],
   "source": [
    "main()"
   ]
  },
  {
   "cell_type": "code",
   "execution_count": null,
   "metadata": {},
   "outputs": [],
   "source": []
  }
 ],
 "metadata": {
  "kernelspec": {
   "display_name": "Python 2",
   "language": "python",
   "name": "python2"
  },
  "language_info": {
   "codemirror_mode": {
    "name": "ipython",
    "version": 2
   },
   "file_extension": ".py",
   "mimetype": "text/x-python",
   "name": "python",
   "nbconvert_exporter": "python",
   "pygments_lexer": "ipython2",
   "version": "2.7.12"
  }
 },
 "nbformat": 4,
 "nbformat_minor": 2
}
