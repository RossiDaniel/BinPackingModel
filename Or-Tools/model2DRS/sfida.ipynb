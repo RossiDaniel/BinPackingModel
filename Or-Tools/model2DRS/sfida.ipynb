{
 "cells": [
  {
   "cell_type": "code",
   "execution_count": 1,
   "metadata": {},
   "outputs": [],
   "source": [
    "import sys\n",
    "sys.path.append(\"/home/rossidaniel/Documenti/bin-packing/Python/\")\n",
    "sys.path.append(\"/home/rossidaniel/Documenti/bin-packing/\")\n",
    "sys.path.append(\"/home/rossidaniel/Dropbox\")\n",
    "sys.path.append(\"/home/rossidaniel/Documenti/bin-packing/Python\")"
   ]
  },
  {
   "cell_type": "code",
   "execution_count": 2,
   "metadata": {},
   "outputs": [],
   "source": [
    "import Bin_Packing_Py as BP\n",
    "import BP_print\n",
    "import BP_plot\n",
    "import BP_utilities\n",
    "import HA_routines\n",
    "import BP_instances\n",
    "from matplotlib import colors as mcolors\n",
    "import matplotlib\n",
    "#%matplotlib nbagg\n",
    "#matplotlib.rcParams['figure.figsize'] = [6,3.5]\n",
    "\n",
    "from ortools.linear_solver import pywraplp\n",
    "import random\n",
    "import time\n",
    "import csv\n",
    "\n",
    "import pandas as pd\n",
    "from mail import send_mail\n",
    "from Test_BP_G import euristic"
   ]
  },
  {
   "cell_type": "code",
   "execution_count": 3,
   "metadata": {},
   "outputs": [],
   "source": [
    "def tc_sfida():\n",
    "    item_list = []\n",
    "    bin_list = []\n",
    "\n",
    "    bin_list.append(BP.Bin(2.70, 13.5, 2.45))\n",
    "    bin_list.append(BP.Bin(0, 0, 0))\n",
    "\n",
    "    n_items =random.randint(3,6)\n",
    "\n",
    "    for i in range(n_items):\n",
    "        w=random.uniform(0.5,1)\n",
    "        d=random.uniform(0.5,1)\n",
    "        h=random.uniform(0.5,1.5)\n",
    "        item = BP.Item(i,h,d,w)\n",
    "        item.stackable = random.randint(0,0)\n",
    "        item.order_id = random.randint(1,5)\n",
    "        item.weight = 4\n",
    "        item_list.append(item)\n",
    "\n",
    "    return item_list, bin_list"
   ]
  },
  {
   "cell_type": "code",
   "execution_count": 4,
   "metadata": {},
   "outputs": [],
   "source": [
    "def checkSequence(s):\n",
    "    items =s.getAnchors(0)\n",
    "    for i in items:\n",
    "        if s.checkSequence(i,0) == False: print i.item.id; return 0\n",
    "    return 1"
   ]
  },
  {
   "cell_type": "code",
   "execution_count": 5,
   "metadata": {
    "scrolled": true
   },
   "outputs": [],
   "source": [
    "class model_bin_packing:\n",
    "    def __init__(self,item_list,bin_list):\n",
    "        self.bp = BP.BinPack()\n",
    "        self.bp.items.extend(item_list)\n",
    "        self.bp.bins.extend(bin_list)\n",
    "        \n",
    "    def buildModel(self,amount_time=300000):\n",
    "        solver = pywraplp.Solver('Model2DRS', pywraplp.Solver.CBC_MIXED_INTEGER_PROGRAMMING)\n",
    "        #importo dimensioni dei pacchi e del camion\n",
    "        n=len(self.bp.items)\n",
    "\n",
    "        w =[self.bp.items[i].width for i in range(n)]\n",
    "        d =[self.bp.items[i].depth for i in range(n)]\n",
    "        h =[self.bp.items[i].height for i in range(n)]\n",
    "        \n",
    "        o =[[True if self.bp.items[i].order_id < self.bp.items[j].order_id else False for j in range(n)]for i in range(n)]\n",
    "\n",
    "        M=sum([max(w[i],d[i]) for i in range(n)])\n",
    "\n",
    "        W =self.bp.bins[0].width\n",
    "        D =solver.NumVar(0,M,\"D\")\n",
    "        H =self.bp.bins[0].height\n",
    "        \n",
    "        Mw=W+M\n",
    "        Md=self.bp.bins[0].depth+M\n",
    "        Mz=H+max(h)\n",
    "                \n",
    "        # definisco le variabili\n",
    "        l =[[solver.BoolVar(\"l%d%d\" % (i,j)) for i in range(n)] for j in range(n)]\n",
    "        b =[[solver.BoolVar(\"b%d%d\" % (i,j)) for i in range(n)] for j in range(n)]\n",
    "        r =[solver.BoolVar(\"r%d\" % (i)) for i in range(n)]\n",
    "        \n",
    "        sx = [[solver.BoolVar(\"sx%d%d\" % (i,j)) for i in range(n)]for j in range(n)]\n",
    "        dx = [[solver.BoolVar(\"dx%d%d\" % (i,j)) for i in range(n)]for j in range(n)]\n",
    "        hg = [[solver.BoolVar(\"hg%d%d\" % (i,j)) for i in range(n)]for j in range(n)]\n",
    "        \n",
    "        s1 =[solver.BoolVar(\"s1%d\" % (i)) for i in range(n)]\n",
    "        s2 =[solver.BoolVar(\"s2%d\" % (i)) for i in range(n)]\n",
    "        s3 =[solver.BoolVar(\"s3%d\" % (i)) for i in range(n)]\n",
    "\n",
    "        x =[solver.NumVar(0,solver.infinity(),\"x%d\" % i) for i in range(n)]\n",
    "        y =[solver.NumVar(0,solver.infinity(),\"y%d\" % i) for i in range(n)]\n",
    "\n",
    "\n",
    "        #definisco i constraints\n",
    "        for i in range(n):\n",
    "            for j in range(n):\n",
    "                if(i < j):\n",
    "                    solver.Add(l[i][j] + l[j][i] + b[i][j] + b[j][i] >= 1)                           #(1)\n",
    "                if(i != j):\n",
    "                    solver.Add(x[i] - x[j] + Mw * l[i][j] <= Mw - w[i]*(1-r[i]) - d[i]*r[i])         #(2)\n",
    "                    solver.Add(y[i] - y[j] + Md * b[i][j] <= Md - d[i]*(1-r[i]) - w[i]*r[i])         #(3)\n",
    "                    \n",
    "                    solver.Add(sx[i][j] <= l[i][j])\n",
    "                    solver.Add(sx[i][j] <= 1 - b[i][j] + b[j][i])\n",
    "                    solver.Add(sx[i][j] >= l[i][j] - 10*(b[i][j] + b[j][i]))\n",
    "                    \n",
    "                    solver.Add(dx[i][j] <= l[j][i])\n",
    "                    solver.Add(dx[i][j] <= 1 - b[i][j] + b[j][i])\n",
    "                    solver.Add(dx[i][j] >= l[j][i] - 10*(b[i][j] + b[j][i]))\n",
    "                    \n",
    "                    solver.Add(hg[i][j] <= b[i][j])\n",
    "                    solver.Add(hg[i][j] <= 1 - l[i][j] + l[j][i])\n",
    "                    solver.Add(hg[i][j] >= b[i][j] - 10*(l[i][j] + l[j][i]))\n",
    "\n",
    "                    solver.Add(sx[i][j]*o[i][j] <= s1[i])\n",
    "                    solver.Add(dx[j][i]*o[i][j] <= s2[i])\n",
    "                    solver.Add(hg[i][j]*o[i][j] <= s3[i])\n",
    "                    \n",
    "            solver.Add(x[i] + w[i]*(1-r[i]) + d[i]*r[i] <= W)                                        #(4)\n",
    "            solver.Add(y[i] + d[i]*(1-r[i]) + w[i]*r[i] <= D)                                        #(5)\n",
    "            solver.Add(s1[i] + s2[i] + s3[i] <= 2)\n",
    "            \n",
    "        #funzione obiettivo\n",
    "        objective = solver.Objective()\n",
    "        objective.SetCoefficient(D,1)\n",
    "        objective.SetMinimization()\n",
    "\n",
    "        #soluzione\n",
    "        solver.SetTimeLimit(amount_time)\n",
    "        t=time.time()\n",
    "        solver.Solve()\n",
    "        t =time.time()-t\n",
    "                \n",
    "        s = BP.Solution(self.bp)\n",
    "        for i in range(len(self.bp.items)):\n",
    "            rt = False if r[i].solution_value() == 0 else True\n",
    "            s.pushItem(self.bp.items[i],0,BP.Point(x[i].solution_value(),y[i].solution_value(),0),rt,False)\n",
    "        return s,t,w,d,h,n\n",
    "    \n",
    "    def BuildSolution(self,s):\n",
    "        print s\n",
    "    \n",
    "    def plotSolution(self,s):\n",
    "        BP_plot.plotSolution(s)\n",
    "    \n",
    "    def plot3Dsolution(self,s):\n",
    "        BP_plot.plot3DSolution(s,0)\n",
    "\n",
    "    def feasible(self):\n",
    "        return self.bp.bins[0].height*self.bp.bins[0].width >= sum([self.bp.items[i].width*self.bp.items[i].height for i in range(len(self.bp.items))])"
   ]
  },
  {
   "cell_type": "code",
   "execution_count": 6,
   "metadata": {},
   "outputs": [],
   "source": [
    "n_items = []\n",
    "Time = []\n",
    "eu_obj = []\n",
    "mod_obj = []\n",
    "feasible = []"
   ]
  },
  {
   "cell_type": "code",
   "execution_count": null,
   "metadata": {
    "scrolled": false
   },
   "outputs": [],
   "source": [
    "i = 0\n",
    "while True:\n",
    "    i +=1\n",
    "    items,bins=tc_sfida()\n",
    "    model = model_bin_packing(items,bins)\n",
    "    s,t,w,d,h,n=model.buildModel()\n",
    "    s.computeObj()\n",
    "    mod_obj.append(s.obj)\n",
    "    eu_obj.append(euristic(items,bins))\n",
    "    Time.append(round(t,3))\n",
    "    n_items.append(n)\n",
    "    feasible.append(checkSequence(s))\n",
    "    if checkSequence(s) == 0:\n",
    "        BP_plot.plotSolution(s)\n",
    "        break\n",
    "    if i >= 100: break"
   ]
  },
  {
   "cell_type": "code",
   "execution_count": null,
   "metadata": {},
   "outputs": [],
   "source": [
    "BP_plot.plotSolution(s)"
   ]
  },
  {
   "cell_type": "code",
   "execution_count": null,
   "metadata": {},
   "outputs": [],
   "source": [
    "dimensioni =pd.DataFrame({'n_items': n_items, 'Eu obj': eu_obj,'Mod obj': mod_obj, 'Time': Time,'Feasible': feasible})"
   ]
  },
  {
   "cell_type": "code",
   "execution_count": null,
   "metadata": {},
   "outputs": [],
   "source": [
    "dimensioni.to_excel('istanza.xlsx', encoding='utf8')"
   ]
  },
  {
   "cell_type": "code",
   "execution_count": null,
   "metadata": {
    "scrolled": false
   },
   "outputs": [],
   "source": [
    "dimensioni"
   ]
  },
  {
   "cell_type": "code",
   "execution_count": null,
   "metadata": {},
   "outputs": [],
   "source": [
    "#send_mail()"
   ]
  },
  {
   "cell_type": "code",
   "execution_count": null,
   "metadata": {},
   "outputs": [],
   "source": []
  }
 ],
 "metadata": {
  "kernelspec": {
   "display_name": "Python 2",
   "language": "python",
   "name": "python2"
  },
  "language_info": {
   "codemirror_mode": {
    "name": "ipython",
    "version": 2
   },
   "file_extension": ".py",
   "mimetype": "text/x-python",
   "name": "python",
   "nbconvert_exporter": "python",
   "pygments_lexer": "ipython2",
   "version": "2.7.12"
  }
 },
 "nbformat": 4,
 "nbformat_minor": 2
}
