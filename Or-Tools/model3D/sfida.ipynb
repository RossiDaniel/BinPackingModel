{
 "cells": [
  {
   "cell_type": "code",
   "execution_count": 1,
   "metadata": {},
   "outputs": [],
   "source": [
    "import sys\n",
    "sys.path.append(\"/home/rossidaniel/Documenti/bin-packing/Python/\")\n",
    "sys.path.append(\"/home/rossidaniel/Documenti/bin-packing/\")\n",
    "sys.path.append(\"/home/rossidaniel/Dropbox\")\n",
    "sys.path.append(\"/home/rossidaniel/Documenti/bin-packing/Python\")"
   ]
  },
  {
   "cell_type": "code",
   "execution_count": 2,
   "metadata": {},
   "outputs": [],
   "source": [
    "import Bin_Packing_Py as BP\n",
    "import BP_print\n",
    "import BP_plot\n",
    "import BP_utilities\n",
    "import HA_routines\n",
    "import BP_instances\n",
    "\n",
    "import matplotlib\n",
    "%matplotlib nbagg\n",
    "matplotlib.rcParams['figure.figsize'] = [6,3.5]\n",
    "\n",
    "from ortools.linear_solver import pywraplp\n",
    "import random\n",
    "import time\n",
    "import csv\n",
    "\n",
    "import pandas as pd\n",
    "from sqlalchemy import create_engine\n",
    "from mail import send_mail\n",
    "from Test_BP_G import euristic"
   ]
  },
  {
   "cell_type": "code",
   "execution_count": 3,
   "metadata": {},
   "outputs": [],
   "source": [
    "def tc_sfida():\n",
    "    item_list = []\n",
    "    bin_list = []\n",
    "\n",
    "    bin_list.append(BP.Bin(2.70, 13.5, 2.45))\n",
    "    bin_list.append(BP.Bin(0, 0, 0))\n",
    "\n",
    "    n_items =random.randint(3,10)\n",
    "\n",
    "    for i in range(n_items):\n",
    "        w=random.uniform(0.5,2.45)\n",
    "        d=random.uniform(0.5,1)\n",
    "        h=random.uniform(0.5,1.5)\n",
    "        item = BP.Item(i,h,d,w)\n",
    "        item.stackable = random.randint(0,1)\n",
    "        item.order_id = random.randint(1,5)\n",
    "        item.weight = 4\n",
    "        item_list.append(item)\n",
    "\n",
    "    return item_list, bin_list"
   ]
  },
  {
   "cell_type": "code",
   "execution_count": 4,
   "metadata": {},
   "outputs": [],
   "source": [
    "def checkStable(s):\n",
    "    anchors = s.getAnchors(0)\n",
    "    for a in anchors:\n",
    "        eps = 1e-3\n",
    "\n",
    "        if a.pos.z == 0:\n",
    "            continue\n",
    "\n",
    "        contact_area = 0;\n",
    "\n",
    "        for b in anchors:\n",
    "            if (a.pos == b.pos):\n",
    "                continue\n",
    "            if (round(b.pos.z + b.item.height,3) + eps == round(a.pos.z,3)):\n",
    "                contact_area += a.getContactArea(a, b)\n",
    "            if (round(b.pos.z + b.item.height,3) - eps == round(a.pos.z,3)):\n",
    "                contact_area += a.getContactArea(a, b)\n",
    "            if (round(b.pos.z + b.item.height,3) == round(a.pos.z,3)):\n",
    "                contact_area += a.getContactArea(a, b)\n",
    "        if contact_area + eps < a.item.getBaseArea(): return False\n",
    "    return True"
   ]
  },
  {
   "cell_type": "code",
   "execution_count": 32,
   "metadata": {},
   "outputs": [],
   "source": [
    "def checkSequence(solution):\n",
    "    items =solution.getAnchors(0)\n",
    "    for i in items:\n",
    "        l,r,h = [0,0,0]\n",
    "        for j in items:\n",
    "            print i.item.id, j.item.id\n",
    "            if (i.item.order_id < j.item.order_id and i != j):\n",
    "                a_r = i.realDim()\n",
    "                b_r = j.realDim()\n",
    "\n",
    "                a_p = i.pos\n",
    "                b_p = j.pos    \n",
    "                \n",
    "                #il pacco i è al di sotto dell'oggetto j\n",
    "                if BP.Anchor.ProjectionCommonArea(i,j,BP.Direction.z) == True:\n",
    "                    if round(a_p.z,6) + round(a_r.height,6) <= round(b_p.z,6): l=1;r=1;h=1\n",
    "                #il pacco i è davanti o dietro il pacco j\n",
    "                if BP.Anchor.ProjectionCommonArea(i,j,BP.Direction.y) == True:\n",
    "                    if round(a_p.y,6) + round(a_r.depth,6) <= round(b_p.y,6): h+=1\n",
    "                #il pacco i è a sinistra o a destra del pacco j\n",
    "                if BP.Anchor.ProjectionCommonArea(i,j,BP.Direction.x) == True:\n",
    "                    if round(b_p.x,6) + round(b_r.width,6) <= round(a_p.x,6): l+=1 \n",
    "                    else: r +=1\n",
    "            print 'ciucia'    \n",
    "            print l,r,h\n",
    "            if l*r*h > 0: return 0\n",
    "    return 1"
   ]
  },
  {
   "cell_type": "code",
   "execution_count": 11,
   "metadata": {
    "scrolled": true
   },
   "outputs": [],
   "source": [
    "class model_bin_packing:\n",
    "    def __init__(self,item_list,bin_list):\n",
    "        self.bp = BP.BinPack()\n",
    "        self.bp.items.extend(item_list)\n",
    "        self.bp.bins.extend(bin_list)\n",
    "\n",
    "    def buildModel(self,amount_time=300000):\n",
    "        solver = pywraplp.Solver('Model3D', pywraplp.Solver.CBC_MIXED_INTEGER_PROGRAMMING)\n",
    "        #importo dimensioni dei pacchi e del camion\n",
    "        n=len(self.bp.items)\n",
    "\n",
    "        #print [self.bp.items[i].stackable for i in range(n)]\n",
    "        \n",
    "        w =[self.bp.items[i].width for i in range(n)]\n",
    "        d =[self.bp.items[i].depth for i in range(n)]\n",
    "        h =[self.bp.items[i].height for i in range(n)]\n",
    "        \n",
    "        W =self.bp.bins[0].width\n",
    "        D =solver.NumVar(0,sum([max(w[i],d[i]) for i in range(n)]),\"D\")\n",
    "        H =self.bp.bins[0].height\n",
    "\n",
    "        Mw=W+max(max(w),max(d))\n",
    "        Md=self.bp.bins[0].depth+max(max(w),max(d))\n",
    "        Mh=self.bp.bins[0].height+max(h)\n",
    "                \n",
    "        # definisco le variabili\n",
    "        l =[[solver.BoolVar(\"l%d%d\" % (i,j)) for i in range(n)] for j in range(n)]\n",
    "        b =[[solver.BoolVar(\"b%d%d\" % (i,j)) for i in range(n)] for j in range(n)]\n",
    "        t =[[solver.IntVar(0,self.bp.items[i].stackable,\"t%d%d\" % (i,j)) for j in range(n)] for i in range(n)]\n",
    "        f =[[solver.IntVar(0,self.bp.items[i].stackable,\"f%d%d\" % (i,j)) for j in range(n)] for i in range(n)]\n",
    "        k =[[solver.BoolVar(\"k%d%d\" % (i,j)) for j in range(n)] for i in range(n)]\n",
    "        r =[solver.BoolVar(\"r%d\" % (i)) for i in range(n)]\n",
    "\n",
    "        x =[solver.NumVar(0,solver.infinity(),\"x%d\" % i) for i in range(n)]\n",
    "        y =[solver.NumVar(0,solver.infinity(),\"y%d\" % i) for i in range(n)]\n",
    "        z =[solver.NumVar(0,solver.infinity(),\"z%d\" % i) for i in range(n)]\n",
    "        \n",
    "        #definisco i constraints\n",
    "        for i in range(n):\n",
    "            for j in range(n):\n",
    "                if(i < j):\n",
    "                    solver.Add(k[i][j] <= l[i][j] + l[j][i] + b[i][j] + b[j][i])\n",
    "                    solver.Add(2 * k[i][j] >= l[i][j] + l[j][i] + b[i][j] + b[j][i])\n",
    "                    solver.Add(1 - k[i][j] == t[i][j] + t[j][i])\n",
    "                if(i != j):\n",
    "                    solver.Add(x[i] - x[j] + Mw * l[i][j] <= Mw - w[i]*(1-r[i]) - d[i]*r[i])\n",
    "                    solver.Add(y[i] - y[j] + Md * b[i][j] <= Md - d[i]*(1-r[i]) - w[i]*r[i])\n",
    "                    \n",
    "                    solver.Add(x[i] - x[j] <= Mw * (1 - f[i][j]))\n",
    "                    solver.Add(y[i] - y[j] <= Md * (1 - f[i][j]))\n",
    "                    \n",
    "                    solver.Add(x[i] - x[j] + w[i]*(1-r[i]) + d[i]*r[i] - w[j]*(1-r[j]) - d[j]*r[j] >= - Mw * (1 - f[i][j]))\n",
    "                    solver.Add(y[i] - y[j] + d[i]*(1-r[i]) + w[i]*r[i] - d[j]*(1-r[j]) - w[j]*r[j] >= - Md * (1 - f[i][j]))\n",
    "\n",
    "                    solver.Add(z[i] - z[j] + Mh * t[i][j] <= Mh - h[i])\n",
    "                    solver.Add(z[i] - z[j] - Mh * f[i][j] >= - Mh - h[i])\n",
    "                    solver.Add(f[i][j] <= t[i][j])\n",
    "\n",
    "            solver.Add(x[i] + w[i]*(1-r[i]) + d[i]*r[i] <= W)\n",
    "            solver.Add(y[i] + d[i]*(1-r[i]) + w[i]*r[i] <= D)\n",
    "            solver.Add(z[i] + h[i] <= H)\n",
    "\n",
    "        for j in range(n):\n",
    "            solver.Add(solver.Sum([f[i][j] for i in range(n) if i!=j]) * Mh >= z[j])\n",
    "            \n",
    "        #funzione obiettivo\n",
    "        objective = solver.Objective()\n",
    "        objective.SetCoefficient(D,1)\n",
    "        objective.SetMinimization()\n",
    "\n",
    "        #soluzione\n",
    "        solver.SetTimeLimit(amount_time)\n",
    "        tm=time.time()\n",
    "        solver.Solve()\n",
    "        tm =time.time()-tm\n",
    "\n",
    "        s = BP.Solution(self.bp)\n",
    "        for i in range(len(self.bp.items)):\n",
    "            rt = False if r[i].solution_value() == 0 else True\n",
    "            s.pushItem(self.bp.items[i],0,BP.Point(x[i].solution_value(),y[i].solution_value(),z[i].solution_value()),rt,False)\n",
    "        return s,tm,w,d,h,n\n",
    "    \n",
    "    def BuildSolution(self,s):\n",
    "        print s\n",
    "    \n",
    "    def plotSolution(self,s):\n",
    "        BP_plot.plotSolution(s)\n",
    "    \n",
    "    def plot3Dsolution(self,s):\n",
    "        BP_plot.plot3DSolution(s,0)\n",
    "\n",
    "    def feasible(self):\n",
    "        return self.bp.bins[0].height*self.bp.bins[0].width >= sum([self.bp.items[i].width*self.bp.items[i].height for i in range(len(self.bp.items))])"
   ]
  },
  {
   "cell_type": "code",
   "execution_count": 12,
   "metadata": {},
   "outputs": [],
   "source": [
    "n_items = []\n",
    "Avg_w = []\n",
    "Avg_d = []\n",
    "Avg_a = []\n",
    "Time = []\n",
    "eu_obj = []\n",
    "mod_obj = []\n",
    "Avg_wd = []\n",
    "square_index = []\n",
    "feasible = []"
   ]
  },
  {
   "cell_type": "code",
   "execution_count": 13,
   "metadata": {},
   "outputs": [],
   "source": [
    "i = 0\n",
    "while True:\n",
    "    i += 1\n",
    "    items,bins=tc_sfida()\n",
    "    model = model_bin_packing(items,bins)\n",
    "    s,t,w,d,h,n=model.buildModel()\n",
    "    s.computeObj()\n",
    "    mod_obj.append(s.obj)\n",
    "    eu_obj.append(euristic(items,bins))\n",
    "    Time.append(round(t,3))\n",
    "    n_items.append(n)\n",
    "    feasible.append(checkStable(s))\n",
    "    if checkSequence(s) == False: break\n",
    "    if i >= 10: break"
   ]
  },
  {
   "cell_type": "code",
   "execution_count": 34,
   "metadata": {},
   "outputs": [
    {
     "name": "stdout",
     "output_type": "stream",
     "text": [
      "0 0\n",
      "ciucia\n",
      "0 0 0\n",
      "0 1\n",
      "ciucia\n",
      "1 1 1\n"
     ]
    },
    {
     "data": {
      "text/plain": [
       "0"
      ]
     },
     "execution_count": 34,
     "metadata": {},
     "output_type": "execute_result"
    }
   ],
   "source": [
    "checkSequence(s)"
   ]
  },
  {
   "cell_type": "code",
   "execution_count": 19,
   "metadata": {},
   "outputs": [
    {
     "data": {
      "image/png": "[encoded data removed]",
      "text/plain": [
       "<Figure size 432x288 with 1 Axes>"
      ]
     },
     "metadata": {
      "needs_background": "light"
     },
     "output_type": "display_data"
    }
   ],
   "source": [
    "BP_plot.plotSolution(s)"
   ]
  },
  {
   "cell_type": "code",
   "execution_count": 24,
   "metadata": {},
   "outputs": [
    {
     "data": {
      "image/png": "[encoded data removed]",
      "text/plain": [
       "<Figure size 432x288 with 1 Axes>"
      ]
     },
     "metadata": {
      "needs_background": "light"
     },
     "output_type": "display_data"
    }
   ],
   "source": [
    "BP_plot.plot3DSolution(s,0,3)"
   ]
  },
  {
   "cell_type": "code",
   "execution_count": 21,
   "metadata": {},
   "outputs": [
    {
     "name": "stdout",
     "output_type": "stream",
     "text": [
      "\n",
      "BIN: (w,d,h) = (2.45,13.5,2.7)\n",
      "[Anchors]:\n",
      "Point: (x,y,z) = (0.0,0.508198527124,0.0), Item: [0 (3)] (w,d,h) = (0.988734176028,0.891640868361,1.2533451662), weight = 4.0\n",
      "Point: (x,y,z) = (0.0,0.682573865882,1.78470682658), Item: [1 (5)] (w,d,h) = (0.520909938877,0.56961777811,0.81918742003), weight = 4.0\n",
      "Point: (x,y,z) = (0.0,1.39983939548,0.0), Item: [2 (3)] (w,d,h) = (2.17100720403,0.736231423688,0.603456589731), weight = 4.0\n",
      "Point: (x,y,z) = (0.0,0.508198527124,1.2533451662), Item: [3 (1)] (w,d,h) = (0.743993116868,0.609055433307,0.531361660379), weight = 4.0 [R] \n",
      "Point: (x,y,z) = (1.13985211105,0.508198527124,0.0), Item: [4 (2)] (w,d,h) = (1.31014788895,0.606623269235,0.826942379479), weight = 4.0\n",
      "Point: (x,y,z) = (0.0,0.0,0.0), Item: [5 (4)] (w,d,h) = (2.44279720628,0.508198527124,0.679007649759), weight = 4.0\n",
      "-----------\n",
      "[Extreme Points]:\n",
      "(x,y,z) = (0.0,0.0,0.0)\n",
      "-----------\n",
      "\n",
      "BIN: (w,d,h) = (0.0,0.0,0.0)\n",
      "[Anchors]:\n",
      "\n",
      "-----------\n",
      "[Extreme Points]:\n",
      "(x,y,z) = (0.0,0.0,0.0)\n",
      "-----------\n",
      "\n",
      "Feasibility: True \n",
      "Obj: 2.13607081917\n"
     ]
    }
   ],
   "source": [
    "print s"
   ]
  },
  {
   "cell_type": "code",
   "execution_count": 38,
   "metadata": {},
   "outputs": [],
   "source": [
    "dimensioni =pd.DataFrame({'n_items': n_items,'Eu obj': eu_obj,'Mod obj': mod_obj, 'Time': Time, 'Stable': feasible})"
   ]
  },
  {
   "cell_type": "code",
   "execution_count": 39,
   "metadata": {},
   "outputs": [],
   "source": [
    "dimensioni.to_excel('result.xlsx', encoding='utf8')\n",
    "dimensioni.to_latex('result.tex', encoding='utf8')\n",
    "dimensioni.to_csv('result.csv', encoding='utf8')"
   ]
  },
  {
   "cell_type": "code",
   "execution_count": 41,
   "metadata": {},
   "outputs": [
    {
     "data": {
      "text/html": [
       "<div>\n",
       "<style scoped>\n",
       "    .dataframe tbody tr th:only-of-type {\n",
       "        vertical-align: middle;\n",
       "    }\n",
       "\n",
       "    .dataframe tbody tr th {\n",
       "        vertical-align: top;\n",
       "    }\n",
       "\n",
       "    .dataframe thead th {\n",
       "        text-align: right;\n",
       "    }\n",
       "</style>\n",
       "<table border=\"1\" class=\"dataframe\">\n",
       "  <thead>\n",
       "    <tr style=\"text-align: right;\">\n",
       "      <th></th>\n",
       "      <th>Eu obj</th>\n",
       "      <th>Mod obj</th>\n",
       "      <th>Stable</th>\n",
       "      <th>Time</th>\n",
       "      <th>n_items</th>\n",
       "    </tr>\n",
       "  </thead>\n",
       "  <tbody>\n",
       "    <tr>\n",
       "      <th>0</th>\n",
       "      <td>4.014308</td>\n",
       "      <td>3.151733</td>\n",
       "      <td>True</td>\n",
       "      <td>8.385</td>\n",
       "      <td>7</td>\n",
       "    </tr>\n",
       "  </tbody>\n",
       "</table>\n",
       "</div>"
      ],
      "text/plain": [
       "     Eu obj   Mod obj  Stable   Time  n_items\n",
       "0  4.014308  3.151733    True  8.385        7"
      ]
     },
     "execution_count": 41,
     "metadata": {},
     "output_type": "execute_result"
    }
   ],
   "source": [
    "dimensioni"
   ]
  },
  {
   "cell_type": "code",
   "execution_count": null,
   "metadata": {},
   "outputs": [],
   "source": [
    "#send_mail()"
   ]
  },
  {
   "cell_type": "code",
   "execution_count": null,
   "metadata": {},
   "outputs": [],
   "source": []
  }
 ],
 "metadata": {
  "kernelspec": {
   "display_name": "Python 2",
   "language": "python",
   "name": "python2"
  },
  "language_info": {
   "codemirror_mode": {
    "name": "ipython",
    "version": 2
   },
   "file_extension": ".py",
   "mimetype": "text/x-python",
   "name": "python",
   "nbconvert_exporter": "python",
   "pygments_lexer": "ipython2",
   "version": "2.7.12"
  }
 },
 "nbformat": 4,
 "nbformat_minor": 2
}
