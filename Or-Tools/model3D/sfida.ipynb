{
 "cells": [
  {
   "cell_type": "code",
   "execution_count": 3,
   "metadata": {},
   "outputs": [],
   "source": [
    "import sys\n",
    "sys.path.append(\"/home/rossidaniel/Documenti/bin-packing/Python/\")\n",
    "sys.path.append(\"/home/rossidaniel/Documenti/bin-packing/\")\n",
    "sys.path.append(\"/home/rossidaniel/Dropbox\")\n",
    "sys.path.append(\"/home/rossidaniel/Documenti/bin-packing/Python\")"
   ]
  },
  {
   "cell_type": "code",
   "execution_count": 4,
   "metadata": {},
   "outputs": [],
   "source": [
    "import Bin_Packing_Py as BP\n",
    "import BP_print\n",
    "import BP_plot\n",
    "import BP_utilities\n",
    "import HA_routines\n",
    "import BP_instances\n",
    "\n",
    "import matplotlib\n",
    "%matplotlib nbagg\n",
    "matplotlib.rcParams['figure.figsize'] = [6,3.5]\n",
    "\n",
    "from ortools.linear_solver import pywraplp\n",
    "import random\n",
    "import time\n",
    "import csv\n",
    "\n",
    "import pandas as pd\n",
    "from sqlalchemy import create_engine\n",
    "from mail import send_mail\n",
    "from Test_BP_G import euristic"
   ]
  },
  {
   "cell_type": "code",
   "execution_count": 25,
   "metadata": {},
   "outputs": [],
   "source": [
    "def tc_sfida():\n",
    "    item_list = []\n",
    "    bin_list = []\n",
    "\n",
    "    bin_list.append(BP.Bin(2.70, 13.5, 2.45))\n",
    "    bin_list.append(BP.Bin(0, 0, 0))\n",
    "\n",
    "    n_items =random.randint(3,10)\n",
    "\n",
    "    for i in range(n_items):\n",
    "        w=random.uniform(0.5,2.45)\n",
    "        d=random.uniform(0.5,1)\n",
    "        h=random.uniform(0.5,1.5)\n",
    "        item = BP.Item(i,h,d,w)\n",
    "        item.stackable = random.randint(0,1)\n",
    "        item.order_id = random.randint(1,5)\n",
    "        item.weight = 4\n",
    "        item_list.append(item)\n",
    "\n",
    "    return item_list, bin_list"
   ]
  },
  {
   "cell_type": "code",
   "execution_count": 26,
   "metadata": {},
   "outputs": [],
   "source": [
    "def checkStable(s):\n",
    "    anchors = s.getAnchors(0)\n",
    "    for a in anchors:\n",
    "        eps = 1e-3\n",
    "\n",
    "        if a.pos.z == 0:\n",
    "            continue\n",
    "\n",
    "        contact_area = 0;\n",
    "\n",
    "        for b in anchors:\n",
    "            if (a.pos == b.pos):\n",
    "                continue\n",
    "            if (round(b.pos.z + b.item.height,3) + eps == round(a.pos.z,3)):\n",
    "                contact_area += a.getContactArea(a, b)\n",
    "            if (round(b.pos.z + b.item.height,3) - eps == round(a.pos.z,3)):\n",
    "                contact_area += a.getContactArea(a, b)\n",
    "            if (round(b.pos.z + b.item.height,3) == round(a.pos.z,3)):\n",
    "                contact_area += a.getContactArea(a, b)\n",
    "        if contact_area + eps < a.item.getBaseArea(): return False\n",
    "    return True"
   ]
  },
  {
   "cell_type": "code",
   "execution_count": 42,
   "metadata": {},
   "outputs": [],
   "source": [
    "def rw(it):\n",
    "    return it.realDim().width*it.item.rotation + it.realDim().depth*(1-it.item.rotation)\n",
    "def rd(it):\n",
    "    return it.realDim().depth*it.item.rotation + it.realDim().width*(1-it.item.rotation)\n",
    "def lateral(i,j,items):\n",
    "    return 0 if(round(items[j].pos.y,6) >= round(items[i].pos.y,6) + round(rd(items[i]),6)) else 1\n",
    "def check(i,j,items):\n",
    "    if round(items[j].pos.y,6) + round(rd(items[j]),6) <= round(items[i].pos.y,6):\n",
    "        return 0,0,0\n",
    "    if round(items[j].pos.z,6) + round(rd(items[j].height),6) <= round(items[i].pos.z,6):\n",
    "        return 0,0,0\n",
    "    if items[j].getContactArea(items[j], items[i]) >= 0: return 1,1,1\n",
    "    if(round(items[j].pos.x,6) + round(rw(items[j]),6) <= round(items[i].pos.x,6)):\n",
    "        n= lateral(i,j,items)\n",
    "        return n,0,0\n",
    "    if(round(items[j].pos.x,6) >= round(items[i].pos.x,6) + round(rw(items[i]),6)):\n",
    "        n= lateral(i,j,items)\n",
    "        return 0,n,0\n",
    "    \n",
    "    return 0,0,1\n",
    "def choose(i, items):\n",
    "    left = 0\n",
    "    right = 0\n",
    "    high = 0\n",
    "    l = 0\n",
    "    r = 0\n",
    "    h = 0\n",
    "    for j in range(len(items)):\n",
    "        if (items[i].item.order_id < items[j].item.order_id and i != j):\n",
    "            #print \"\"\n",
    "            #print 'i_d:',items[i].item.order_id ,' j_d:', items[j].item.order_id ,' i:', i ,' j:', j\n",
    "            l,r,h = check(i,j,items)\n",
    "\n",
    "            #if l == True : print j,' è a sinistra di ',i\n",
    "            #if r == True : print j,' è a destra di ',i\n",
    "            #if h == True : print j,' è a sopra di ',i\n",
    "\n",
    "            left += l\n",
    "            right += r\n",
    "            high += h\n",
    "\n",
    "    if left >0 and right > 0 and high > 0: print i; return False\n",
    "    return True\n",
    "def isfeasibleorder(solution):\n",
    "    items =solution.getAnchors(0)\n",
    "    for i in range(len(items)):\n",
    "        if choose(i,items) == False: return 0\n",
    "    return 1"
   ]
  },
  {
   "cell_type": "code",
   "execution_count": 28,
   "metadata": {
    "scrolled": true
   },
   "outputs": [],
   "source": [
    "class model_bin_packing:\n",
    "    def __init__(self,item_list,bin_list):\n",
    "        self.bp = BP.BinPack()\n",
    "        self.bp.items.extend(item_list)\n",
    "        self.bp.bins.extend(bin_list)\n",
    "\n",
    "    def buildModel(self,amount_time=300000):\n",
    "        solver = pywraplp.Solver('Model3D', pywraplp.Solver.CBC_MIXED_INTEGER_PROGRAMMING)\n",
    "        #importo dimensioni dei pacchi e del camion\n",
    "        n=len(self.bp.items)\n",
    "\n",
    "        #print [self.bp.items[i].stackable for i in range(n)]\n",
    "        \n",
    "        w =[self.bp.items[i].width for i in range(n)]\n",
    "        d =[self.bp.items[i].depth for i in range(n)]\n",
    "        h =[self.bp.items[i].height for i in range(n)]\n",
    "        \n",
    "        W =self.bp.bins[0].width\n",
    "        D =solver.NumVar(0,sum([max(w[i],d[i]) for i in range(n)]),\"D\")\n",
    "        H =self.bp.bins[0].height\n",
    "\n",
    "        Mw=W+max(max(w),max(d))\n",
    "        Md=self.bp.bins[0].depth+max(max(w),max(d))\n",
    "        Mh=self.bp.bins[0].height+max(h)\n",
    "                \n",
    "        # definisco le variabili\n",
    "        l =[[solver.BoolVar(\"l%d%d\" % (i,j)) for i in range(n)] for j in range(n)]\n",
    "        b =[[solver.BoolVar(\"b%d%d\" % (i,j)) for i in range(n)] for j in range(n)]\n",
    "        t =[[solver.IntVar(0,self.bp.items[i].stackable,\"t%d%d\" % (i,j)) for j in range(n)] for i in range(n)]\n",
    "        f =[[solver.IntVar(0,self.bp.items[i].stackable,\"f%d%d\" % (i,j)) for j in range(n)] for i in range(n)]\n",
    "        k =[[solver.BoolVar(\"k%d%d\" % (i,j)) for j in range(n)] for i in range(n)]\n",
    "        r =[solver.BoolVar(\"r%d\" % (i)) for i in range(n)]\n",
    "\n",
    "        x =[solver.NumVar(0,solver.infinity(),\"x%d\" % i) for i in range(n)]\n",
    "        y =[solver.NumVar(0,solver.infinity(),\"y%d\" % i) for i in range(n)]\n",
    "        z =[solver.NumVar(0,solver.infinity(),\"z%d\" % i) for i in range(n)]\n",
    "        \n",
    "        #definisco i constraints\n",
    "        for i in range(n):\n",
    "            for j in range(n):\n",
    "                if(i < j):\n",
    "                    solver.Add(k[i][j] <= l[i][j] + l[j][i] + b[i][j] + b[j][i])\n",
    "                    solver.Add(2 * k[i][j] >= l[i][j] + l[j][i] + b[i][j] + b[j][i])\n",
    "                    solver.Add(1 - k[i][j] == t[i][j] + t[j][i])\n",
    "                if(i != j):\n",
    "                    solver.Add(x[i] - x[j] + Mw * l[i][j] <= Mw - w[i]*(1-r[i]) - d[i]*r[i])\n",
    "                    solver.Add(y[i] - y[j] + Md * b[i][j] <= Md - d[i]*(1-r[i]) - w[i]*r[i])\n",
    "                    \n",
    "                    solver.Add(x[i] - x[j] <= Mw * (1 - f[i][j]))\n",
    "                    solver.Add(y[i] - y[j] <= Md * (1 - f[i][j]))\n",
    "                    \n",
    "                    solver.Add(x[i] - x[j] + w[i]*(1-r[i]) + d[i]*r[i] - w[j]*(1-r[j]) - d[j]*r[j] >= - Mw * (1 - f[i][j]))\n",
    "                    solver.Add(y[i] - y[j] + d[i]*(1-r[i]) + w[i]*r[i] - d[j]*(1-r[j]) - w[j]*r[j] >= - Md * (1 - f[i][j]))\n",
    "\n",
    "                    solver.Add(z[i] - z[j] + Mh * t[i][j] <= Mh - h[i])\n",
    "                    solver.Add(z[i] - z[j] - Mh * f[i][j] >= - Mh - h[i])\n",
    "                    solver.Add(f[i][j] <= t[i][j])\n",
    "\n",
    "            solver.Add(x[i] + w[i]*(1-r[i]) + d[i]*r[i] <= W)\n",
    "            solver.Add(y[i] + d[i]*(1-r[i]) + w[i]*r[i] <= D)\n",
    "            solver.Add(z[i] + h[i] <= H)\n",
    "\n",
    "        for j in range(n):\n",
    "            solver.Add(solver.Sum([f[i][j] for i in range(n) if i!=j]) * Mh >= z[j])\n",
    "            \n",
    "        #funzione obiettivo\n",
    "        objective = solver.Objective()\n",
    "        objective.SetCoefficient(D,1)\n",
    "        objective.SetMinimization()\n",
    "\n",
    "        #soluzione\n",
    "        solver.SetTimeLimit(amount_time)\n",
    "        tm=time.time()\n",
    "        solver.Solve()\n",
    "        tm =time.time()-tm\n",
    "\n",
    "        s = BP.Solution(self.bp)\n",
    "        for i in range(len(self.bp.items)):\n",
    "            rt = False if r[i].solution_value() == 0 else True\n",
    "            s.pushItem(self.bp.items[i],0,BP.Point(x[i].solution_value(),y[i].solution_value(),z[i].solution_value()),rt,False)\n",
    "        return s,tm,w,d,h,n\n",
    "    \n",
    "    def BuildSolution(self,s):\n",
    "        print s\n",
    "    \n",
    "    def plotSolution(self,s):\n",
    "        BP_plot.plotSolution(s)\n",
    "    \n",
    "    def plot3Dsolution(self,s):\n",
    "        BP_plot.plot3DSolution(s,0)\n",
    "\n",
    "    def feasible(self):\n",
    "        return self.bp.bins[0].height*self.bp.bins[0].width >= sum([self.bp.items[i].width*self.bp.items[i].height for i in range(len(self.bp.items))])"
   ]
  },
  {
   "cell_type": "code",
   "execution_count": 29,
   "metadata": {},
   "outputs": [],
   "source": [
    "n_items = []\n",
    "Avg_w = []\n",
    "Avg_d = []\n",
    "Avg_a = []\n",
    "Time = []\n",
    "eu_obj = []\n",
    "mod_obj = []\n",
    "Avg_wd = []\n",
    "square_index = []\n",
    "feasible = []"
   ]
  },
  {
   "cell_type": "code",
   "execution_count": 30,
   "metadata": {},
   "outputs": [
    {
     "name": "stdout",
     "output_type": "stream",
     "text": [
      "0\n"
     ]
    }
   ],
   "source": [
    "i = 0\n",
    "while True:\n",
    "    i += 1\n",
    "    items,bins=tc_sfida()\n",
    "    model = model_bin_packing(items,bins)\n",
    "    s,t,w,d,h,n=model.buildModel()\n",
    "    s.computeObj()\n",
    "    mod_obj.append(s.obj)\n",
    "    eu_obj.append(euristic(items,bins))\n",
    "    Time.append(round(t,3))\n",
    "    n_items.append(n)\n",
    "    feasible.append(checkStable(s))\n",
    "    if isfeasibleorder(s) == False: break\n",
    "    if i >= 10: break"
   ]
  },
  {
   "cell_type": "code",
   "execution_count": 34,
   "metadata": {},
   "outputs": [
    {
     "data": {
      "image/png": "[encoded data removed]",
      "text/plain": [
       "<Figure size 432x288 with 1 Axes>"
      ]
     },
     "metadata": {
      "needs_background": "light"
     },
     "output_type": "display_data"
    }
   ],
   "source": [
    "BP_plot.plotSolution(s)"
   ]
  },
  {
   "cell_type": "code",
   "execution_count": 35,
   "metadata": {},
   "outputs": [
    {
     "data": {
      "image/png": "[encoded data removed]",
      "text/plain": [
       "<Figure size 432x288 with 1 Axes>"
      ]
     },
     "metadata": {
      "needs_background": "light"
     },
     "output_type": "display_data"
    }
   ],
   "source": [
    "BP_plot.plot3DSolution(s,0)"
   ]
  },
  {
   "cell_type": "code",
   "execution_count": 37,
   "metadata": {},
   "outputs": [
    {
     "name": "stdout",
     "output_type": "stream",
     "text": [
      "\n",
      "BIN: (w,d,h) = (2.45,13.5,2.7)\n",
      "[Anchors]:\n",
      "Point: (x,y,z) = (0.02072785574,0.0,0.0), Item: [0 (2)] (w,d,h) = (2.42927214426,0.841516399328,1.30634542358), weight = 4.0\n",
      "Point: (x,y,z) = (0.0,2.28041530461,0.0), Item: [1 (1)] (w,d,h) = (0.983354109519,0.87131818373,0.904061125091), weight = 4.0\n",
      "Point: (x,y,z) = (1.45545778534,2.28041530461,0.0), Item: [2 (3)] (w,d,h) = (0.994542214658,0.815544462341,0.561168924177), weight = 4.0\n",
      "Point: (x,y,z) = (0.0,0.841516399328,0.0), Item: [3 (3)] (w,d,h) = (1.95542192523,0.669407925216,0.730263368739), weight = 4.0\n",
      "Point: (x,y,z) = (0.0,1.51092432454,0.0), Item: [4 (5)] (w,d,h) = (2.35911750299,0.769490980065,1.1939811394), weight = 4.0\n",
      "Point: (x,y,z) = (0.714479711198,0.986185787166,0.730263368739), Item: [5 (2)] (w,d,h) = (1.23278700286,0.524738537379,0.980732524007), weight = 4.0\n",
      "Point: (x,y,z) = (0.0,0.944103708576,0.730263368739), Item: [6 (4)] (w,d,h) = (0.714479711198,0.566820615968,1.47388000416), weight = 4.0\n",
      "-----------\n",
      "[Extreme Points]:\n",
      "(x,y,z) = (0.0,0.0,0.0)\n",
      "-----------\n",
      "\n",
      "BIN: (w,d,h) = (0.0,0.0,0.0)\n",
      "[Anchors]:\n",
      "\n",
      "-----------\n",
      "[Extreme Points]:\n",
      "(x,y,z) = (0.0,0.0,0.0)\n",
      "-----------\n",
      "\n",
      "Feasibility: True \n",
      "Obj: 3.15173348834\n"
     ]
    }
   ],
   "source": [
    "print s"
   ]
  },
  {
   "cell_type": "code",
   "execution_count": 38,
   "metadata": {},
   "outputs": [],
   "source": [
    "dimensioni =pd.DataFrame({'n_items': n_items,'Eu obj': eu_obj,'Mod obj': mod_obj, 'Time': Time, 'Stable': feasible})"
   ]
  },
  {
   "cell_type": "code",
   "execution_count": 39,
   "metadata": {},
   "outputs": [],
   "source": [
    "dimensioni.to_excel('result.xlsx', encoding='utf8')\n",
    "dimensioni.to_latex('result.tex', encoding='utf8')\n",
    "dimensioni.to_csv('result.csv', encoding='utf8')"
   ]
  },
  {
   "cell_type": "code",
   "execution_count": 41,
   "metadata": {},
   "outputs": [
    {
     "data": {
      "text/html": [
       "<div>\n",
       "<style scoped>\n",
       "    .dataframe tbody tr th:only-of-type {\n",
       "        vertical-align: middle;\n",
       "    }\n",
       "\n",
       "    .dataframe tbody tr th {\n",
       "        vertical-align: top;\n",
       "    }\n",
       "\n",
       "    .dataframe thead th {\n",
       "        text-align: right;\n",
       "    }\n",
       "</style>\n",
       "<table border=\"1\" class=\"dataframe\">\n",
       "  <thead>\n",
       "    <tr style=\"text-align: right;\">\n",
       "      <th></th>\n",
       "      <th>Eu obj</th>\n",
       "      <th>Mod obj</th>\n",
       "      <th>Stable</th>\n",
       "      <th>Time</th>\n",
       "      <th>n_items</th>\n",
       "    </tr>\n",
       "  </thead>\n",
       "  <tbody>\n",
       "    <tr>\n",
       "      <th>0</th>\n",
       "      <td>4.014308</td>\n",
       "      <td>3.151733</td>\n",
       "      <td>True</td>\n",
       "      <td>8.385</td>\n",
       "      <td>7</td>\n",
       "    </tr>\n",
       "  </tbody>\n",
       "</table>\n",
       "</div>"
      ],
      "text/plain": [
       "     Eu obj   Mod obj  Stable   Time  n_items\n",
       "0  4.014308  3.151733    True  8.385        7"
      ]
     },
     "execution_count": 41,
     "metadata": {},
     "output_type": "execute_result"
    }
   ],
   "source": [
    "dimensioni"
   ]
  },
  {
   "cell_type": "code",
   "execution_count": null,
   "metadata": {},
   "outputs": [],
   "source": [
    "#send_mail()"
   ]
  },
  {
   "cell_type": "code",
   "execution_count": null,
   "metadata": {},
   "outputs": [],
   "source": []
  }
 ],
 "metadata": {
  "kernelspec": {
   "display_name": "Python 2",
   "language": "python",
   "name": "python2"
  },
  "language_info": {
   "codemirror_mode": {
    "name": "ipython",
    "version": 2
   },
   "file_extension": ".py",
   "mimetype": "text/x-python",
   "name": "python",
   "nbconvert_exporter": "python",
   "pygments_lexer": "ipython2",
   "version": "2.7.12"
  }
 },
 "nbformat": 4,
 "nbformat_minor": 2
}
