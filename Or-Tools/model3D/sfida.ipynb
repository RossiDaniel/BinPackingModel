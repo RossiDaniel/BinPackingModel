{
 "cells": [
  {
   "cell_type": "code",
   "execution_count": 1,
   "metadata": {},
   "outputs": [],
   "source": [
    "import sys\n",
    "sys.path.append(\"/home/rossidaniel/Documenti/bin-packing/Python/\")\n",
    "sys.path.append(\"/home/rossidaniel/Documenti/bin-packing/\")\n",
    "sys.path.append(\"/home/rossidaniel/Dropbox\")\n",
    "sys.path.append(\"/home/rossidaniel/Documenti/bin-packing/Python\")"
   ]
  },
  {
   "cell_type": "code",
   "execution_count": 2,
   "metadata": {},
   "outputs": [],
   "source": [
    "import Bin_Packing_Py as BP\n",
    "import BP_print\n",
    "import BP_plot\n",
    "import BP_utilities\n",
    "import HA_routines\n",
    "import BP_instances\n",
    "\n",
    "import matplotlib\n",
    "%matplotlib nbagg\n",
    "matplotlib.rcParams['figure.figsize'] = [6,3.5]\n",
    "\n",
    "from ortools.linear_solver import pywraplp\n",
    "import random\n",
    "import time\n",
    "import csv\n",
    "\n",
    "import pandas as pd\n",
    "from sqlalchemy import create_engine\n",
    "from mail import send_mail\n",
    "from Test_BP_G import euristic"
   ]
  },
  {
   "cell_type": "code",
   "execution_count": 3,
   "metadata": {
    "scrolled": true
   },
   "outputs": [],
   "source": [
    "class model_bin_packing:\n",
    "    def __init__(self,item_list,bin_list):\n",
    "        self.bp = BP.BinPack()\n",
    "        self.bp.items.extend(item_list)\n",
    "        self.bp.bins.extend(bin_list)\n",
    "\n",
    "    def buildModel(self,amount_time=30000):\n",
    "        solver = pywraplp.Solver('Model3D', pywraplp.Solver.CBC_MIXED_INTEGER_PROGRAMMING)\n",
    "        #importo dimensioni dei pacchi e del camion\n",
    "        n=len(self.bp.items)\n",
    "\n",
    "        w =[self.bp.items[i].width for i in range(n)]\n",
    "        d =[self.bp.items[i].depth for i in range(n)]\n",
    "        h =[self.bp.items[i].height for i in range(n)]\n",
    "        \n",
    "        W =self.bp.bins[0].width\n",
    "        D =solver.NumVar(0,sum([max(w[i],d[i]) for i in range(n)]),\"D\")\n",
    "        H =self.bp.bins[0].height\n",
    "\n",
    "        Mw=W+max(max(w),max(d))\n",
    "        Md=self.bp.bins[0].depth+max(max(w),max(d))\n",
    "        Mh=self.bp.bins[0].height+max(h)\n",
    "                \n",
    "        # definisco le variabili\n",
    "        l =[[solver.BoolVar(\"l%d%d\" % (i,j)) for i in range(n)] for j in range(n)]\n",
    "        b =[[solver.BoolVar(\"b%d%d\" % (i,j)) for i in range(n)] for j in range(n)]\n",
    "        t =[[solver.IntVar(0,self.bp.items[i].stackable,\"t%d%d\" % (i,j)) for j in range(n)] for i in range(n)]\n",
    "        f =[[solver.IntVar(0,self.bp.items[i].stackable,\"f%d%d\" % (i,j)) for j in range(n)] for i in range(n)]\n",
    "        k =[[solver.BoolVar(\"k%d%d\" % (i,j)) for j in range(n)] for i in range(n)]\n",
    "        r =[solver.BoolVar(\"r%d\" % (i)) for i in range(n)]\n",
    "\n",
    "        x =[solver.NumVar(0,solver.infinity(),\"x%d\" % i) for i in range(n)]\n",
    "        y =[solver.NumVar(0,solver.infinity(),\"y%d\" % i) for i in range(n)]\n",
    "        z =[solver.NumVar(0,solver.infinity(),\"z%d\" % i) for i in range(n)]\n",
    "        \n",
    "        #definisco i constraints\n",
    "        for i in range(n):\n",
    "            for j in range(n):\n",
    "                if(i < j):\n",
    "                    solver.Add(k[i][j] <= l[i][j] + l[j][i] + b[i][j] + b[j][i])\n",
    "                    solver.Add(2 * k[i][j] >= l[i][j] + l[j][i] + b[i][j] + b[j][i])\n",
    "                    solver.Add(1 - k[i][j] == t[i][j] + t[j][i])\n",
    "                if(i != j):\n",
    "                    solver.Add(x[i] - x[j] + Mw * l[i][j] <= Mw - w[i]*(1-r[i]) - d[i]*r[i])\n",
    "                    solver.Add(y[i] - y[j] + Md * b[i][j] <= Md - d[i]*(1-r[i]) - w[i]*r[i])\n",
    "                    \n",
    "                    solver.Add(x[i] - x[j] + Mw * l[i][j] + w[i]*(1-r[i])/2 + d[i]*r[i]/2 >= 0)   \n",
    "                    solver.Add(y[i] - y[j] + Md * b[i][j] + d[i]*(1-r[i])/2 + w[i]*r[i]/2 >= 0)\n",
    "                    \n",
    "                    solver.Add(z[i] - z[j] + Mh * t[i][j] <= Mh - h[i])\n",
    "                    solver.Add(z[i] - z[j] - Mh * f[i][j] >= - Mh - h[i])\n",
    "                    solver.Add(f[i][j] <= t[i][j])\n",
    "\n",
    "            solver.Add(x[i] + w[i]*(1-r[i]) + d[i]*r[i] <= W)\n",
    "            solver.Add(y[i] + d[i]*(1-r[i]) + w[i]*r[i] <= D)\n",
    "            solver.Add(z[i] + h[i] <= H)\n",
    "\n",
    "        for j in range(n):\n",
    "            solver.Add(solver.Sum([f[i][j] for i in range(n) if i!=j]) * Mh >= z[j])\n",
    "            \n",
    "        #funzione obiettivo\n",
    "        objective = solver.Objective()\n",
    "        objective.SetCoefficient(D,1)\n",
    "        objective.SetMinimization()\n",
    "\n",
    "        #soluzione\n",
    "        solver.SetTimeLimit(amount_time)\n",
    "        tm=time.time()\n",
    "        solver.Solve()\n",
    "        tm =time.time()-tm\n",
    "\n",
    "        s = BP.Solution(self.bp)\n",
    "        for i in range(len(self.bp.items)):\n",
    "            rt = False if r[i].solution_value() == 0 else True\n",
    "            s.pushItem(self.bp.items[i],0,BP.Point(x[i].solution_value(),y[i].solution_value(),z[i].solution_value()),rt,False)\n",
    "        return s,tm,w,d,h,n\n",
    "    \n",
    "    def BuildSolution(self,s):\n",
    "        print s\n",
    "    \n",
    "    def plotSolution(self,s):\n",
    "        BP_plot.plotSolution(s)\n",
    "    \n",
    "    def plot3Dsolution(self,s):\n",
    "        BP_plot.plot3DSolution(s,0)\n",
    "\n",
    "    def feasible(self):\n",
    "        return self.bp.bins[0].height*self.bp.bins[0].width >= sum([self.bp.items[i].width*self.bp.items[i].height for i in range(len(self.bp.items))])"
   ]
  },
  {
   "cell_type": "code",
   "execution_count": 4,
   "metadata": {},
   "outputs": [],
   "source": [
    "n_items = []\n",
    "Avg_w = []\n",
    "Avg_d = []\n",
    "Avg_a = []\n",
    "Time = []\n",
    "eu_obj = []\n",
    "mod_obj = []\n",
    "Avg_wd = []\n",
    "square_index = []\n",
    "feasible = []"
   ]
  },
  {
   "cell_type": "code",
   "execution_count": null,
   "metadata": {
    "scrolled": false
   },
   "outputs": [
    {
     "name": "stdout",
     "output_type": "stream",
     "text": [
      "0\n"
     ]
    }
   ],
   "source": [
    "for i in range(10):\n",
    "    if (i % 25 == 0): print i\n",
    "    items,bins=BP_instances.tc_sfida()\n",
    "    model = model_bin_packing(items,bins)\n",
    "    s,t,w,d,h,n=model.buildModel()\n",
    "    s.computeObj()\n",
    "    mod_obj.append(s.obj)\n",
    "    eu_obj.append(euristic(items,bins))\n",
    "    Time.append(round(t,3))\n",
    "    Avg_w.append(round(sum(w)/n,3))\n",
    "    Avg_d.append(round(sum(d)/n,3))\n",
    "    square_index.append((min(Avg_w[i],Avg_d[i])/max(Avg_w[i],Avg_d[i])*100))\n",
    "    A = [w[i]*d[i] for i in range(n)]\n",
    "    Avg_a.append(sum(A)/n)\n",
    "    n_items.append(n)\n",
    "    feasible.append(min([s.checkStable(i,0) for i in s.getAnchors(0)]))"
   ]
  },
  {
   "cell_type": "code",
   "execution_count": null,
   "metadata": {},
   "outputs": [],
   "source": [
    "dimensioni =pd.DataFrame({'n_items': n_items, 'Square_index': square_index, 'Avg width': Avg_w,'Avg depth': Avg_d,'Avg Area': Avg_a,'Eu obj': eu_obj,'Mod obj': mod_obj, 'Time': Time, 'Stable': feasible})"
   ]
  },
  {
   "cell_type": "code",
   "execution_count": null,
   "metadata": {},
   "outputs": [],
   "source": [
    "dimensioni.to_excel('result.xlsx', encoding='utf8')\n",
    "dimensioni.to_latex('result.tex', encoding='utf8')\n",
    "dimensioni.to_csv('result.csv', encoding='utf8')"
   ]
  },
  {
   "cell_type": "code",
   "execution_count": null,
   "metadata": {},
   "outputs": [],
   "source": [
    "dimensioni"
   ]
  },
  {
   "cell_type": "code",
   "execution_count": null,
   "metadata": {},
   "outputs": [],
   "source": [
    "send_mail()"
   ]
  },
  {
   "cell_type": "code",
   "execution_count": null,
   "metadata": {},
   "outputs": [],
   "source": []
  }
 ],
 "metadata": {
  "kernelspec": {
   "display_name": "Python 2",
   "language": "python",
   "name": "python2"
  },
  "language_info": {
   "codemirror_mode": {
    "name": "ipython",
    "version": 2
   },
   "file_extension": ".py",
   "mimetype": "text/x-python",
   "name": "python",
   "nbconvert_exporter": "python",
   "pygments_lexer": "ipython2",
   "version": "2.7.12"
  }
 },
 "nbformat": 4,
 "nbformat_minor": 2
}
