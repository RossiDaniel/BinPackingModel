{
 "cells": [
  {
   "cell_type": "code",
   "execution_count": 120,
   "metadata": {},
   "outputs": [],
   "source": [
    "import matplotlib.pyplot as plt\n",
    "from matplotlib.patches import Rectangle\n",
    "from matplotlib.collections import PatchCollection\n",
    "from ortools.linear_solver import pywraplp\n",
    "import timeit\n",
    "import random\n",
    "import time"
   ]
  },
  {
   "cell_type": "code",
   "execution_count": 127,
   "metadata": {},
   "outputs": [],
   "source": [
    "def model(packages,cargo):\n",
    "    solver = pywraplp.Solver('Model2DR', pywraplp.Solver.CBC_MIXED_INTEGER_PROGRAMMING)\n",
    "    # importo dimensioni dei pacchi e del camion\n",
    "    n=len(packages)\n",
    "\n",
    "    w =[packages[i].getW() for i in range(n)]\n",
    "    d =[packages[i].getD() for i in range(n)]\n",
    "\n",
    "    print(w)\n",
    "    print(d)\n",
    "\n",
    "    W =cargo.getW()\n",
    "    D =solver.IntVar(0,solver.infinity(),\"D\")\n",
    "\n",
    "    Md=sum(d)\n",
    "    Mw=W+min(w)\n",
    "\n",
    "    # definisco le variabili\n",
    "    l =[[solver.BoolVar(\"l%d%d\" % (i,j)) for i in range(n)] for j in range(n)]\n",
    "    b =[[solver.BoolVar(\"b%d%d\" % (i,j)) for i in range(n)] for j in range(n)]\n",
    "    r =[solver.BoolVar(\"r%d\" % (i)) for i in range(n)]\n",
    "\n",
    "    x =[solver.IntVar(0,solver.infinity(),\"x%d\" % i) for i in range(n)]\n",
    "    y =[solver.IntVar(0,solver.infinity(),\"y%d\" % i) for i in range(n)]\n",
    "\n",
    "\n",
    "\n",
    "    # definisco i constraints\n",
    "    for i in range(n):\n",
    "        for j in range(n):\n",
    "            if(i < j):\n",
    "                solver.Add(l[i][j] + l[j][i] + b[i][j] + b[j][i] >= 1)                           #(1)\n",
    "            if(i != j):\n",
    "                solver.Add(x[i] - x[j] + Mw * l[i][j] <= Mw - w[i]*(1-r[i]) - d[i]*r[i])         #(2)\n",
    "                solver.Add(y[i] - y[j] + Md * b[i][j] <= Md - d[i]*(1-r[i]) - w[i]*r[i])         #(3)\n",
    "        solver.Add(x[i] + w[i]*(1-r[i]) + d[i]*r[i] <= W)                                        #(4)\n",
    "        solver.Add(y[i] + d[i]*(1-r[i]) + w[i]*r[i] <= D)                                        #(5)\n",
    "\n",
    "    #funzione obiettivo\n",
    "    objective = solver.Objective()\n",
    "    objective.SetCoefficient(D,1)\n",
    "    objective.SetMinimization()\n",
    "\n",
    "    #soluzione\n",
    "    solver.SetTimeLimit(20000)\n",
    "    solver.Solve()\n",
    "\n",
    "    #lista soluzioni\n",
    "    s = []\n",
    "    for i in range(n):\n",
    "        s.append([x[i].solution_value(), y[i].solution_value(), i, r[i].solution_value()])\n",
    "    return s"
   ]
  },
  {
   "cell_type": "code",
   "execution_count": 128,
   "metadata": {},
   "outputs": [],
   "source": [
    "def plotSolution(solution, camion, packages):\n",
    "    boxes = []\n",
    "\n",
    "    width = [p.dimensioni[0] for p in packages]\n",
    "    depth = [p.dimensioni[1] for p in packages]\n",
    "    print width\n",
    "    #bin\n",
    "    container = Rectangle((0,0), camion.dimensioni[1], camion.dimensioni[0], facecolor='white')\n",
    "    boxes.append(container)\n",
    "\n",
    "    #items\n",
    "    for a in solution:\n",
    "        w =width[a[2]] if a[3] == 0 else depth[a[2]]\n",
    "        #print width[a[2]],w,a[3]\n",
    "        d = depth[a[2]] if a[3] == 0 else width[a[2]]\n",
    "        box = Rectangle((a[1],a[0]), d, w, facecolor='r')\n",
    "        boxes.append(box)\n",
    "    #plot\n",
    "    facecolors = [b.get_facecolor() for b in boxes]\n",
    "\n",
    "    collection = PatchCollection(boxes, facecolor=facecolors, alpha=0.4, edgecolor='black', linewidths=2)\n",
    "\n",
    "    ax = plt.gca(xlabel='depth',ylabel='width')\n",
    "    ax.add_collection(collection)\n",
    "    ax.autoscale_view()\n",
    "    ax.axis('equal')\n",
    "    plt.draw_if_interactive()"
   ]
  },
  {
   "cell_type": "code",
   "execution_count": 129,
   "metadata": {},
   "outputs": [],
   "source": [
    "def main():\n",
    "    packages =[]\n",
    "    for i in range(0,7):\n",
    "        w=120\n",
    "        d=80\n",
    "        packages.append(box([w,d]))\n",
    "    camion =cargo([250,1350])\n",
    "    t=time.time()\n",
    "    s =model(packages,camion)\n",
    "    print s\n",
    "    plotSolution(s,camion,packages)\n",
    "    t=time.time()-t\n",
    "    print(t)"
   ]
  },
  {
   "cell_type": "code",
   "execution_count": 130,
   "metadata": {},
   "outputs": [],
   "source": [
    "class box:\n",
    "    def __init__(self,dim):\n",
    "        self.dimensioni=dim\n",
    "\n",
    "    def getW(self):\n",
    "        return self.dimensioni[0]\n",
    "\n",
    "    def getD(self):\n",
    "        return self.dimensioni[1]\n"
   ]
  },
  {
   "cell_type": "code",
   "execution_count": 131,
   "metadata": {},
   "outputs": [],
   "source": [
    "class cargo:\n",
    "    def __init__(self,dim):\n",
    "        self.dimensioni=dim\n",
    "\n",
    "    def getW(self):\n",
    "        return self.dimensioni[0]\n",
    "\n",
    "    def getD(self):\n",
    "        return self.dimensioni[1]\n"
   ]
  },
  {
   "cell_type": "code",
   "execution_count": 132,
   "metadata": {},
   "outputs": [
    {
     "name": "stdout",
     "output_type": "stream",
     "text": [
      "[120, 120, 120, 120, 120, 120, 120]\n",
      "[80, 80, 80, 80, 80, 80, 80]\n",
      "[[170.0, 80.0, 0, 1.0], [130.0, 200.0, 1, 0.0], [80.0, 80.0, 2, 1.0], [10.0, 200.0, 3, 0.0], [0.0, 80.0, 4, 1.0], [130.0, 0.0, 5, 0.0], [0.0, 0.0, 6, 0.0]]\n",
      "[120, 120, 120, 120, 120, 120, 120]\n",
      "24.5900371075\n"
     ]
    },
    {
     "data": {
      "image/png": "[encoded data removed]",
      "text/plain": [
       "<Figure size 432x288 with 1 Axes>"
      ]
     },
     "metadata": {
      "needs_background": "light"
     },
     "output_type": "display_data"
    }
   ],
   "source": [
    "main()"
   ]
  },
  {
   "cell_type": "code",
   "execution_count": null,
   "metadata": {},
   "outputs": [],
   "source": []
  }
 ],
 "metadata": {
  "kernelspec": {
   "display_name": "Python 2",
   "language": "python",
   "name": "python2"
  },
  "language_info": {
   "codemirror_mode": {
    "name": "ipython",
    "version": 2
   },
   "file_extension": ".py",
   "mimetype": "text/x-python",
   "name": "python",
   "nbconvert_exporter": "python",
   "pygments_lexer": "ipython2",
   "version": "2.7.12"
  }
 },
 "nbformat": 4,
 "nbformat_minor": 2
}
