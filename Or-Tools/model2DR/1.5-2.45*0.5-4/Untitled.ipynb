{
 "cells": [
  {
   "cell_type": "code",
   "execution_count": 1,
   "metadata": {},
   "outputs": [],
   "source": [
    "import pandas as pd\n",
    "from sklearn.decomposition import PCA\n",
    "from sklearn.preprocessing import StandardScaler\n",
    "import matplotlib.pyplot as plt\n",
    "from sklearn.linear_model import LinearRegression\n",
    "%matplotlib inline"
   ]
  },
  {
   "cell_type": "markdown",
   "metadata": {},
   "source": [
    "## Read Input Data"
   ]
  },
  {
   "cell_type": "code",
   "execution_count": 2,
   "metadata": {},
   "outputs": [],
   "source": [
    "df = pd.read_excel('result.xlsx')"
   ]
  },
  {
   "cell_type": "code",
   "execution_count": 3,
   "metadata": {},
   "outputs": [],
   "source": [
    "df.sort_values('Time',inplace=True)"
   ]
  },
  {
   "cell_type": "code",
   "execution_count": 4,
   "metadata": {},
   "outputs": [
    {
     "data": {
      "text/html": [
       "<div>\n",
       "<style scoped>\n",
       "    .dataframe tbody tr th:only-of-type {\n",
       "        vertical-align: middle;\n",
       "    }\n",
       "\n",
       "    .dataframe tbody tr th {\n",
       "        vertical-align: top;\n",
       "    }\n",
       "\n",
       "    .dataframe thead th {\n",
       "        text-align: right;\n",
       "    }\n",
       "</style>\n",
       "<table border=\"1\" class=\"dataframe\">\n",
       "  <thead>\n",
       "    <tr style=\"text-align: right;\">\n",
       "      <th></th>\n",
       "      <th>Avg Area</th>\n",
       "      <th>Avg Depth</th>\n",
       "      <th>Avg Width</th>\n",
       "      <th>Time</th>\n",
       "      <th>n_items</th>\n",
       "    </tr>\n",
       "  </thead>\n",
       "  <tbody>\n",
       "    <tr>\n",
       "      <th>65</th>\n",
       "      <td>4.794</td>\n",
       "      <td>2.390</td>\n",
       "      <td>1.943</td>\n",
       "      <td>0.024</td>\n",
       "      <td>3</td>\n",
       "    </tr>\n",
       "    <tr>\n",
       "      <th>2</th>\n",
       "      <td>5.373</td>\n",
       "      <td>2.763</td>\n",
       "      <td>1.943</td>\n",
       "      <td>0.024</td>\n",
       "      <td>3</td>\n",
       "    </tr>\n",
       "    <tr>\n",
       "      <th>33</th>\n",
       "      <td>3.967</td>\n",
       "      <td>1.797</td>\n",
       "      <td>2.193</td>\n",
       "      <td>0.024</td>\n",
       "      <td>3</td>\n",
       "    </tr>\n",
       "    <tr>\n",
       "      <th>47</th>\n",
       "      <td>6.071</td>\n",
       "      <td>3.237</td>\n",
       "      <td>1.840</td>\n",
       "      <td>0.024</td>\n",
       "      <td>3</td>\n",
       "    </tr>\n",
       "    <tr>\n",
       "      <th>61</th>\n",
       "      <td>3.578</td>\n",
       "      <td>2.150</td>\n",
       "      <td>1.700</td>\n",
       "      <td>0.026</td>\n",
       "      <td>3</td>\n",
       "    </tr>\n",
       "  </tbody>\n",
       "</table>\n",
       "</div>"
      ],
      "text/plain": [
       "    Avg Area  Avg Depth  Avg Width   Time  n_items\n",
       "65     4.794      2.390      1.943  0.024        3\n",
       "2      5.373      2.763      1.943  0.024        3\n",
       "33     3.967      1.797      2.193  0.024        3\n",
       "47     6.071      3.237      1.840  0.024        3\n",
       "61     3.578      2.150      1.700  0.026        3"
      ]
     },
     "execution_count": 4,
     "metadata": {},
     "output_type": "execute_result"
    }
   ],
   "source": [
    "df.head()"
   ]
  },
  {
   "cell_type": "code",
   "execution_count": 5,
   "metadata": {},
   "outputs": [],
   "source": [
    "df2 = df[df['Time'] < 300]\n",
    "#df2 = df.drop(columns=['Obj heur', 'Obj mod', 'Min Time', 'Max Time', 'Min Area', 'Max Area', 'Min D', 'Max D', 'Min W', 'Max W'])"
   ]
  },
  {
   "cell_type": "code",
   "execution_count": 30,
   "metadata": {},
   "outputs": [
    {
     "data": {
      "text/html": [
       "<div>\n",
       "<style scoped>\n",
       "    .dataframe tbody tr th:only-of-type {\n",
       "        vertical-align: middle;\n",
       "    }\n",
       "\n",
       "    .dataframe tbody tr th {\n",
       "        vertical-align: top;\n",
       "    }\n",
       "\n",
       "    .dataframe thead th {\n",
       "        text-align: right;\n",
       "    }\n",
       "</style>\n",
       "<table border=\"1\" class=\"dataframe\">\n",
       "  <thead>\n",
       "    <tr style=\"text-align: right;\">\n",
       "      <th></th>\n",
       "      <th>Avg Area</th>\n",
       "      <th>Avg Depth</th>\n",
       "      <th>Avg Width</th>\n",
       "      <th>Time</th>\n",
       "      <th>n_items</th>\n",
       "    </tr>\n",
       "  </thead>\n",
       "  <tbody>\n",
       "    <tr>\n",
       "      <th>0</th>\n",
       "      <td>4.794</td>\n",
       "      <td>2.390</td>\n",
       "      <td>1.943</td>\n",
       "      <td>0.024</td>\n",
       "      <td>3</td>\n",
       "    </tr>\n",
       "    <tr>\n",
       "      <th>1</th>\n",
       "      <td>5.373</td>\n",
       "      <td>2.763</td>\n",
       "      <td>1.943</td>\n",
       "      <td>0.024</td>\n",
       "      <td>3</td>\n",
       "    </tr>\n",
       "    <tr>\n",
       "      <th>2</th>\n",
       "      <td>3.967</td>\n",
       "      <td>1.797</td>\n",
       "      <td>2.193</td>\n",
       "      <td>0.024</td>\n",
       "      <td>3</td>\n",
       "    </tr>\n",
       "    <tr>\n",
       "      <th>3</th>\n",
       "      <td>6.071</td>\n",
       "      <td>3.237</td>\n",
       "      <td>1.840</td>\n",
       "      <td>0.024</td>\n",
       "      <td>3</td>\n",
       "    </tr>\n",
       "    <tr>\n",
       "      <th>4</th>\n",
       "      <td>3.578</td>\n",
       "      <td>2.150</td>\n",
       "      <td>1.700</td>\n",
       "      <td>0.026</td>\n",
       "      <td>3</td>\n",
       "    </tr>\n",
       "    <tr>\n",
       "      <th>5</th>\n",
       "      <td>4.096</td>\n",
       "      <td>2.057</td>\n",
       "      <td>2.010</td>\n",
       "      <td>0.029</td>\n",
       "      <td>3</td>\n",
       "    </tr>\n",
       "    <tr>\n",
       "      <th>6</th>\n",
       "      <td>3.890</td>\n",
       "      <td>1.957</td>\n",
       "      <td>2.027</td>\n",
       "      <td>0.033</td>\n",
       "      <td>3</td>\n",
       "    </tr>\n",
       "    <tr>\n",
       "      <th>7</th>\n",
       "      <td>3.781</td>\n",
       "      <td>2.083</td>\n",
       "      <td>1.713</td>\n",
       "      <td>0.034</td>\n",
       "      <td>3</td>\n",
       "    </tr>\n",
       "    <tr>\n",
       "      <th>8</th>\n",
       "      <td>4.522</td>\n",
       "      <td>2.163</td>\n",
       "      <td>2.153</td>\n",
       "      <td>0.036</td>\n",
       "      <td>3</td>\n",
       "    </tr>\n",
       "    <tr>\n",
       "      <th>9</th>\n",
       "      <td>5.019</td>\n",
       "      <td>2.313</td>\n",
       "      <td>2.123</td>\n",
       "      <td>0.038</td>\n",
       "      <td>3</td>\n",
       "    </tr>\n",
       "    <tr>\n",
       "      <th>10</th>\n",
       "      <td>7.011</td>\n",
       "      <td>3.563</td>\n",
       "      <td>1.967</td>\n",
       "      <td>0.043</td>\n",
       "      <td>3</td>\n",
       "    </tr>\n",
       "    <tr>\n",
       "      <th>11</th>\n",
       "      <td>3.208</td>\n",
       "      <td>1.747</td>\n",
       "      <td>1.943</td>\n",
       "      <td>0.047</td>\n",
       "      <td>3</td>\n",
       "    </tr>\n",
       "    <tr>\n",
       "      <th>12</th>\n",
       "      <td>2.824</td>\n",
       "      <td>1.473</td>\n",
       "      <td>1.947</td>\n",
       "      <td>0.048</td>\n",
       "      <td>3</td>\n",
       "    </tr>\n",
       "    <tr>\n",
       "      <th>13</th>\n",
       "      <td>2.956</td>\n",
       "      <td>1.427</td>\n",
       "      <td>2.080</td>\n",
       "      <td>0.054</td>\n",
       "      <td>3</td>\n",
       "    </tr>\n",
       "    <tr>\n",
       "      <th>14</th>\n",
       "      <td>2.222</td>\n",
       "      <td>1.087</td>\n",
       "      <td>2.020</td>\n",
       "      <td>0.054</td>\n",
       "      <td>3</td>\n",
       "    </tr>\n",
       "    <tr>\n",
       "      <th>15</th>\n",
       "      <td>4.592</td>\n",
       "      <td>2.402</td>\n",
       "      <td>1.993</td>\n",
       "      <td>0.056</td>\n",
       "      <td>4</td>\n",
       "    </tr>\n",
       "    <tr>\n",
       "      <th>16</th>\n",
       "      <td>4.922</td>\n",
       "      <td>2.405</td>\n",
       "      <td>2.058</td>\n",
       "      <td>0.059</td>\n",
       "      <td>4</td>\n",
       "    </tr>\n",
       "    <tr>\n",
       "      <th>17</th>\n",
       "      <td>2.285</td>\n",
       "      <td>1.093</td>\n",
       "      <td>2.057</td>\n",
       "      <td>0.061</td>\n",
       "      <td>3</td>\n",
       "    </tr>\n",
       "    <tr>\n",
       "      <th>18</th>\n",
       "      <td>3.221</td>\n",
       "      <td>1.905</td>\n",
       "      <td>1.805</td>\n",
       "      <td>0.102</td>\n",
       "      <td>4</td>\n",
       "    </tr>\n",
       "    <tr>\n",
       "      <th>19</th>\n",
       "      <td>3.131</td>\n",
       "      <td>1.593</td>\n",
       "      <td>2.115</td>\n",
       "      <td>0.112</td>\n",
       "      <td>4</td>\n",
       "    </tr>\n",
       "    <tr>\n",
       "      <th>20</th>\n",
       "      <td>4.881</td>\n",
       "      <td>2.353</td>\n",
       "      <td>2.045</td>\n",
       "      <td>0.320</td>\n",
       "      <td>4</td>\n",
       "    </tr>\n",
       "    <tr>\n",
       "      <th>21</th>\n",
       "      <td>3.264</td>\n",
       "      <td>1.487</td>\n",
       "      <td>2.160</td>\n",
       "      <td>0.329</td>\n",
       "      <td>4</td>\n",
       "    </tr>\n",
       "    <tr>\n",
       "      <th>22</th>\n",
       "      <td>5.854</td>\n",
       "      <td>3.135</td>\n",
       "      <td>1.878</td>\n",
       "      <td>0.333</td>\n",
       "      <td>4</td>\n",
       "    </tr>\n",
       "    <tr>\n",
       "      <th>23</th>\n",
       "      <td>5.726</td>\n",
       "      <td>2.900</td>\n",
       "      <td>2.070</td>\n",
       "      <td>0.357</td>\n",
       "      <td>4</td>\n",
       "    </tr>\n",
       "    <tr>\n",
       "      <th>24</th>\n",
       "      <td>4.317</td>\n",
       "      <td>2.112</td>\n",
       "      <td>2.165</td>\n",
       "      <td>0.363</td>\n",
       "      <td>4</td>\n",
       "    </tr>\n",
       "    <tr>\n",
       "      <th>25</th>\n",
       "      <td>2.797</td>\n",
       "      <td>1.590</td>\n",
       "      <td>1.788</td>\n",
       "      <td>0.376</td>\n",
       "      <td>4</td>\n",
       "    </tr>\n",
       "    <tr>\n",
       "      <th>26</th>\n",
       "      <td>3.728</td>\n",
       "      <td>2.022</td>\n",
       "      <td>1.853</td>\n",
       "      <td>0.385</td>\n",
       "      <td>4</td>\n",
       "    </tr>\n",
       "    <tr>\n",
       "      <th>27</th>\n",
       "      <td>4.982</td>\n",
       "      <td>2.555</td>\n",
       "      <td>1.948</td>\n",
       "      <td>0.414</td>\n",
       "      <td>4</td>\n",
       "    </tr>\n",
       "    <tr>\n",
       "      <th>28</th>\n",
       "      <td>3.054</td>\n",
       "      <td>1.498</td>\n",
       "      <td>2.027</td>\n",
       "      <td>0.417</td>\n",
       "      <td>4</td>\n",
       "    </tr>\n",
       "    <tr>\n",
       "      <th>29</th>\n",
       "      <td>2.644</td>\n",
       "      <td>1.377</td>\n",
       "      <td>1.883</td>\n",
       "      <td>0.519</td>\n",
       "      <td>4</td>\n",
       "    </tr>\n",
       "    <tr>\n",
       "      <th>...</th>\n",
       "      <td>...</td>\n",
       "      <td>...</td>\n",
       "      <td>...</td>\n",
       "      <td>...</td>\n",
       "      <td>...</td>\n",
       "    </tr>\n",
       "    <tr>\n",
       "      <th>61</th>\n",
       "      <td>5.131</td>\n",
       "      <td>2.377</td>\n",
       "      <td>2.110</td>\n",
       "      <td>19.214</td>\n",
       "      <td>7</td>\n",
       "    </tr>\n",
       "    <tr>\n",
       "      <th>62</th>\n",
       "      <td>4.970</td>\n",
       "      <td>2.751</td>\n",
       "      <td>1.834</td>\n",
       "      <td>19.643</td>\n",
       "      <td>7</td>\n",
       "    </tr>\n",
       "    <tr>\n",
       "      <th>63</th>\n",
       "      <td>4.986</td>\n",
       "      <td>2.570</td>\n",
       "      <td>1.869</td>\n",
       "      <td>22.025</td>\n",
       "      <td>7</td>\n",
       "    </tr>\n",
       "    <tr>\n",
       "      <th>64</th>\n",
       "      <td>4.703</td>\n",
       "      <td>2.297</td>\n",
       "      <td>2.113</td>\n",
       "      <td>23.194</td>\n",
       "      <td>7</td>\n",
       "    </tr>\n",
       "    <tr>\n",
       "      <th>65</th>\n",
       "      <td>3.959</td>\n",
       "      <td>1.888</td>\n",
       "      <td>2.077</td>\n",
       "      <td>29.773</td>\n",
       "      <td>6</td>\n",
       "    </tr>\n",
       "    <tr>\n",
       "      <th>66</th>\n",
       "      <td>3.593</td>\n",
       "      <td>1.980</td>\n",
       "      <td>1.846</td>\n",
       "      <td>31.728</td>\n",
       "      <td>7</td>\n",
       "    </tr>\n",
       "    <tr>\n",
       "      <th>67</th>\n",
       "      <td>5.597</td>\n",
       "      <td>2.774</td>\n",
       "      <td>1.986</td>\n",
       "      <td>31.836</td>\n",
       "      <td>7</td>\n",
       "    </tr>\n",
       "    <tr>\n",
       "      <th>68</th>\n",
       "      <td>5.385</td>\n",
       "      <td>2.687</td>\n",
       "      <td>2.016</td>\n",
       "      <td>38.517</td>\n",
       "      <td>7</td>\n",
       "    </tr>\n",
       "    <tr>\n",
       "      <th>69</th>\n",
       "      <td>3.489</td>\n",
       "      <td>1.957</td>\n",
       "      <td>1.809</td>\n",
       "      <td>49.021</td>\n",
       "      <td>7</td>\n",
       "    </tr>\n",
       "    <tr>\n",
       "      <th>70</th>\n",
       "      <td>4.907</td>\n",
       "      <td>2.663</td>\n",
       "      <td>1.829</td>\n",
       "      <td>52.392</td>\n",
       "      <td>8</td>\n",
       "    </tr>\n",
       "    <tr>\n",
       "      <th>71</th>\n",
       "      <td>3.803</td>\n",
       "      <td>1.900</td>\n",
       "      <td>1.974</td>\n",
       "      <td>52.862</td>\n",
       "      <td>8</td>\n",
       "    </tr>\n",
       "    <tr>\n",
       "      <th>72</th>\n",
       "      <td>4.810</td>\n",
       "      <td>2.559</td>\n",
       "      <td>1.937</td>\n",
       "      <td>53.015</td>\n",
       "      <td>7</td>\n",
       "    </tr>\n",
       "    <tr>\n",
       "      <th>73</th>\n",
       "      <td>4.934</td>\n",
       "      <td>2.714</td>\n",
       "      <td>1.833</td>\n",
       "      <td>60.128</td>\n",
       "      <td>7</td>\n",
       "    </tr>\n",
       "    <tr>\n",
       "      <th>74</th>\n",
       "      <td>3.253</td>\n",
       "      <td>1.698</td>\n",
       "      <td>1.917</td>\n",
       "      <td>68.750</td>\n",
       "      <td>8</td>\n",
       "    </tr>\n",
       "    <tr>\n",
       "      <th>75</th>\n",
       "      <td>3.444</td>\n",
       "      <td>1.734</td>\n",
       "      <td>2.036</td>\n",
       "      <td>77.192</td>\n",
       "      <td>8</td>\n",
       "    </tr>\n",
       "    <tr>\n",
       "      <th>76</th>\n",
       "      <td>3.868</td>\n",
       "      <td>2.000</td>\n",
       "      <td>1.996</td>\n",
       "      <td>77.472</td>\n",
       "      <td>9</td>\n",
       "    </tr>\n",
       "    <tr>\n",
       "      <th>77</th>\n",
       "      <td>3.888</td>\n",
       "      <td>1.940</td>\n",
       "      <td>1.970</td>\n",
       "      <td>88.365</td>\n",
       "      <td>7</td>\n",
       "    </tr>\n",
       "    <tr>\n",
       "      <th>78</th>\n",
       "      <td>4.222</td>\n",
       "      <td>2.303</td>\n",
       "      <td>1.930</td>\n",
       "      <td>109.337</td>\n",
       "      <td>8</td>\n",
       "    </tr>\n",
       "    <tr>\n",
       "      <th>79</th>\n",
       "      <td>4.848</td>\n",
       "      <td>2.709</td>\n",
       "      <td>1.834</td>\n",
       "      <td>110.232</td>\n",
       "      <td>8</td>\n",
       "    </tr>\n",
       "    <tr>\n",
       "      <th>80</th>\n",
       "      <td>5.354</td>\n",
       "      <td>3.041</td>\n",
       "      <td>1.761</td>\n",
       "      <td>110.715</td>\n",
       "      <td>8</td>\n",
       "    </tr>\n",
       "    <tr>\n",
       "      <th>81</th>\n",
       "      <td>5.673</td>\n",
       "      <td>2.907</td>\n",
       "      <td>1.919</td>\n",
       "      <td>124.812</td>\n",
       "      <td>8</td>\n",
       "    </tr>\n",
       "    <tr>\n",
       "      <th>82</th>\n",
       "      <td>3.239</td>\n",
       "      <td>1.571</td>\n",
       "      <td>2.056</td>\n",
       "      <td>134.642</td>\n",
       "      <td>7</td>\n",
       "    </tr>\n",
       "    <tr>\n",
       "      <th>83</th>\n",
       "      <td>2.598</td>\n",
       "      <td>1.410</td>\n",
       "      <td>1.841</td>\n",
       "      <td>135.054</td>\n",
       "      <td>8</td>\n",
       "    </tr>\n",
       "    <tr>\n",
       "      <th>84</th>\n",
       "      <td>3.645</td>\n",
       "      <td>1.990</td>\n",
       "      <td>1.842</td>\n",
       "      <td>181.883</td>\n",
       "      <td>8</td>\n",
       "    </tr>\n",
       "    <tr>\n",
       "      <th>85</th>\n",
       "      <td>5.143</td>\n",
       "      <td>2.493</td>\n",
       "      <td>2.039</td>\n",
       "      <td>183.072</td>\n",
       "      <td>8</td>\n",
       "    </tr>\n",
       "    <tr>\n",
       "      <th>86</th>\n",
       "      <td>4.583</td>\n",
       "      <td>2.451</td>\n",
       "      <td>1.909</td>\n",
       "      <td>203.326</td>\n",
       "      <td>9</td>\n",
       "    </tr>\n",
       "    <tr>\n",
       "      <th>87</th>\n",
       "      <td>4.635</td>\n",
       "      <td>2.370</td>\n",
       "      <td>1.970</td>\n",
       "      <td>212.536</td>\n",
       "      <td>8</td>\n",
       "    </tr>\n",
       "    <tr>\n",
       "      <th>88</th>\n",
       "      <td>3.822</td>\n",
       "      <td>2.089</td>\n",
       "      <td>1.862</td>\n",
       "      <td>215.061</td>\n",
       "      <td>9</td>\n",
       "    </tr>\n",
       "    <tr>\n",
       "      <th>89</th>\n",
       "      <td>4.784</td>\n",
       "      <td>2.379</td>\n",
       "      <td>2.044</td>\n",
       "      <td>271.807</td>\n",
       "      <td>9</td>\n",
       "    </tr>\n",
       "    <tr>\n",
       "      <th>90</th>\n",
       "      <td>3.227</td>\n",
       "      <td>1.772</td>\n",
       "      <td>1.914</td>\n",
       "      <td>285.022</td>\n",
       "      <td>9</td>\n",
       "    </tr>\n",
       "  </tbody>\n",
       "</table>\n",
       "<p>91 rows × 5 columns</p>\n",
       "</div>"
      ],
      "text/plain": [
       "    Avg Area  Avg Depth  Avg Width     Time  n_items\n",
       "0      4.794      2.390      1.943    0.024        3\n",
       "1      5.373      2.763      1.943    0.024        3\n",
       "2      3.967      1.797      2.193    0.024        3\n",
       "3      6.071      3.237      1.840    0.024        3\n",
       "4      3.578      2.150      1.700    0.026        3\n",
       "5      4.096      2.057      2.010    0.029        3\n",
       "6      3.890      1.957      2.027    0.033        3\n",
       "7      3.781      2.083      1.713    0.034        3\n",
       "8      4.522      2.163      2.153    0.036        3\n",
       "9      5.019      2.313      2.123    0.038        3\n",
       "10     7.011      3.563      1.967    0.043        3\n",
       "11     3.208      1.747      1.943    0.047        3\n",
       "12     2.824      1.473      1.947    0.048        3\n",
       "13     2.956      1.427      2.080    0.054        3\n",
       "14     2.222      1.087      2.020    0.054        3\n",
       "15     4.592      2.402      1.993    0.056        4\n",
       "16     4.922      2.405      2.058    0.059        4\n",
       "17     2.285      1.093      2.057    0.061        3\n",
       "18     3.221      1.905      1.805    0.102        4\n",
       "19     3.131      1.593      2.115    0.112        4\n",
       "20     4.881      2.353      2.045    0.320        4\n",
       "21     3.264      1.487      2.160    0.329        4\n",
       "22     5.854      3.135      1.878    0.333        4\n",
       "23     5.726      2.900      2.070    0.357        4\n",
       "24     4.317      2.112      2.165    0.363        4\n",
       "25     2.797      1.590      1.788    0.376        4\n",
       "26     3.728      2.022      1.853    0.385        4\n",
       "27     4.982      2.555      1.948    0.414        4\n",
       "28     3.054      1.498      2.027    0.417        4\n",
       "29     2.644      1.377      1.883    0.519        4\n",
       "..       ...        ...        ...      ...      ...\n",
       "61     5.131      2.377      2.110   19.214        7\n",
       "62     4.970      2.751      1.834   19.643        7\n",
       "63     4.986      2.570      1.869   22.025        7\n",
       "64     4.703      2.297      2.113   23.194        7\n",
       "65     3.959      1.888      2.077   29.773        6\n",
       "66     3.593      1.980      1.846   31.728        7\n",
       "67     5.597      2.774      1.986   31.836        7\n",
       "68     5.385      2.687      2.016   38.517        7\n",
       "69     3.489      1.957      1.809   49.021        7\n",
       "70     4.907      2.663      1.829   52.392        8\n",
       "71     3.803      1.900      1.974   52.862        8\n",
       "72     4.810      2.559      1.937   53.015        7\n",
       "73     4.934      2.714      1.833   60.128        7\n",
       "74     3.253      1.698      1.917   68.750        8\n",
       "75     3.444      1.734      2.036   77.192        8\n",
       "76     3.868      2.000      1.996   77.472        9\n",
       "77     3.888      1.940      1.970   88.365        7\n",
       "78     4.222      2.303      1.930  109.337        8\n",
       "79     4.848      2.709      1.834  110.232        8\n",
       "80     5.354      3.041      1.761  110.715        8\n",
       "81     5.673      2.907      1.919  124.812        8\n",
       "82     3.239      1.571      2.056  134.642        7\n",
       "83     2.598      1.410      1.841  135.054        8\n",
       "84     3.645      1.990      1.842  181.883        8\n",
       "85     5.143      2.493      2.039  183.072        8\n",
       "86     4.583      2.451      1.909  203.326        9\n",
       "87     4.635      2.370      1.970  212.536        8\n",
       "88     3.822      2.089      1.862  215.061        9\n",
       "89     4.784      2.379      2.044  271.807        9\n",
       "90     3.227      1.772      1.914  285.022        9\n",
       "\n",
       "[91 rows x 5 columns]"
      ]
     },
     "execution_count": 30,
     "metadata": {},
     "output_type": "execute_result"
    }
   ],
   "source": [
    "df2"
   ]
  },
  {
   "cell_type": "markdown",
   "metadata": {},
   "source": [
    "## Correlation"
   ]
  },
  {
   "cell_type": "code",
   "execution_count": 7,
   "metadata": {},
   "outputs": [
    {
     "data": {
      "text/html": [
       "<div>\n",
       "<style scoped>\n",
       "    .dataframe tbody tr th:only-of-type {\n",
       "        vertical-align: middle;\n",
       "    }\n",
       "\n",
       "    .dataframe tbody tr th {\n",
       "        vertical-align: top;\n",
       "    }\n",
       "\n",
       "    .dataframe thead th {\n",
       "        text-align: right;\n",
       "    }\n",
       "</style>\n",
       "<table border=\"1\" class=\"dataframe\">\n",
       "  <thead>\n",
       "    <tr style=\"text-align: right;\">\n",
       "      <th></th>\n",
       "      <th>Avg Area</th>\n",
       "      <th>Avg Depth</th>\n",
       "      <th>Avg Width</th>\n",
       "      <th>Time</th>\n",
       "      <th>n_items</th>\n",
       "    </tr>\n",
       "  </thead>\n",
       "  <tbody>\n",
       "    <tr>\n",
       "      <th>Avg Area</th>\n",
       "      <td>1.000000</td>\n",
       "      <td>0.964034</td>\n",
       "      <td>0.074877</td>\n",
       "      <td>-0.046496</td>\n",
       "      <td>0.100534</td>\n",
       "    </tr>\n",
       "    <tr>\n",
       "      <th>Avg Depth</th>\n",
       "      <td>0.964034</td>\n",
       "      <td>1.000000</td>\n",
       "      <td>-0.167571</td>\n",
       "      <td>0.000383</td>\n",
       "      <td>0.142676</td>\n",
       "    </tr>\n",
       "    <tr>\n",
       "      <th>Avg Width</th>\n",
       "      <td>0.074877</td>\n",
       "      <td>-0.167571</td>\n",
       "      <td>1.000000</td>\n",
       "      <td>-0.121717</td>\n",
       "      <td>-0.173974</td>\n",
       "    </tr>\n",
       "    <tr>\n",
       "      <th>Time</th>\n",
       "      <td>-0.046496</td>\n",
       "      <td>0.000383</td>\n",
       "      <td>-0.121717</td>\n",
       "      <td>1.000000</td>\n",
       "      <td>0.720056</td>\n",
       "    </tr>\n",
       "    <tr>\n",
       "      <th>n_items</th>\n",
       "      <td>0.100534</td>\n",
       "      <td>0.142676</td>\n",
       "      <td>-0.173974</td>\n",
       "      <td>0.720056</td>\n",
       "      <td>1.000000</td>\n",
       "    </tr>\n",
       "  </tbody>\n",
       "</table>\n",
       "</div>"
      ],
      "text/plain": [
       "           Avg Area  Avg Depth  Avg Width      Time   n_items\n",
       "Avg Area   1.000000   0.964034   0.074877 -0.046496  0.100534\n",
       "Avg Depth  0.964034   1.000000  -0.167571  0.000383  0.142676\n",
       "Avg Width  0.074877  -0.167571   1.000000 -0.121717 -0.173974\n",
       "Time      -0.046496   0.000383  -0.121717  1.000000  0.720056\n",
       "n_items    0.100534   0.142676  -0.173974  0.720056  1.000000"
      ]
     },
     "execution_count": 7,
     "metadata": {},
     "output_type": "execute_result"
    }
   ],
   "source": [
    "df2.corr()"
   ]
  },
  {
   "cell_type": "markdown",
   "metadata": {},
   "source": [
    "Plot of correlation"
   ]
  },
  {
   "cell_type": "code",
   "execution_count": 8,
   "metadata": {},
   "outputs": [
    {
     "data": {
      "text/plain": [
       "<matplotlib.image.AxesImage at 0x7fa5c1e7df50>"
      ]
     },
     "execution_count": 8,
     "metadata": {},
     "output_type": "execute_result"
    },
    {
     "data": {
      "image/png": "[encoded data removed]",
      "text/plain": [
       "<Figure size 288x288 with 1 Axes>"
      ]
     },
     "metadata": {
      "needs_background": "light"
     },
     "output_type": "display_data"
    }
   ],
   "source": [
    "plt.matshow(df2.corr())"
   ]
  },
  {
   "cell_type": "code",
   "execution_count": 9,
   "metadata": {},
   "outputs": [
    {
     "data": {
      "text/plain": [
       "array([[<matplotlib.axes._subplots.AxesSubplot object at 0x7fa5c1dd5110>,\n",
       "        <matplotlib.axes._subplots.AxesSubplot object at 0x7fa5c1d9b4d0>,\n",
       "        <matplotlib.axes._subplots.AxesSubplot object at 0x7fa5bf8d9290>,\n",
       "        <matplotlib.axes._subplots.AxesSubplot object at 0x7fa5bf88f290>,\n",
       "        <matplotlib.axes._subplots.AxesSubplot object at 0x7fa5bf8c6450>],\n",
       "       [<matplotlib.axes._subplots.AxesSubplot object at 0x7fa5bf87e610>,\n",
       "        <matplotlib.axes._subplots.AxesSubplot object at 0x7fa5bf8347d0>,\n",
       "        <matplotlib.axes._subplots.AxesSubplot object at 0x7fa5bf7ee990>,\n",
       "        <matplotlib.axes._subplots.AxesSubplot object at 0x7fa5bf7a5b50>,\n",
       "        <matplotlib.axes._subplots.AxesSubplot object at 0x7fa5bf75dd10>],\n",
       "       [<matplotlib.axes._subplots.AxesSubplot object at 0x7fa5bf714ed0>,\n",
       "        <matplotlib.axes._subplots.AxesSubplot object at 0x7fa5bf6d80d0>,\n",
       "        <matplotlib.axes._subplots.AxesSubplot object at 0x7fa5bf68e290>,\n",
       "        <matplotlib.axes._subplots.AxesSubplot object at 0x7fa5bf6c5450>,\n",
       "        <matplotlib.axes._subplots.AxesSubplot object at 0x7fa5bf67c610>],\n",
       "       [<matplotlib.axes._subplots.AxesSubplot object at 0x7fa5bf6357d0>,\n",
       "        <matplotlib.axes._subplots.AxesSubplot object at 0x7fa5bf5ec990>,\n",
       "        <matplotlib.axes._subplots.AxesSubplot object at 0x7fa5bf5a2b50>,\n",
       "        <matplotlib.axes._subplots.AxesSubplot object at 0x7fa5bf55bd10>,\n",
       "        <matplotlib.axes._subplots.AxesSubplot object at 0x7fa5bf514ed0>],\n",
       "       [<matplotlib.axes._subplots.AxesSubplot object at 0x7fa5bf4d90d0>,\n",
       "        <matplotlib.axes._subplots.AxesSubplot object at 0x7fa5bf4930d0>,\n",
       "        <matplotlib.axes._subplots.AxesSubplot object at 0x7fa5bf4ca290>,\n",
       "        <matplotlib.axes._subplots.AxesSubplot object at 0x7fa5bf482450>,\n",
       "        <matplotlib.axes._subplots.AxesSubplot object at 0x7fa5bf43b610>]],\n",
       "      dtype=object)"
      ]
     },
     "execution_count": 9,
     "metadata": {},
     "output_type": "execute_result"
    },
    {
     "data": {
      "image/png": "[encoded data removed]",
      "text/plain": [
       "<Figure size 1296x1080 with 25 Axes>"
      ]
     },
     "metadata": {
      "needs_background": "light"
     },
     "output_type": "display_data"
    }
   ],
   "source": [
    "pd.plotting.scatter_matrix(df2, figsize=(18,15))"
   ]
  },
  {
   "cell_type": "code",
   "execution_count": 10,
   "metadata": {},
   "outputs": [
    {
     "data": {
      "text/plain": [
       "<matplotlib.axes._subplots.AxesSubplot at 0x7fa5bea56c50>"
      ]
     },
     "execution_count": 10,
     "metadata": {},
     "output_type": "execute_result"
    },
    {
     "data": {
      "image/png": "[encoded data removed]",
      "text/plain": [
       "<Figure size 432x288 with 1 Axes>"
      ]
     },
     "metadata": {
      "needs_background": "light"
     },
     "output_type": "display_data"
    }
   ],
   "source": [
    "df2.plot.scatter('n_items', 'Time')"
   ]
  },
  {
   "cell_type": "markdown",
   "metadata": {},
   "source": [
    "## Analyze data information"
   ]
  },
  {
   "cell_type": "code",
   "execution_count": 11,
   "metadata": {},
   "outputs": [],
   "source": [
    "df2.reset_index(inplace=True,drop=True)"
   ]
  },
  {
   "cell_type": "code",
   "execution_count": 12,
   "metadata": {},
   "outputs": [],
   "source": [
    "df3 = df2.drop(columns=['Time'])"
   ]
  },
  {
   "cell_type": "markdown",
   "metadata": {},
   "source": [
    "## Rescale data"
   ]
  },
  {
   "cell_type": "code",
   "execution_count": 13,
   "metadata": {},
   "outputs": [],
   "source": [
    "scaler = StandardScaler()"
   ]
  },
  {
   "cell_type": "code",
   "execution_count": 14,
   "metadata": {},
   "outputs": [
    {
     "name": "stderr",
     "output_type": "stream",
     "text": [
      "/usr/local/lib/python2.7/dist-packages/sklearn/preprocessing/data.py:617: DataConversionWarning: Data with input dtype int64, float64 were all converted to float64 by StandardScaler.\n",
      "  return self.partial_fit(X, y)\n",
      "/usr/local/lib/python2.7/dist-packages/sklearn/base.py:462: DataConversionWarning: Data with input dtype int64, float64 were all converted to float64 by StandardScaler.\n",
      "  return self.fit(X, **fit_params).transform(X)\n"
     ]
    }
   ],
   "source": [
    "df3 = pd.DataFrame(data = scaler.fit_transform(df3))"
   ]
  },
  {
   "cell_type": "markdown",
   "metadata": {},
   "source": [
    "Rescaled data"
   ]
  },
  {
   "cell_type": "code",
   "execution_count": 15,
   "metadata": {},
   "outputs": [
    {
     "data": {
      "text/html": [
       "<div>\n",
       "<style scoped>\n",
       "    .dataframe tbody tr th:only-of-type {\n",
       "        vertical-align: middle;\n",
       "    }\n",
       "\n",
       "    .dataframe tbody tr th {\n",
       "        vertical-align: top;\n",
       "    }\n",
       "\n",
       "    .dataframe thead th {\n",
       "        text-align: right;\n",
       "    }\n",
       "</style>\n",
       "<table border=\"1\" class=\"dataframe\">\n",
       "  <thead>\n",
       "    <tr style=\"text-align: right;\">\n",
       "      <th></th>\n",
       "      <th>0</th>\n",
       "      <th>1</th>\n",
       "      <th>2</th>\n",
       "      <th>3</th>\n",
       "    </tr>\n",
       "  </thead>\n",
       "  <tbody>\n",
       "    <tr>\n",
       "      <th>0</th>\n",
       "      <td>0.490302</td>\n",
       "      <td>0.350987</td>\n",
       "      <td>-0.136758</td>\n",
       "      <td>-1.378774</td>\n",
       "    </tr>\n",
       "    <tr>\n",
       "      <th>1</th>\n",
       "      <td>1.090092</td>\n",
       "      <td>1.104436</td>\n",
       "      <td>-0.136758</td>\n",
       "      <td>-1.378774</td>\n",
       "    </tr>\n",
       "    <tr>\n",
       "      <th>2</th>\n",
       "      <td>-0.366392</td>\n",
       "      <td>-0.846856</td>\n",
       "      <td>2.149235</td>\n",
       "      <td>-1.378774</td>\n",
       "    </tr>\n",
       "    <tr>\n",
       "      <th>3</th>\n",
       "      <td>1.813155</td>\n",
       "      <td>2.061902</td>\n",
       "      <td>-1.078587</td>\n",
       "      <td>-1.378774</td>\n",
       "    </tr>\n",
       "    <tr>\n",
       "      <th>4</th>\n",
       "      <td>-0.769360</td>\n",
       "      <td>-0.133806</td>\n",
       "      <td>-2.358743</td>\n",
       "      <td>-1.378774</td>\n",
       "    </tr>\n",
       "  </tbody>\n",
       "</table>\n",
       "</div>"
      ],
      "text/plain": [
       "          0         1         2         3\n",
       "0  0.490302  0.350987 -0.136758 -1.378774\n",
       "1  1.090092  1.104436 -0.136758 -1.378774\n",
       "2 -0.366392 -0.846856  2.149235 -1.378774\n",
       "3  1.813155  2.061902 -1.078587 -1.378774\n",
       "4 -0.769360 -0.133806 -2.358743 -1.378774"
      ]
     },
     "execution_count": 15,
     "metadata": {},
     "output_type": "execute_result"
    }
   ],
   "source": [
    "df3.head()"
   ]
  },
  {
   "cell_type": "markdown",
   "metadata": {},
   "source": [
    "## PCA"
   ]
  },
  {
   "cell_type": "code",
   "execution_count": 16,
   "metadata": {},
   "outputs": [],
   "source": [
    "pca = PCA()"
   ]
  },
  {
   "cell_type": "code",
   "execution_count": 17,
   "metadata": {},
   "outputs": [],
   "source": [
    "principalDf = pd.DataFrame(data = pca.fit_transform(df3), columns = ['pc1','pc2','pc3','pc4'])"
   ]
  },
  {
   "cell_type": "code",
   "execution_count": 18,
   "metadata": {},
   "outputs": [],
   "source": [
    "cumul_expl_var_ratio = pca.explained_variance_ratio_.cumsum()"
   ]
  },
  {
   "cell_type": "code",
   "execution_count": 19,
   "metadata": {},
   "outputs": [
    {
     "data": {
      "text/plain": [
       "array([0.50078136, 0.79062485, 0.9984193 , 1.        ])"
      ]
     },
     "execution_count": 19,
     "metadata": {},
     "output_type": "execute_result"
    }
   ],
   "source": [
    "cumul_expl_var_ratio"
   ]
  },
  {
   "cell_type": "code",
   "execution_count": 20,
   "metadata": {},
   "outputs": [
    {
     "data": {
      "text/plain": [
       "array([0.50078136, 0.28984349, 0.20779445, 0.0015807 ])"
      ]
     },
     "execution_count": 20,
     "metadata": {},
     "output_type": "execute_result"
    }
   ],
   "source": [
    "pca.explained_variance_ratio_"
   ]
  },
  {
   "cell_type": "markdown",
   "metadata": {},
   "source": [
    "Data in the new system"
   ]
  },
  {
   "cell_type": "code",
   "execution_count": 21,
   "metadata": {},
   "outputs": [
    {
     "data": {
      "text/html": [
       "<div>\n",
       "<style scoped>\n",
       "    .dataframe tbody tr th:only-of-type {\n",
       "        vertical-align: middle;\n",
       "    }\n",
       "\n",
       "    .dataframe tbody tr th {\n",
       "        vertical-align: top;\n",
       "    }\n",
       "\n",
       "    .dataframe thead th {\n",
       "        text-align: right;\n",
       "    }\n",
       "</style>\n",
       "<table border=\"1\" class=\"dataframe\">\n",
       "  <thead>\n",
       "    <tr style=\"text-align: right;\">\n",
       "      <th></th>\n",
       "      <th>pc1</th>\n",
       "      <th>pc2</th>\n",
       "      <th>pc3</th>\n",
       "      <th>pc4</th>\n",
       "    </tr>\n",
       "  </thead>\n",
       "  <tbody>\n",
       "    <tr>\n",
       "      <th>0</th>\n",
       "      <td>0.338941</td>\n",
       "      <td>0.890303</td>\n",
       "      <td>1.167199</td>\n",
       "      <td>-0.115906</td>\n",
       "    </tr>\n",
       "    <tr>\n",
       "      <th>1</th>\n",
       "      <td>1.275808</td>\n",
       "      <td>1.062215</td>\n",
       "      <td>1.253714</td>\n",
       "      <td>-0.003324</td>\n",
       "    </tr>\n",
       "    <tr>\n",
       "      <th>2</th>\n",
       "      <td>-1.308113</td>\n",
       "      <td>2.339210</td>\n",
       "      <td>-0.433399</td>\n",
       "      <td>0.027220</td>\n",
       "    </tr>\n",
       "    <tr>\n",
       "      <th>3</th>\n",
       "      <td>2.531819</td>\n",
       "      <td>0.571301</td>\n",
       "      <td>1.966418</td>\n",
       "      <td>0.006500</td>\n",
       "    </tr>\n",
       "    <tr>\n",
       "      <th>4</th>\n",
       "      <td>-0.643436</td>\n",
       "      <td>-1.073200</td>\n",
       "      <td>2.550930</td>\n",
       "      <td>0.038582</td>\n",
       "    </tr>\n",
       "  </tbody>\n",
       "</table>\n",
       "</div>"
      ],
      "text/plain": [
       "        pc1       pc2       pc3       pc4\n",
       "0  0.338941  0.890303  1.167199 -0.115906\n",
       "1  1.275808  1.062215  1.253714 -0.003324\n",
       "2 -1.308113  2.339210 -0.433399  0.027220\n",
       "3  2.531819  0.571301  1.966418  0.006500\n",
       "4 -0.643436 -1.073200  2.550930  0.038582"
      ]
     },
     "execution_count": 21,
     "metadata": {},
     "output_type": "execute_result"
    }
   ],
   "source": [
    "principalDf.head()"
   ]
  },
  {
   "cell_type": "markdown",
   "metadata": {},
   "source": [
    "New orthogonal system vectors"
   ]
  },
  {
   "cell_type": "code",
   "execution_count": 22,
   "metadata": {},
   "outputs": [
    {
     "data": {
      "text/plain": [
       "array([[ 6.83390472e-01,  6.99418774e-01, -9.79023106e-02,\n",
       "         1.84948582e-01],\n",
       "       [ 2.29475754e-01,  4.54906096e-02,  7.43653942e-01,\n",
       "        -6.26298888e-01],\n",
       "       [-2.22048139e-02,  1.32502649e-01, -6.39067145e-01,\n",
       "        -7.57326336e-01],\n",
       "       [-6.92694223e-01,  7.00847366e-01,  1.70256090e-01,\n",
       "        -7.39172353e-04]])"
      ]
     },
     "execution_count": 22,
     "metadata": {},
     "output_type": "execute_result"
    }
   ],
   "source": [
    "pca.components_"
   ]
  },
  {
   "cell_type": "code",
   "execution_count": 23,
   "metadata": {},
   "outputs": [],
   "source": [
    "df_compressed = principalDf.drop(columns=['pc4'])\n",
    "df_compressed = pd.concat([df_compressed, df2['Time']],axis=1)"
   ]
  },
  {
   "cell_type": "code",
   "execution_count": 24,
   "metadata": {},
   "outputs": [
    {
     "data": {
      "text/html": [
       "<div>\n",
       "<style scoped>\n",
       "    .dataframe tbody tr th:only-of-type {\n",
       "        vertical-align: middle;\n",
       "    }\n",
       "\n",
       "    .dataframe tbody tr th {\n",
       "        vertical-align: top;\n",
       "    }\n",
       "\n",
       "    .dataframe thead th {\n",
       "        text-align: right;\n",
       "    }\n",
       "</style>\n",
       "<table border=\"1\" class=\"dataframe\">\n",
       "  <thead>\n",
       "    <tr style=\"text-align: right;\">\n",
       "      <th></th>\n",
       "      <th>pc1</th>\n",
       "      <th>pc2</th>\n",
       "      <th>pc3</th>\n",
       "      <th>Time</th>\n",
       "    </tr>\n",
       "  </thead>\n",
       "  <tbody>\n",
       "    <tr>\n",
       "      <th>0</th>\n",
       "      <td>0.338941</td>\n",
       "      <td>0.890303</td>\n",
       "      <td>1.167199</td>\n",
       "      <td>0.024</td>\n",
       "    </tr>\n",
       "    <tr>\n",
       "      <th>1</th>\n",
       "      <td>1.275808</td>\n",
       "      <td>1.062215</td>\n",
       "      <td>1.253714</td>\n",
       "      <td>0.024</td>\n",
       "    </tr>\n",
       "    <tr>\n",
       "      <th>2</th>\n",
       "      <td>-1.308113</td>\n",
       "      <td>2.339210</td>\n",
       "      <td>-0.433399</td>\n",
       "      <td>0.024</td>\n",
       "    </tr>\n",
       "    <tr>\n",
       "      <th>3</th>\n",
       "      <td>2.531819</td>\n",
       "      <td>0.571301</td>\n",
       "      <td>1.966418</td>\n",
       "      <td>0.024</td>\n",
       "    </tr>\n",
       "    <tr>\n",
       "      <th>4</th>\n",
       "      <td>-0.643436</td>\n",
       "      <td>-1.073200</td>\n",
       "      <td>2.550930</td>\n",
       "      <td>0.026</td>\n",
       "    </tr>\n",
       "  </tbody>\n",
       "</table>\n",
       "</div>"
      ],
      "text/plain": [
       "        pc1       pc2       pc3   Time\n",
       "0  0.338941  0.890303  1.167199  0.024\n",
       "1  1.275808  1.062215  1.253714  0.024\n",
       "2 -1.308113  2.339210 -0.433399  0.024\n",
       "3  2.531819  0.571301  1.966418  0.024\n",
       "4 -0.643436 -1.073200  2.550930  0.026"
      ]
     },
     "execution_count": 24,
     "metadata": {},
     "output_type": "execute_result"
    }
   ],
   "source": [
    "df_compressed.head()"
   ]
  },
  {
   "cell_type": "code",
   "execution_count": 25,
   "metadata": {},
   "outputs": [
    {
     "data": {
      "text/html": [
       "<div>\n",
       "<style scoped>\n",
       "    .dataframe tbody tr th:only-of-type {\n",
       "        vertical-align: middle;\n",
       "    }\n",
       "\n",
       "    .dataframe tbody tr th {\n",
       "        vertical-align: top;\n",
       "    }\n",
       "\n",
       "    .dataframe thead th {\n",
       "        text-align: right;\n",
       "    }\n",
       "</style>\n",
       "<table border=\"1\" class=\"dataframe\">\n",
       "  <thead>\n",
       "    <tr style=\"text-align: right;\">\n",
       "      <th></th>\n",
       "      <th>pc1</th>\n",
       "      <th>pc2</th>\n",
       "      <th>pc3</th>\n",
       "      <th>Time</th>\n",
       "    </tr>\n",
       "  </thead>\n",
       "  <tbody>\n",
       "    <tr>\n",
       "      <th>pc1</th>\n",
       "      <td>1.000000e+00</td>\n",
       "      <td>1.777280e-16</td>\n",
       "      <td>9.076931e-17</td>\n",
       "      <td>0.080252</td>\n",
       "    </tr>\n",
       "    <tr>\n",
       "      <th>pc2</th>\n",
       "      <td>1.777280e-16</td>\n",
       "      <td>1.000000e+00</td>\n",
       "      <td>-7.954082e-17</td>\n",
       "      <td>-0.512785</td>\n",
       "    </tr>\n",
       "    <tr>\n",
       "      <th>pc3</th>\n",
       "      <td>9.076931e-17</td>\n",
       "      <td>-7.954082e-17</td>\n",
       "      <td>1.000000e+00</td>\n",
       "      <td>-0.511631</td>\n",
       "    </tr>\n",
       "    <tr>\n",
       "      <th>Time</th>\n",
       "      <td>8.025211e-02</td>\n",
       "      <td>-5.127852e-01</td>\n",
       "      <td>-5.116312e-01</td>\n",
       "      <td>1.000000</td>\n",
       "    </tr>\n",
       "  </tbody>\n",
       "</table>\n",
       "</div>"
      ],
      "text/plain": [
       "               pc1           pc2           pc3      Time\n",
       "pc1   1.000000e+00  1.777280e-16  9.076931e-17  0.080252\n",
       "pc2   1.777280e-16  1.000000e+00 -7.954082e-17 -0.512785\n",
       "pc3   9.076931e-17 -7.954082e-17  1.000000e+00 -0.511631\n",
       "Time  8.025211e-02 -5.127852e-01 -5.116312e-01  1.000000"
      ]
     },
     "execution_count": 25,
     "metadata": {},
     "output_type": "execute_result"
    }
   ],
   "source": [
    "df_compressed.corr()"
   ]
  },
  {
   "cell_type": "code",
   "execution_count": 26,
   "metadata": {},
   "outputs": [
    {
     "data": {
      "text/plain": [
       "array([[<matplotlib.axes._subplots.AxesSubplot object at 0x7fa5bef86b50>,\n",
       "        <matplotlib.axes._subplots.AxesSubplot object at 0x7fa5bef348d0>,\n",
       "        <matplotlib.axes._subplots.AxesSubplot object at 0x7fa5beee8a90>,\n",
       "        <matplotlib.axes._subplots.AxesSubplot object at 0x7fa5bee9fc50>],\n",
       "       [<matplotlib.axes._subplots.AxesSubplot object at 0x7fa5bee5ae10>,\n",
       "        <matplotlib.axes._subplots.AxesSubplot object at 0x7fa5bee13fd0>,\n",
       "        <matplotlib.axes._subplots.AxesSubplot object at 0x7fa5bedd41d0>,\n",
       "        <matplotlib.axes._subplots.AxesSubplot object at 0x7fa5bed8d390>],\n",
       "       [<matplotlib.axes._subplots.AxesSubplot object at 0x7fa5bedc7550>,\n",
       "        <matplotlib.axes._subplots.AxesSubplot object at 0x7fa5bed7e710>,\n",
       "        <matplotlib.axes._subplots.AxesSubplot object at 0x7fa5bed368d0>,\n",
       "        <matplotlib.axes._subplots.AxesSubplot object at 0x7fa5becefa90>],\n",
       "       [<matplotlib.axes._subplots.AxesSubplot object at 0x7fa5beca7c50>,\n",
       "        <matplotlib.axes._subplots.AxesSubplot object at 0x7fa5bec60e10>,\n",
       "        <matplotlib.axes._subplots.AxesSubplot object at 0x7fa5bec19fd0>,\n",
       "        <matplotlib.axes._subplots.AxesSubplot object at 0x7fa5bebdd1d0>]],\n",
       "      dtype=object)"
      ]
     },
     "execution_count": 26,
     "metadata": {},
     "output_type": "execute_result"
    },
    {
     "data": {
      "image/png": "[encoded data removed]",
      "text/plain": [
       "<Figure size 1296x1080 with 16 Axes>"
      ]
     },
     "metadata": {
      "needs_background": "light"
     },
     "output_type": "display_data"
    }
   ],
   "source": [
    "pd.plotting.scatter_matrix(df_compressed, figsize=(18,15))"
   ]
  },
  {
   "cell_type": "markdown",
   "metadata": {},
   "source": [
    "## Linear Regression"
   ]
  },
  {
   "cell_type": "code",
   "execution_count": 27,
   "metadata": {},
   "outputs": [],
   "source": [
    "regressor = LinearRegression()"
   ]
  },
  {
   "cell_type": "code",
   "execution_count": 28,
   "metadata": {},
   "outputs": [],
   "source": [
    "X = df_compressed.copy()\n",
    "y = X.pop('Time')"
   ]
  },
  {
   "cell_type": "code",
   "execution_count": 29,
   "metadata": {
    "scrolled": true
   },
   "outputs": [
    {
     "data": {
      "text/plain": [
       "LinearRegression(copy_X=True, fit_intercept=True, n_jobs=None,\n",
       "         normalize=False)"
      ]
     },
     "execution_count": 29,
     "metadata": {},
     "output_type": "execute_result"
    }
   ],
   "source": [
    "regressor.fit(X,y)"
   ]
  },
  {
   "cell_type": "code",
   "execution_count": null,
   "metadata": {},
   "outputs": [],
   "source": []
  }
 ],
 "metadata": {
  "kernelspec": {
   "display_name": "Python 2",
   "language": "python",
   "name": "python2"
  },
  "language_info": {
   "codemirror_mode": {
    "name": "ipython",
    "version": 2
   },
   "file_extension": ".py",
   "mimetype": "text/x-python",
   "name": "python",
   "nbconvert_exporter": "python",
   "pygments_lexer": "ipython2",
   "version": "2.7.12"
  }
 },
 "nbformat": 4,
 "nbformat_minor": 2
}
