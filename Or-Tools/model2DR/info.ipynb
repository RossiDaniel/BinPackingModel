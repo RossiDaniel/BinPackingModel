{
 "cells": [
  {
   "cell_type": "code",
   "execution_count": 9,
   "metadata": {},
   "outputs": [],
   "source": [
    "import pandas as pd"
   ]
  },
  {
   "cell_type": "code",
   "execution_count": 10,
   "metadata": {},
   "outputs": [],
   "source": [
    "istanze = pd.read_excel('istanza.xlsx')\n",
    "result =pd.DataFrame({'opt': [], 'subopt': [],'opt_gap': [],'subopt_gap': [],'Err_ass_opt': [],'Err_ass_subopt': [], 'Time':[]})"
   ]
  },
  {
   "cell_type": "code",
   "execution_count": 11,
   "metadata": {
    "scrolled": false
   },
   "outputs": [],
   "source": [
    "for i in range(len(istanze)):\n",
    "    df=pd.read_excel('result'+str(i)+'.xlsx')\n",
    "    df.drop('n_items', axis =1, inplace=True)\n",
    "    df1 =df[(df['Time'] < 300)]\n",
    "    df2 =df[(df['Time'] >= 300)]\n",
    "    \n",
    "    opt = len(df1)\n",
    "    opt_gap = sum(df1.apply(lambda x: (x.Eu_obj-x.Mod_obj)/x.Mod_obj, axis = 1)*100)/len(df1) if len(df1) != 0 else 0\n",
    "    Err_ass_opt = sum(df1.apply(lambda x: (x.Eu_obj-x.Mod_obj), axis = 1))/len(df1) if len(df1) != 0 else 0\n",
    "    Time = sum(df1.Time)/len(df) if len(df1) != 0 else 0\n",
    "\n",
    "\n",
    "    subopt = len(df2)\n",
    "    subopt_gap = sum(df2.apply(lambda x: (x.Eu_obj-x.Mod_obj)/x.Mod_obj, axis = 1)*100)/len(df2) if len(df2) != 0 else 0\n",
    "    Err_ass_subopt = sum(df2.apply(lambda x: (x.Eu_obj-x.Mod_obj), axis = 1))/len(df2) if len(df2) != 0 else 0\n",
    "    \n",
    "    result=result.append(pd.DataFrame({'opt': [opt], 'subopt': [subopt],'opt_gap': [opt_gap],'subopt_gap': [subopt_gap],'Err_ass_opt': [Err_ass_opt],'Err_ass_subopt': [Err_ass_subopt], 'Time': [Time]}),ignore_index=True)"
   ]
  },
  {
   "cell_type": "code",
   "execution_count": 12,
   "metadata": {},
   "outputs": [
    {
     "data": {
      "text/html": [
       "<div>\n",
       "<style scoped>\n",
       "    .dataframe tbody tr th:only-of-type {\n",
       "        vertical-align: middle;\n",
       "    }\n",
       "\n",
       "    .dataframe tbody tr th {\n",
       "        vertical-align: top;\n",
       "    }\n",
       "\n",
       "    .dataframe thead th {\n",
       "        text-align: right;\n",
       "    }\n",
       "</style>\n",
       "<table border=\"1\" class=\"dataframe\">\n",
       "  <thead>\n",
       "    <tr style=\"text-align: right;\">\n",
       "      <th></th>\n",
       "      <th>Err_ass_opt</th>\n",
       "      <th>Err_ass_subopt</th>\n",
       "      <th>Time</th>\n",
       "      <th>opt</th>\n",
       "      <th>opt_gap</th>\n",
       "      <th>subopt</th>\n",
       "      <th>subopt_gap</th>\n",
       "    </tr>\n",
       "  </thead>\n",
       "  <tbody>\n",
       "    <tr>\n",
       "      <th>0</th>\n",
       "      <td>0.464842</td>\n",
       "      <td>0.65000</td>\n",
       "      <td>34.96424</td>\n",
       "      <td>95.0</td>\n",
       "      <td>4.570523</td>\n",
       "      <td>5.0</td>\n",
       "      <td>4.159692</td>\n",
       "    </tr>\n",
       "    <tr>\n",
       "      <th>1</th>\n",
       "      <td>0.745823</td>\n",
       "      <td>1.65381</td>\n",
       "      <td>9.93090</td>\n",
       "      <td>79.0</td>\n",
       "      <td>11.408060</td>\n",
       "      <td>21.0</td>\n",
       "      <td>16.433489</td>\n",
       "    </tr>\n",
       "  </tbody>\n",
       "</table>\n",
       "</div>"
      ],
      "text/plain": [
       "   Err_ass_opt  Err_ass_subopt      Time   opt    opt_gap  subopt  subopt_gap\n",
       "0     0.464842         0.65000  34.96424  95.0   4.570523     5.0    4.159692\n",
       "1     0.745823         1.65381   9.93090  79.0  11.408060    21.0   16.433489"
      ]
     },
     "execution_count": 12,
     "metadata": {},
     "output_type": "execute_result"
    }
   ],
   "source": [
    "result"
   ]
  },
  {
   "cell_type": "code",
   "execution_count": 7,
   "metadata": {},
   "outputs": [],
   "source": [
    "result.to_excel('info_result.xlsx', encoding='utf8')"
   ]
  },
  {
   "cell_type": "code",
   "execution_count": null,
   "metadata": {},
   "outputs": [],
   "source": []
  }
 ],
 "metadata": {
  "kernelspec": {
   "display_name": "Python 2",
   "language": "python",
   "name": "python2"
  },
  "language_info": {
   "codemirror_mode": {
    "name": "ipython",
    "version": 2
   },
   "file_extension": ".py",
   "mimetype": "text/x-python",
   "name": "python",
   "nbconvert_exporter": "python",
   "pygments_lexer": "ipython2",
   "version": "2.7.12"
  }
 },
 "nbformat": 4,
 "nbformat_minor": 2
}
