{
 "cells": [
  {
   "cell_type": "code",
   "execution_count": 58,
   "metadata": {},
   "outputs": [],
   "source": [
    "import pandas as pd\n",
    "from sklearn.decomposition import PCA\n",
    "from sklearn.preprocessing import StandardScaler\n",
    "import matplotlib.pyplot as plt\n",
    "from sklearn.linear_model import LinearRegression\n",
    "%matplotlib inline\n",
    "import seaborn as sns"
   ]
  },
  {
   "cell_type": "code",
   "execution_count": 59,
   "metadata": {},
   "outputs": [],
   "source": [
    "istanze = pd.read_excel('istanza.xlsx')\n",
    "result =pd.DataFrame({'opt': [], 'subopt': [],'opt_gap': [],'subopt_gap': [],'Err_ass_opt': [],'Err_ass_subopt': [], 'Time':[]})"
   ]
  },
  {
   "cell_type": "code",
   "execution_count": 60,
   "metadata": {
    "scrolled": false
   },
   "outputs": [],
   "source": [
    "for i in range(len(istanze)):\n",
    "    df=pd.read_excel('result'+str(i)+'.xlsx')\n",
    "    df.drop('n_items', axis =1, inplace=True)\n",
    "    df1 =df[(df['Time'] < 1) & (df['Eu_obj'] < 13.5)]\n",
    "    df2 =df[(df['Time'] >= 1) & (df['Eu_obj'] < 13.5)]\n",
    "    \n",
    "    opt = len(df1)\n",
    "    opt_gap = sum(df1.apply(lambda x: (x.Eu_obj-x.Mod_obj)/x.Mod_obj, axis = 1)*100)/len(df1) if len(df1) != 0 else 0\n",
    "    Err_ass_opt = sum(df1.apply(lambda x: (x.Eu_obj-x.Mod_obj), axis = 1))/len(df1) if len(df1) != 0 else 0\n",
    "    Time = sum(df1.Time)/len(df) if len(df1) != 0 else 0\n",
    "\n",
    "\n",
    "    subopt = len(df2)\n",
    "    subopt_gap = sum(df2.apply(lambda x: (x.Eu_obj-x.Mod_obj)/x.Mod_obj, axis = 1)*100)/len(df2) if len(df2) != 0 else 0\n",
    "    Err_ass_subopt = sum(df2.apply(lambda x: (x.Eu_obj-x.Mod_obj), axis = 1))/len(df2) if len(df2) != 0 else 0\n",
    "    \n",
    "    result=result.append(pd.DataFrame({'opt': [opt], 'subopt': [subopt],'opt_gap': [opt_gap],'subopt_gap': [subopt_gap],'Err_ass_opt': [Err_ass_opt],'Err_ass_subopt': [Err_ass_subopt], 'Time': [Time]}),ignore_index=True)"
   ]
  },
  {
   "cell_type": "code",
   "execution_count": 61,
   "metadata": {},
   "outputs": [
    {
     "data": {
      "text/html": [
       "<div>\n",
       "<style scoped>\n",
       "    .dataframe tbody tr th:only-of-type {\n",
       "        vertical-align: middle;\n",
       "    }\n",
       "\n",
       "    .dataframe tbody tr th {\n",
       "        vertical-align: top;\n",
       "    }\n",
       "\n",
       "    .dataframe thead th {\n",
       "        text-align: right;\n",
       "    }\n",
       "</style>\n",
       "<table border=\"1\" class=\"dataframe\">\n",
       "  <thead>\n",
       "    <tr style=\"text-align: right;\">\n",
       "      <th></th>\n",
       "      <th>Err_ass_opt</th>\n",
       "      <th>Err_ass_subopt</th>\n",
       "      <th>Time</th>\n",
       "      <th>opt</th>\n",
       "      <th>opt_gap</th>\n",
       "      <th>subopt</th>\n",
       "      <th>subopt_gap</th>\n",
       "    </tr>\n",
       "  </thead>\n",
       "  <tbody>\n",
       "    <tr>\n",
       "      <th>0</th>\n",
       "      <td>0.005000</td>\n",
       "      <td>0.069600</td>\n",
       "      <td>0.0842</td>\n",
       "      <td>5.0</td>\n",
       "      <td>0.421941</td>\n",
       "      <td>5.0</td>\n",
       "      <td>6.500071</td>\n",
       "    </tr>\n",
       "    <tr>\n",
       "      <th>1</th>\n",
       "      <td>0.000000</td>\n",
       "      <td>0.101200</td>\n",
       "      <td>0.2457</td>\n",
       "      <td>5.0</td>\n",
       "      <td>0.000000</td>\n",
       "      <td>5.0</td>\n",
       "      <td>7.998699</td>\n",
       "    </tr>\n",
       "    <tr>\n",
       "      <th>2</th>\n",
       "      <td>0.003200</td>\n",
       "      <td>0.026800</td>\n",
       "      <td>0.0722</td>\n",
       "      <td>5.0</td>\n",
       "      <td>0.270957</td>\n",
       "      <td>5.0</td>\n",
       "      <td>2.162594</td>\n",
       "    </tr>\n",
       "    <tr>\n",
       "      <th>3</th>\n",
       "      <td>0.013286</td>\n",
       "      <td>0.080667</td>\n",
       "      <td>0.0714</td>\n",
       "      <td>7.0</td>\n",
       "      <td>1.059467</td>\n",
       "      <td>3.0</td>\n",
       "      <td>6.106865</td>\n",
       "    </tr>\n",
       "    <tr>\n",
       "      <th>4</th>\n",
       "      <td>0.046714</td>\n",
       "      <td>0.072333</td>\n",
       "      <td>0.2410</td>\n",
       "      <td>7.0</td>\n",
       "      <td>3.978511</td>\n",
       "      <td>3.0</td>\n",
       "      <td>5.256720</td>\n",
       "    </tr>\n",
       "    <tr>\n",
       "      <th>5</th>\n",
       "      <td>0.038667</td>\n",
       "      <td>0.084500</td>\n",
       "      <td>0.1424</td>\n",
       "      <td>6.0</td>\n",
       "      <td>3.950972</td>\n",
       "      <td>4.0</td>\n",
       "      <td>6.173391</td>\n",
       "    </tr>\n",
       "    <tr>\n",
       "      <th>6</th>\n",
       "      <td>0.000500</td>\n",
       "      <td>0.000000</td>\n",
       "      <td>0.2101</td>\n",
       "      <td>8.0</td>\n",
       "      <td>0.008807</td>\n",
       "      <td>2.0</td>\n",
       "      <td>0.000000</td>\n",
       "    </tr>\n",
       "  </tbody>\n",
       "</table>\n",
       "</div>"
      ],
      "text/plain": [
       "   Err_ass_opt  Err_ass_subopt    Time  opt   opt_gap  subopt  subopt_gap\n",
       "0     0.005000        0.069600  0.0842  5.0  0.421941     5.0    6.500071\n",
       "1     0.000000        0.101200  0.2457  5.0  0.000000     5.0    7.998699\n",
       "2     0.003200        0.026800  0.0722  5.0  0.270957     5.0    2.162594\n",
       "3     0.013286        0.080667  0.0714  7.0  1.059467     3.0    6.106865\n",
       "4     0.046714        0.072333  0.2410  7.0  3.978511     3.0    5.256720\n",
       "5     0.038667        0.084500  0.1424  6.0  3.950972     4.0    6.173391\n",
       "6     0.000500        0.000000  0.2101  8.0  0.008807     2.0    0.000000"
      ]
     },
     "execution_count": 61,
     "metadata": {},
     "output_type": "execute_result"
    }
   ],
   "source": [
    "result"
   ]
  },
  {
   "cell_type": "code",
   "execution_count": 14,
   "metadata": {},
   "outputs": [],
   "source": [
    "result.to_excel('info_result.xlsx', encoding='utf8')"
   ]
  },
  {
   "cell_type": "code",
   "execution_count": null,
   "metadata": {},
   "outputs": [],
   "source": []
  }
 ],
 "metadata": {
  "kernelspec": {
   "display_name": "Python 2",
   "language": "python",
   "name": "python2"
  },
  "language_info": {
   "codemirror_mode": {
    "name": "ipython",
    "version": 2
   },
   "file_extension": ".py",
   "mimetype": "text/x-python",
   "name": "python",
   "nbconvert_exporter": "python",
   "pygments_lexer": "ipython2",
   "version": "2.7.12"
  }
 },
 "nbformat": 4,
 "nbformat_minor": 2
}
