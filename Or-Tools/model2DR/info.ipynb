{
 "cells": [
  {
   "cell_type": "code",
   "execution_count": 19,
   "metadata": {},
   "outputs": [],
   "source": [
    "import pandas as pd\n",
    "from sklearn.decomposition import PCA\n",
    "from sklearn.preprocessing import StandardScaler\n",
    "import matplotlib.pyplot as plt\n",
    "from sklearn.linear_model import LinearRegression\n",
    "%matplotlib inline\n",
    "import seaborn as sns"
   ]
  },
  {
   "cell_type": "code",
   "execution_count": 20,
   "metadata": {},
   "outputs": [],
   "source": [
    "istanze = pd.read_excel('istanza.xlsx')\n",
    "result =pd.DataFrame({'opt': [], 'subopt': [],'opt_gap': [],'subopt_gap': [],'Err_ass_opt': [],'Err_ass_subopt': [], 'Time':[]})"
   ]
  },
  {
   "cell_type": "code",
   "execution_count": 23,
   "metadata": {
    "scrolled": false
   },
   "outputs": [],
   "source": [
    "for i in range(len(istanze)):\n",
    "    df=pd.read_excel('result'+str(i)+'.xlsx')\n",
    "    df.drop('n_items', axis =1, inplace=True)\n",
    "    df1 =df[(df['Time'] < 300) & (df['Eu_obj'] < 13.5)]\n",
    "    df2 =df[(df['Time'] >= 300) & (df['Eu_obj'] < 13.5)]\n",
    "    \n",
    "    opt = len(df1)\n",
    "    opt_gap = sum(df1.apply(lambda x: (x.Eu_obj-x.Mod_obj)/x.Mod_obj, axis = 1)*100)/len(df1) if len(df1) != 0 else 0\n",
    "    Err_ass_opt = sum(df1.apply(lambda x: (x.Eu_obj-x.Mod_obj), axis = 1))/len(df1) if len(df1) != 0 else 0\n",
    "    Time = sum(df1.Time)/len(df) if len(df1) != 0 else 0\n",
    "\n",
    "\n",
    "    subopt = len(df2)\n",
    "    subopt_gap = sum(df2.apply(lambda x: (x.Eu_obj-x.Mod_obj)/x.Mod_obj, axis = 1)*100)/len(df2) if len(df2) != 0 else 0\n",
    "    Err_ass_subopt = sum(df2.apply(lambda x: (x.Eu_obj-x.Mod_obj), axis = 1))/len(df2) if len(df2) != 0 else 0\n",
    "    \n",
    "    result=result.append(pd.DataFrame({'opt': [opt], 'subopt': [subopt],'opt_gap': [opt_gap],'subopt_gap': [subopt_gap],'Err_ass_opt': [Err_ass_opt],'Err_ass_subopt': [Err_ass_subopt], 'Time': [Time]}),ignore_index=True)"
   ]
  },
  {
   "cell_type": "code",
   "execution_count": 24,
   "metadata": {},
   "outputs": [
    {
     "data": {
      "text/html": [
       "<div>\n",
       "<style scoped>\n",
       "    .dataframe tbody tr th:only-of-type {\n",
       "        vertical-align: middle;\n",
       "    }\n",
       "\n",
       "    .dataframe tbody tr th {\n",
       "        vertical-align: top;\n",
       "    }\n",
       "\n",
       "    .dataframe thead th {\n",
       "        text-align: right;\n",
       "    }\n",
       "</style>\n",
       "<table border=\"1\" class=\"dataframe\">\n",
       "  <thead>\n",
       "    <tr style=\"text-align: right;\">\n",
       "      <th></th>\n",
       "      <th>Err_ass_opt</th>\n",
       "      <th>Err_ass_subopt</th>\n",
       "      <th>Time</th>\n",
       "      <th>opt</th>\n",
       "      <th>opt_gap</th>\n",
       "      <th>subopt</th>\n",
       "      <th>subopt_gap</th>\n",
       "    </tr>\n",
       "  </thead>\n",
       "  <tbody>\n",
       "    <tr>\n",
       "      <th>0</th>\n",
       "      <td>0.297333</td>\n",
       "      <td>0.45600</td>\n",
       "      <td>36.24770</td>\n",
       "      <td>15.0</td>\n",
       "      <td>6.918493</td>\n",
       "      <td>5.0</td>\n",
       "      <td>6.579500</td>\n",
       "    </tr>\n",
       "    <tr>\n",
       "      <th>1</th>\n",
       "      <td>0.396667</td>\n",
       "      <td>0.90625</td>\n",
       "      <td>4.66455</td>\n",
       "      <td>12.0</td>\n",
       "      <td>10.982835</td>\n",
       "      <td>8.0</td>\n",
       "      <td>14.125614</td>\n",
       "    </tr>\n",
       "  </tbody>\n",
       "</table>\n",
       "</div>"
      ],
      "text/plain": [
       "   Err_ass_opt  Err_ass_subopt      Time   opt    opt_gap  subopt  subopt_gap\n",
       "0     0.297333         0.45600  36.24770  15.0   6.918493     5.0    6.579500\n",
       "1     0.396667         0.90625   4.66455  12.0  10.982835     8.0   14.125614"
      ]
     },
     "execution_count": 24,
     "metadata": {},
     "output_type": "execute_result"
    }
   ],
   "source": [
    "result"
   ]
  },
  {
   "cell_type": "code",
   "execution_count": 14,
   "metadata": {},
   "outputs": [],
   "source": [
    "result.to_excel('info_result.xlsx', encoding='utf8')"
   ]
  },
  {
   "cell_type": "code",
   "execution_count": null,
   "metadata": {},
   "outputs": [],
   "source": []
  }
 ],
 "metadata": {
  "kernelspec": {
   "display_name": "Python 2",
   "language": "python",
   "name": "python2"
  },
  "language_info": {
   "codemirror_mode": {
    "name": "ipython",
    "version": 2
   },
   "file_extension": ".py",
   "mimetype": "text/x-python",
   "name": "python",
   "nbconvert_exporter": "python",
   "pygments_lexer": "ipython2",
   "version": "2.7.12"
  }
 },
 "nbformat": 4,
 "nbformat_minor": 2
}
