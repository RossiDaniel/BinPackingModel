{
 "cells": [
  {
   "cell_type": "code",
   "execution_count": 1,
   "metadata": {},
   "outputs": [],
   "source": [
    "import sys\n",
    "sys.path.append(\"/home/rossidaniel/Documenti/bin-packing/Python/\")\n",
    "sys.path.append(\"/home/rossidaniel/Documenti/bin-packing/\")\n",
    "sys.path.append(\"/home/rossidaniel/Dropbox\")\n",
    "sys.path.append(\"/home/rossidaniel/Documenti/bin-packing/Python\")"
   ]
  },
  {
   "cell_type": "code",
   "execution_count": 2,
   "metadata": {},
   "outputs": [],
   "source": [
    "import Bin_Packing_Py as BP\n",
    "import BP_print\n",
    "import BP_plot\n",
    "import BP_utilities\n",
    "import HA_routines\n",
    "import BP_instances\n",
    "\n",
    "import matplotlib\n",
    "%matplotlib nbagg\n",
    "matplotlib.rcParams['figure.figsize'] = [6,3.5]\n",
    "\n",
    "from ortools.linear_solver import pywraplp\n",
    "import random\n",
    "import time\n",
    "import csv\n",
    "\n",
    "import pandas as pd\n",
    "from sqlalchemy import create_engine\n",
    "from mail import send_mail\n",
    "from Test_BP_G import euristic"
   ]
  },
  {
   "cell_type": "code",
   "execution_count": 3,
   "metadata": {
    "scrolled": true
   },
   "outputs": [],
   "source": [
    "class model_bin_packing:\n",
    "    def __init__(self,item_list,bin_list):\n",
    "        self.bp = BP.BinPack()\n",
    "        self.bp.items.extend(item_list)\n",
    "        self.bp.bins.extend(bin_list)\n",
    "        \n",
    "    def buildModel(self,amount_time=300000):\n",
    "        solver = pywraplp.Solver('Model2DR', pywraplp.Solver.CBC_MIXED_INTEGER_PROGRAMMING)\n",
    "        #importo dimensioni dei pacchi e del camion\n",
    "        n=len(self.bp.items)\n",
    "\n",
    "        w =[self.bp.items[i].width for i in range(n)]\n",
    "        d =[self.bp.items[i].depth for i in range(n)]\n",
    "        h =[self.bp.items[i].height for i in range(n)]\n",
    "        M=sum([max(w[i],d[i]) for i in range(n)])\n",
    "\n",
    "        W =self.bp.bins[0].width\n",
    "        D =solver.NumVar(0,M,\"D\")\n",
    "        H =self.bp.bins[0].height\n",
    "        \n",
    "        Mw=W+M\n",
    "        Md=self.bp.bins[0].depth+M\n",
    "        Mz=H+max(h)\n",
    "                \n",
    "        # definisco le variabili\n",
    "        l =[[solver.BoolVar(\"l%d%d\" % (i,j)) for i in range(n)] for j in range(n)]\n",
    "        b =[[solver.BoolVar(\"b%d%d\" % (i,j)) for i in range(n)] for j in range(n)]\n",
    "        r =[solver.BoolVar(\"r%d\" % (i)) for i in range(n)]\n",
    "\n",
    "        x =[solver.NumVar(0,solver.infinity(),\"x%d\" % i) for i in range(n)]\n",
    "        y =[solver.NumVar(0,solver.infinity(),\"y%d\" % i) for i in range(n)]\n",
    "\n",
    "\n",
    "        #definisco i constraints\n",
    "        for i in range(n):\n",
    "            for j in range(n):\n",
    "                if(i < j):\n",
    "                    solver.Add(l[i][j] + l[j][i] + b[i][j] + b[j][i] >= 1)                           #(1)\n",
    "                if(i != j):\n",
    "                    solver.Add(x[i] - x[j] + Mw * l[i][j] <= Mw - w[i]*(1-r[i]) - d[i]*r[i])         #(2)\n",
    "                    solver.Add(y[i] - y[j] + Md * b[i][j] <= Md - d[i]*(1-r[i]) - w[i]*r[i])         #(3)\n",
    "            solver.Add(x[i] + w[i]*(1-r[i]) + d[i]*r[i] <= W)                                        #(4)\n",
    "            solver.Add(y[i] + d[i]*(1-r[i]) + w[i]*r[i] <= D)                                        #(5)\n",
    "\n",
    "        #funzione obiettivo\n",
    "        objective = solver.Objective()\n",
    "        objective.SetCoefficient(D,1)\n",
    "        objective.SetMinimization()\n",
    "\n",
    "        #soluzione\n",
    "        solver.SetTimeLimit(amount_time)\n",
    "        t=time.time()\n",
    "        solver.Solve()\n",
    "        t =time.time()-t\n",
    "\n",
    "        s = BP.Solution(self.bp)\n",
    "        for i in range(len(self.bp.items)):\n",
    "            rt = False if r[i].solution_value() == 0 else True\n",
    "            s.pushItem(self.bp.items[i],0,BP.Point(x[i].solution_value(),y[i].solution_value(),0),rt,False)\n",
    "        return s,t,w,d,h,n\n",
    "    \n",
    "    def BuildSolution(self,s):\n",
    "        print s\n",
    "    \n",
    "    def plotSolution(self,s):\n",
    "        BP_plot.plotSolution(s)\n",
    "    \n",
    "    def plot3Dsolution(self,s):\n",
    "        BP_plot.plot3DSolution(s,0)\n",
    "\n",
    "    def feasible(self):\n",
    "        return self.bp.bins[0].height*self.bp.bins[0].width >= sum([self.bp.items[i].width*self.bp.items[i].height for i in range(len(self.bp.items))])"
   ]
  },
  {
   "cell_type": "code",
   "execution_count": 4,
   "metadata": {},
   "outputs": [],
   "source": [
    "n_items = []\n",
    "Avg_w = []\n",
    "Avg_d = []\n",
    "Avg_a = []\n",
    "Time = []\n",
    "eu_obj = []\n",
    "mod_obj = []\n",
    "Avg_wd = []\n",
    "square_index = []"
   ]
  },
  {
   "cell_type": "code",
   "execution_count": 5,
   "metadata": {},
   "outputs": [
    {
     "name": "stdout",
     "output_type": "stream",
     "text": [
      "0\n"
     ]
    },
    {
     "data": {
      "image/png": "[encoded data removed]",
      "text/plain": [
       "<Figure size 432x288 with 1 Axes>"
      ]
     },
     "metadata": {
      "needs_background": "light"
     },
     "output_type": "display_data"
    }
   ],
   "source": [
    "for i in range(1):\n",
    "    if (i % 25 == 0): print i\n",
    "    items,bins=BP_instances.tc_sfida()\n",
    "    model = model_bin_packing(items,bins)\n",
    "    s,t,w,d,h,n=model.buildModel()\n",
    "    s.computeObj()\n",
    "    BP_plot.plotSolution(s)\n",
    "    mod_obj.append(s.obj)\n",
    "    eu_obj.append(euristic(items,bins))\n",
    "    Time.append(round(t,3))\n",
    "    Avg_w.append(round(sum(w)/n,3))\n",
    "    Avg_d.append(round(sum(d)/n,3))\n",
    "    square_index.append((min(Avg_w[i],Avg_d[i])/max(Avg_w[i],Avg_d[i])*100))\n",
    "    A = [w[i]*d[i] for i in range(n)]\n",
    "    Avg_a.append(sum(A)/n)\n",
    "    equals.append(max(A)-min(A))\n",
    "    n_items.append(n)\n",
    "    big.append(sum(w[i]*d[i] for i in range(n))/n)"
   ]
  },
  {
   "cell_type": "code",
   "execution_count": 6,
   "metadata": {},
   "outputs": [],
   "source": [
    "dimensioni =pd.DataFrame({'n_items': n_items, 'Square_index': square_index, 'Avg width': Avg_w,'Avg depth': Avg_d,'Avg Area': Avg_a,'Eu obj': eu_obj,'Mod obj': mod_obj, 'Time': Time})"
   ]
  },
  {
   "cell_type": "code",
   "execution_count": 7,
   "metadata": {},
   "outputs": [],
   "source": [
    "dimensioni.to_excel('result.xlsx', encoding='utf8')\n",
    "dimensioni.to_latex('result.tex', encoding='utf8')\n",
    "dimensioni.to_csv('result.csv', encoding='utf8')"
   ]
  },
  {
   "cell_type": "code",
   "execution_count": 8,
   "metadata": {},
   "outputs": [
    {
     "data": {
      "text/html": [
       "<div>\n",
       "<style scoped>\n",
       "    .dataframe tbody tr th:only-of-type {\n",
       "        vertical-align: middle;\n",
       "    }\n",
       "\n",
       "    .dataframe tbody tr th {\n",
       "        vertical-align: top;\n",
       "    }\n",
       "\n",
       "    .dataframe thead th {\n",
       "        text-align: right;\n",
       "    }\n",
       "</style>\n",
       "<table border=\"1\" class=\"dataframe\">\n",
       "  <thead>\n",
       "    <tr style=\"text-align: right;\">\n",
       "      <th></th>\n",
       "      <th>Avg Area</th>\n",
       "      <th>Avg depth</th>\n",
       "      <th>Avg width</th>\n",
       "      <th>Eu obj</th>\n",
       "      <th>Mod obj</th>\n",
       "      <th>Square_index</th>\n",
       "      <th>Time</th>\n",
       "      <th>n_items</th>\n",
       "    </tr>\n",
       "  </thead>\n",
       "  <tbody>\n",
       "    <tr>\n",
       "      <th>0</th>\n",
       "      <td>1.113333</td>\n",
       "      <td>1.4</td>\n",
       "      <td>0.7</td>\n",
       "      <td>3.6</td>\n",
       "      <td>4.4</td>\n",
       "      <td>50.0</td>\n",
       "      <td>305.593</td>\n",
       "      <td>9</td>\n",
       "    </tr>\n",
       "  </tbody>\n",
       "</table>\n",
       "</div>"
      ],
      "text/plain": [
       "   Avg Area  Avg depth  Avg width  Eu obj  Mod obj  Square_index     Time  \\\n",
       "0  1.113333        1.4        0.7     3.6      4.4          50.0  305.593   \n",
       "\n",
       "   n_items  \n",
       "0        9  "
      ]
     },
     "execution_count": 8,
     "metadata": {},
     "output_type": "execute_result"
    }
   ],
   "source": [
    "dimensioni"
   ]
  },
  {
   "cell_type": "code",
   "execution_count": 9,
   "metadata": {},
   "outputs": [],
   "source": [
    "#send_mail()"
   ]
  },
  {
   "cell_type": "code",
   "execution_count": 10,
   "metadata": {},
   "outputs": [
    {
     "data": {
      "text/html": [
       "<div>\n",
       "<style scoped>\n",
       "    .dataframe tbody tr th:only-of-type {\n",
       "        vertical-align: middle;\n",
       "    }\n",
       "\n",
       "    .dataframe tbody tr th {\n",
       "        vertical-align: top;\n",
       "    }\n",
       "\n",
       "    .dataframe thead th {\n",
       "        text-align: right;\n",
       "    }\n",
       "</style>\n",
       "<table border=\"1\" class=\"dataframe\">\n",
       "  <thead>\n",
       "    <tr style=\"text-align: right;\">\n",
       "      <th></th>\n",
       "      <th>Avg Area</th>\n",
       "      <th>Avg depth</th>\n",
       "      <th>Avg width</th>\n",
       "      <th>Eu obj</th>\n",
       "      <th>Mod obj</th>\n",
       "      <th>Time</th>\n",
       "      <th>n_items</th>\n",
       "    </tr>\n",
       "  </thead>\n",
       "  <tbody>\n",
       "    <tr>\n",
       "      <th>0</th>\n",
       "      <td>1.113333</td>\n",
       "      <td>1.4</td>\n",
       "      <td>0.7</td>\n",
       "      <td>3.6</td>\n",
       "      <td>4.4</td>\n",
       "      <td>305.593</td>\n",
       "      <td>9</td>\n",
       "    </tr>\n",
       "  </tbody>\n",
       "</table>\n",
       "</div>"
      ],
      "text/plain": [
       "   Avg Area  Avg depth  Avg width  Eu obj  Mod obj     Time  n_items\n",
       "0  1.113333        1.4        0.7     3.6      4.4  305.593        9"
      ]
     },
     "execution_count": 10,
     "metadata": {},
     "output_type": "execute_result"
    }
   ],
   "source": [
    "dimensioni.drop(columns='Square_index')"
   ]
  },
  {
   "cell_type": "code",
   "execution_count": null,
   "metadata": {},
   "outputs": [],
   "source": []
  },
  {
   "cell_type": "code",
   "execution_count": null,
   "metadata": {},
   "outputs": [],
   "source": []
  }
 ],
 "metadata": {
  "kernelspec": {
   "display_name": "Python 2",
   "language": "python",
   "name": "python2"
  },
  "language_info": {
   "codemirror_mode": {
    "name": "ipython",
    "version": 2
   },
   "file_extension": ".py",
   "mimetype": "text/x-python",
   "name": "python",
   "nbconvert_exporter": "python",
   "pygments_lexer": "ipython2",
   "version": "2.7.12"
  }
 },
 "nbformat": 4,
 "nbformat_minor": 2
}
