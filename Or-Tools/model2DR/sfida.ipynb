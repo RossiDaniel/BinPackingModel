{
 "cells": [
  {
   "cell_type": "code",
   "execution_count": 31,
   "metadata": {},
   "outputs": [],
   "source": [
    "import sys\n",
    "sys.path.append(\"/home/rossidaniel/Documenti/bin-packing/Python/\")\n",
    "sys.path.append(\"/home/rossidaniel/Documenti/bin-packing/\")\n",
    "sys.path.append(\"/home/rossidaniel/Dropbox\")\n",
    "sys.path.append(\"/home/rossidaniel/Documenti/bin-packing/Python\")"
   ]
  },
  {
   "cell_type": "code",
   "execution_count": 32,
   "metadata": {},
   "outputs": [],
   "source": [
    "import Bin_Packing_Py as BP\n",
    "import BP_print\n",
    "import BP_plot\n",
    "import BP_utilities\n",
    "import HA_routines\n",
    "import BP_instances\n",
    "\n",
    "import matplotlib\n",
    "%matplotlib nbagg\n",
    "matplotlib.rcParams['figure.figsize'] = [6,3.5]\n",
    "\n",
    "from ortools.linear_solver import pywraplp\n",
    "import random\n",
    "import time\n",
    "import csv\n",
    "\n",
    "import pandas as pd\n",
    "from sqlalchemy import create_engine\n",
    "from mail import send_mail\n",
    "from Test_BP_G import euristic"
   ]
  },
  {
   "cell_type": "code",
   "execution_count": 38,
   "metadata": {},
   "outputs": [],
   "source": [
    "def rw(it):\n",
    "    return it.realDim().width*it.item.rotation + it.realDim().depth*(1-it.item.rotation)"
   ]
  },
  {
   "cell_type": "code",
   "execution_count": 39,
   "metadata": {},
   "outputs": [],
   "source": [
    "def rd(it):\n",
    "    return it.realDim().depth*it.item.rotation + it.realDim().width*(1-it.item.rotation)"
   ]
  },
  {
   "cell_type": "code",
   "execution_count": 40,
   "metadata": {},
   "outputs": [],
   "source": [
    "def lateral(i,j,items):\n",
    "    return 0 if(round(items[j].pos.y,6) >= round(items[i].pos.y,6) + round(rd(items[i]))) else 1"
   ]
  },
  {
   "cell_type": "code",
   "execution_count": 41,
   "metadata": {},
   "outputs": [],
   "source": [
    "def check(i,j,items):\n",
    "    if round(items[j].pos.y,6) + round(rd(items[j]),6) <= round(items[i].pos.y,6):\n",
    "        return 0,0,0\n",
    "    if(round(items[j].pos.x,6) + round(rd(items[j]),6)):\n",
    "        n= lateral(i,j,items)\n",
    "        return n,0,0\n",
    "    if(round(items[j].pos.x,6) >= round(items[i].pos.x,6) + round(rw(items[i]),6)):\n",
    "        n= lateral(i,j,items)\n",
    "        return 0,n,0\n",
    "    \n",
    "    return 0,0,1"
   ]
  },
  {
   "cell_type": "code",
   "execution_count": 42,
   "metadata": {},
   "outputs": [],
   "source": [
    "def choose(i, items):\n",
    "    left = 0\n",
    "    right = 0\n",
    "    high = 0\n",
    "    l = 0\n",
    "    r = 0\n",
    "    h = 0\n",
    "    for j in range(len(items)):\n",
    "        if (items[i].item.order_id < items[j].item.order_id and i != j):\n",
    "            #print \"\"\n",
    "            #print 'i_d:',items[i].item.order_id ,' j_d:', items[j].item.order_id ,' i:', i ,' j:', j\n",
    "            l,r,h = check(i,j,items)\n",
    "\n",
    "            if l == True: print j,\"a sinistra di\",i\n",
    "            if r == True: print j,\"a destra di\",i\n",
    "            if h == True: print j,\"al di sopra di\",i\n",
    "\n",
    "            left += l\n",
    "            right += r\n",
    "            high += h\n",
    "    #print left,right,high\n",
    "    if left >0 and right > 0 and high > 0: print i; return True\n",
    "    return False"
   ]
  },
  {
   "cell_type": "code",
   "execution_count": 43,
   "metadata": {},
   "outputs": [],
   "source": [
    "def isfeasibleorder(solution):\n",
    "    items =solution.getAnchors(0)\n",
    "    for i in range(len(items)):\n",
    "        if choose(i,items) == True: return True\n",
    "    return False"
   ]
  },
  {
   "cell_type": "code",
   "execution_count": 7,
   "metadata": {},
   "outputs": [],
   "source": [
    "def tc_sfida():\n",
    "    item_list = []\n",
    "    bin_list = []\n",
    "\n",
    "    bin_list.append(BP.Bin(2.70, 13.5, 2.45))\n",
    "    bin_list.append(BP.Bin(0, 0, 0))\n",
    "\n",
    "    n_items =random.randint(3,7)\n",
    "\n",
    "    for i in range(10):\n",
    "        w=random.uniform(0.5,1)\n",
    "        d=random.uniform(0.5,1)\n",
    "        h=random.uniform(0.5,1.5)\n",
    "        item = BP.Item(i,h,d,w)\n",
    "        item.stackable = random.randint(0,0)\n",
    "        item.order_id = random.randint(0,3)\n",
    "        item.weight = 4\n",
    "        item_list.append(item)\n",
    "\n",
    "    return item_list, bin_list"
   ]
  },
  {
   "cell_type": "code",
   "execution_count": 8,
   "metadata": {
    "scrolled": true
   },
   "outputs": [],
   "source": [
    "class model_bin_packing:\n",
    "    def __init__(self,item_list,bin_list):\n",
    "        self.bp = BP.BinPack()\n",
    "        self.bp.items.extend(item_list)\n",
    "        self.bp.bins.extend(bin_list)\n",
    "        \n",
    "    def buildModel(self,amount_time=300000):\n",
    "        solver = pywraplp.Solver('Model2DR', pywraplp.Solver.CBC_MIXED_INTEGER_PROGRAMMING)\n",
    "        #importo dimensioni dei pacchi e del camion\n",
    "        n=len(self.bp.items)\n",
    "\n",
    "        w =[self.bp.items[i].width for i in range(n)]\n",
    "        d =[self.bp.items[i].depth for i in range(n)]\n",
    "        h =[self.bp.items[i].height for i in range(n)]\n",
    "        M=sum([max(w[i],d[i]) for i in range(n)])\n",
    "\n",
    "        W =self.bp.bins[0].width\n",
    "        D =solver.NumVar(0,M,\"D\")\n",
    "        H =self.bp.bins[0].height\n",
    "        \n",
    "        Mw=W+M\n",
    "        Md=self.bp.bins[0].depth+M\n",
    "        Mz=H+max(h)\n",
    "                \n",
    "        # definisco le variabili\n",
    "        l =[[solver.BoolVar(\"l%d%d\" % (i,j)) for i in range(n)] for j in range(n)]\n",
    "        b =[[solver.BoolVar(\"b%d%d\" % (i,j)) for i in range(n)] for j in range(n)]\n",
    "        r =[solver.BoolVar(\"r%d\" % (i)) for i in range(n)]\n",
    "\n",
    "        x =[solver.NumVar(0,solver.infinity(),\"x%d\" % i) for i in range(n)]\n",
    "        y =[solver.NumVar(0,solver.infinity(),\"y%d\" % i) for i in range(n)]\n",
    "\n",
    "\n",
    "        #definisco i constraints\n",
    "        for i in range(n):\n",
    "            for j in range(n):\n",
    "                if(i < j):\n",
    "                    solver.Add(l[i][j] + l[j][i] + b[i][j] + b[j][i] >= 1)                           #(1)\n",
    "                if(i != j):\n",
    "                    solver.Add(x[i] - x[j] + Mw * l[i][j] <= Mw - w[i]*(1-r[i]) - d[i]*r[i])         #(2)\n",
    "                    solver.Add(y[i] - y[j] + Md * b[i][j] <= Md - d[i]*(1-r[i]) - w[i]*r[i])         #(3)\n",
    "            solver.Add(x[i] + w[i]*(1-r[i]) + d[i]*r[i] <= W)                                        #(4)\n",
    "            solver.Add(y[i] + d[i]*(1-r[i]) + w[i]*r[i] <= D)                                        #(5)\n",
    "\n",
    "        #funzione obiettivo\n",
    "        objective = solver.Objective()\n",
    "        objective.SetCoefficient(D,1)\n",
    "        objective.SetMinimization()\n",
    "\n",
    "        #soluzione\n",
    "        solver.SetTimeLimit(amount_time)\n",
    "        t=time.time()\n",
    "        solver.Solve()\n",
    "        t =time.time()-t\n",
    "\n",
    "        s = BP.Solution(self.bp)\n",
    "        for i in range(len(self.bp.items)):\n",
    "            rt = False if r[i].solution_value() == 0 else True\n",
    "            s.pushItem(self.bp.items[i],0,BP.Point(round(x[i].solution_value(),3),round(y[i].solution_value(),3),0),rt,False)\n",
    "        return s,t,w,d,h,n\n",
    "    \n",
    "    def BuildSolution(self,s):\n",
    "        print s\n",
    "    \n",
    "    def plotSolution(self,s):\n",
    "        BP_plot.plotSolution(s)\n",
    "    \n",
    "    def plot3Dsolution(self,s):\n",
    "        BP_plot.plot3DSolution(s,0)\n",
    "\n",
    "    def feasible(self):\n",
    "        return self.bp.bins[0].height*self.bp.bins[0].width >= sum([self.bp.items[i].width*self.bp.items[i].height for i in range(len(self.bp.items))])"
   ]
  },
  {
   "cell_type": "code",
   "execution_count": 9,
   "metadata": {},
   "outputs": [],
   "source": [
    "n_items = []\n",
    "Avg_w = []\n",
    "Avg_d = []\n",
    "Avg_a = []\n",
    "Time = []\n",
    "eu_obj = []\n",
    "mod_obj = []\n",
    "Avg_wd = []\n",
    "square_index = []"
   ]
  },
  {
   "cell_type": "code",
   "execution_count": 24,
   "metadata": {},
   "outputs": [],
   "source": [
    "#for i in range(1):\n",
    "#    if (i % 25 == 0): print i\n",
    "items,bins=tc_sfida()\n",
    "model = model_bin_packing(items,bins)\n",
    "s,t,w,d,h,n=model.buildModel()\n",
    "s.computeObj()\n",
    "mod_obj.append(s.obj)\n",
    "eu_obj.append(euristic(items,bins))\n",
    "Time.append(round(t,3))\n",
    "n_items.append(n)"
   ]
  },
  {
   "cell_type": "code",
   "execution_count": 25,
   "metadata": {},
   "outputs": [
    {
     "data": {
      "text/plain": [
       "True"
      ]
     },
     "execution_count": 25,
     "metadata": {},
     "output_type": "execute_result"
    }
   ],
   "source": [
    "min([s.checkStable(i,0) for i in s.getAnchors(0)])"
   ]
  },
  {
   "cell_type": "code",
   "execution_count": 44,
   "metadata": {
    "scrolled": false
   },
   "outputs": [
    {
     "ename": "TypeError",
     "evalue": "rd() takes exactly 1 argument (2 given)",
     "output_type": "error",
     "traceback": [
      "\u001b[0;31m---------------------------------------------------------------------------\u001b[0m",
      "\u001b[0;31mTypeError\u001b[0m                                 Traceback (most recent call last)",
      "\u001b[0;32m<ipython-input-44-62f072c1f71c>\u001b[0m in \u001b[0;36m<module>\u001b[0;34m()\u001b[0m\n\u001b[0;32m----> 1\u001b[0;31m \u001b[0misfeasibleorder\u001b[0m\u001b[0;34m(\u001b[0m\u001b[0ms\u001b[0m\u001b[0;34m)\u001b[0m\u001b[0;34m\u001b[0m\u001b[0m\n\u001b[0m",
      "\u001b[0;32m<ipython-input-43-31b205f05a78>\u001b[0m in \u001b[0;36misfeasibleorder\u001b[0;34m(solution)\u001b[0m\n\u001b[1;32m      2\u001b[0m     \u001b[0mitems\u001b[0m \u001b[0;34m=\u001b[0m\u001b[0msolution\u001b[0m\u001b[0;34m.\u001b[0m\u001b[0mgetAnchors\u001b[0m\u001b[0;34m(\u001b[0m\u001b[0;36m0\u001b[0m\u001b[0;34m)\u001b[0m\u001b[0;34m\u001b[0m\u001b[0m\n\u001b[1;32m      3\u001b[0m     \u001b[0;32mfor\u001b[0m \u001b[0mi\u001b[0m \u001b[0;32min\u001b[0m \u001b[0mrange\u001b[0m\u001b[0;34m(\u001b[0m\u001b[0mlen\u001b[0m\u001b[0;34m(\u001b[0m\u001b[0mitems\u001b[0m\u001b[0;34m)\u001b[0m\u001b[0;34m)\u001b[0m\u001b[0;34m:\u001b[0m\u001b[0;34m\u001b[0m\u001b[0m\n\u001b[0;32m----> 4\u001b[0;31m         \u001b[0;32mif\u001b[0m \u001b[0mchoose\u001b[0m\u001b[0;34m(\u001b[0m\u001b[0mi\u001b[0m\u001b[0;34m,\u001b[0m\u001b[0mitems\u001b[0m\u001b[0;34m)\u001b[0m \u001b[0;34m==\u001b[0m \u001b[0mTrue\u001b[0m\u001b[0;34m:\u001b[0m \u001b[0;32mreturn\u001b[0m \u001b[0mTrue\u001b[0m\u001b[0;34m\u001b[0m\u001b[0m\n\u001b[0m\u001b[1;32m      5\u001b[0m     \u001b[0;32mreturn\u001b[0m \u001b[0mFalse\u001b[0m\u001b[0;34m\u001b[0m\u001b[0m\n",
      "\u001b[0;32m<ipython-input-42-39e7351d80da>\u001b[0m in \u001b[0;36mchoose\u001b[0;34m(i, items)\u001b[0m\n\u001b[1;32m     10\u001b[0m             \u001b[0;31m#print \"\"\u001b[0m\u001b[0;34m\u001b[0m\u001b[0;34m\u001b[0m\u001b[0m\n\u001b[1;32m     11\u001b[0m             \u001b[0;31m#print 'i_d:',items[i].item.order_id ,' j_d:', items[j].item.order_id ,' i:', i ,' j:', j\u001b[0m\u001b[0;34m\u001b[0m\u001b[0;34m\u001b[0m\u001b[0m\n\u001b[0;32m---> 12\u001b[0;31m             \u001b[0ml\u001b[0m\u001b[0;34m,\u001b[0m\u001b[0mr\u001b[0m\u001b[0;34m,\u001b[0m\u001b[0mh\u001b[0m \u001b[0;34m=\u001b[0m \u001b[0mcheck\u001b[0m\u001b[0;34m(\u001b[0m\u001b[0mi\u001b[0m\u001b[0;34m,\u001b[0m\u001b[0mj\u001b[0m\u001b[0;34m,\u001b[0m\u001b[0mitems\u001b[0m\u001b[0;34m)\u001b[0m\u001b[0;34m\u001b[0m\u001b[0m\n\u001b[0m\u001b[1;32m     13\u001b[0m \u001b[0;34m\u001b[0m\u001b[0m\n\u001b[1;32m     14\u001b[0m             \u001b[0;32mif\u001b[0m \u001b[0ml\u001b[0m \u001b[0;34m==\u001b[0m \u001b[0mTrue\u001b[0m\u001b[0;34m:\u001b[0m \u001b[0;32mprint\u001b[0m \u001b[0mj\u001b[0m\u001b[0;34m,\u001b[0m\u001b[0;34m\"a sinistra di\"\u001b[0m\u001b[0;34m,\u001b[0m\u001b[0mi\u001b[0m\u001b[0;34m\u001b[0m\u001b[0m\n",
      "\u001b[0;32m<ipython-input-41-4f4a25f909c2>\u001b[0m in \u001b[0;36mcheck\u001b[0;34m(i, j, items)\u001b[0m\n\u001b[1;32m      1\u001b[0m \u001b[0;32mdef\u001b[0m \u001b[0mcheck\u001b[0m\u001b[0;34m(\u001b[0m\u001b[0mi\u001b[0m\u001b[0;34m,\u001b[0m\u001b[0mj\u001b[0m\u001b[0;34m,\u001b[0m\u001b[0mitems\u001b[0m\u001b[0;34m)\u001b[0m\u001b[0;34m:\u001b[0m\u001b[0;34m\u001b[0m\u001b[0m\n\u001b[0;32m----> 2\u001b[0;31m     \u001b[0;32mif\u001b[0m \u001b[0mround\u001b[0m\u001b[0;34m(\u001b[0m\u001b[0mitems\u001b[0m\u001b[0;34m[\u001b[0m\u001b[0mj\u001b[0m\u001b[0;34m]\u001b[0m\u001b[0;34m.\u001b[0m\u001b[0mpos\u001b[0m\u001b[0;34m.\u001b[0m\u001b[0my\u001b[0m\u001b[0;34m,\u001b[0m\u001b[0;36m6\u001b[0m\u001b[0;34m)\u001b[0m \u001b[0;34m+\u001b[0m \u001b[0mround\u001b[0m\u001b[0;34m(\u001b[0m\u001b[0mrd\u001b[0m\u001b[0;34m(\u001b[0m\u001b[0mitems\u001b[0m\u001b[0;34m[\u001b[0m\u001b[0mj\u001b[0m\u001b[0;34m]\u001b[0m\u001b[0;34m,\u001b[0m\u001b[0;36m6\u001b[0m\u001b[0;34m)\u001b[0m\u001b[0;34m)\u001b[0m \u001b[0;34m<=\u001b[0m \u001b[0mround\u001b[0m\u001b[0;34m(\u001b[0m\u001b[0mitems\u001b[0m\u001b[0;34m[\u001b[0m\u001b[0mi\u001b[0m\u001b[0;34m]\u001b[0m\u001b[0;34m.\u001b[0m\u001b[0mpos\u001b[0m\u001b[0;34m.\u001b[0m\u001b[0my\u001b[0m\u001b[0;34m,\u001b[0m\u001b[0;36m6\u001b[0m\u001b[0;34m)\u001b[0m\u001b[0;34m:\u001b[0m\u001b[0;34m\u001b[0m\u001b[0m\n\u001b[0m\u001b[1;32m      3\u001b[0m         \u001b[0;32mreturn\u001b[0m \u001b[0;36m0\u001b[0m\u001b[0;34m,\u001b[0m\u001b[0;36m0\u001b[0m\u001b[0;34m,\u001b[0m\u001b[0;36m0\u001b[0m\u001b[0;34m\u001b[0m\u001b[0m\n\u001b[1;32m      4\u001b[0m     \u001b[0;32mif\u001b[0m\u001b[0;34m(\u001b[0m\u001b[0mround\u001b[0m\u001b[0;34m(\u001b[0m\u001b[0mitems\u001b[0m\u001b[0;34m[\u001b[0m\u001b[0mj\u001b[0m\u001b[0;34m]\u001b[0m\u001b[0;34m.\u001b[0m\u001b[0mpos\u001b[0m\u001b[0;34m.\u001b[0m\u001b[0mx\u001b[0m\u001b[0;34m,\u001b[0m\u001b[0;36m6\u001b[0m\u001b[0;34m)\u001b[0m \u001b[0;34m+\u001b[0m \u001b[0mround\u001b[0m\u001b[0;34m(\u001b[0m\u001b[0mrd\u001b[0m\u001b[0;34m(\u001b[0m\u001b[0mitems\u001b[0m\u001b[0;34m[\u001b[0m\u001b[0mj\u001b[0m\u001b[0;34m]\u001b[0m\u001b[0;34m)\u001b[0m\u001b[0;34m,\u001b[0m\u001b[0;36m6\u001b[0m\u001b[0;34m)\u001b[0m\u001b[0;34m)\u001b[0m\u001b[0;34m:\u001b[0m\u001b[0;34m\u001b[0m\u001b[0m\n\u001b[1;32m      5\u001b[0m         \u001b[0mn\u001b[0m\u001b[0;34m=\u001b[0m \u001b[0mlateral\u001b[0m\u001b[0;34m(\u001b[0m\u001b[0mi\u001b[0m\u001b[0;34m,\u001b[0m\u001b[0mj\u001b[0m\u001b[0;34m,\u001b[0m\u001b[0mitems\u001b[0m\u001b[0;34m)\u001b[0m\u001b[0;34m\u001b[0m\u001b[0m\n",
      "\u001b[0;31mTypeError\u001b[0m: rd() takes exactly 1 argument (2 given)"
     ]
    }
   ],
   "source": [
    "isfeasibleorder(s)"
   ]
  },
  {
   "cell_type": "code",
   "execution_count": 27,
   "metadata": {},
   "outputs": [
    {
     "name": "stdout",
     "output_type": "stream",
     "text": [
      "\n",
      "BIN: (w,d,h) = (2.45,13.5,2.7)\n",
      "[Anchors]:\n",
      "Point: (x,y,z) = (0.0,0.0,0.0), Item: [0 (1)] (w,d,h) = (0.930672513634,0.948306991809,0.851035774991), weight = 4.0\n",
      "Point: (x,y,z) = (1.921,1.744,0.0), Item: [1 (1)] (w,d,h) = (0.873345327732,0.529483403958,1.37906123076), weight = 4.0 [R] \n",
      "Point: (x,y,z) = (1.831,0.512,0.0), Item: [2 (1)] (w,d,h) = (0.619262460347,0.701836461792,0.772131743326), weight = 4.0\n",
      "Point: (x,y,z) = (0.0,1.739,0.0), Item: [3 (2)] (w,d,h) = (0.964760390628,0.873674870466,1.05195070591), weight = 4.0\n",
      "Point: (x,y,z) = (1.618,0.0,0.0), Item: [4 (1)] (w,d,h) = (0.831784517305,0.511820019465,1.10820699344), weight = 4.0\n",
      "Point: (x,y,z) = (0.972,1.764,0.0), Item: [5 (3)] (w,d,h) = (0.837888326409,0.948536063,1.37219276283), weight = 4.0 [R] \n",
      "Point: (x,y,z) = (0.0,0.948,0.0), Item: [6 (2)] (w,d,h) = (0.95136328626,0.790778177858,1.09532203339), weight = 4.0\n",
      "Point: (x,y,z) = (0.968,0.883,0.0), Item: [7 (3)] (w,d,h) = (0.86229357013,0.88014316151,1.46600325267), weight = 4.0\n",
      "Point: (x,y,z) = (0.992,0.0,0.0), Item: [8 (0)] (w,d,h) = (0.626169663525,0.883357669079,1.44014327772), weight = 4.0\n",
      "Point: (x,y,z) = (1.844,1.214,0.0), Item: [9 (3)] (w,d,h) = (0.606176068515,0.530163326085,1.30582258506), weight = 4.0\n",
      "-----------\n",
      "[Extreme Points]:\n",
      "(x,y,z) = (0.0,0.0,0.0)\n",
      "-----------\n",
      "\n",
      "BIN: (w,d,h) = (0.0,0.0,0.0)\n",
      "[Anchors]:\n",
      "\n",
      "-----------\n",
      "[Extreme Points]:\n",
      "(x,y,z) = (0.0,0.0,0.0)\n",
      "-----------\n",
      "\n",
      "Feasibility: True \n",
      "Obj: 2.61734532773\n"
     ]
    }
   ],
   "source": [
    "print s"
   ]
  },
  {
   "cell_type": "code",
   "execution_count": 28,
   "metadata": {},
   "outputs": [
    {
     "data": {
      "image/png": "[encoded data removed]",
      "text/plain": [
       "<Figure size 432x288 with 1 Axes>"
      ]
     },
     "metadata": {
      "needs_background": "light"
     },
     "output_type": "display_data"
    }
   ],
   "source": [
    "BP_plot.plotSolution(s)"
   ]
  },
  {
   "cell_type": "code",
   "execution_count": 15,
   "metadata": {},
   "outputs": [
    {
     "data": {
      "image/png": "[encoded data removed]",
      "text/plain": [
       "<Figure size 432x288 with 1 Axes>"
      ]
     },
     "metadata": {
      "needs_background": "light"
     },
     "output_type": "display_data"
    }
   ],
   "source": [
    "BP_plot.plot3DSolution(s,0,7)"
   ]
  },
  {
   "cell_type": "code",
   "execution_count": 16,
   "metadata": {},
   "outputs": [],
   "source": [
    "dimensioni =pd.DataFrame({'n_items': n_items, 'Eu obj': eu_obj,'Mod obj': mod_obj, 'Time': Time})"
   ]
  },
  {
   "cell_type": "code",
   "execution_count": 17,
   "metadata": {},
   "outputs": [],
   "source": [
    "dimensioni.to_excel('result'+1+'.xlsx', encoding='utf8')\n",
    "dimensioni.to_latex('result.tex', encoding='utf8')\n",
    "dimensioni.to_csv('result.csv', encoding='utf8')"
   ]
  },
  {
   "cell_type": "code",
   "execution_count": 18,
   "metadata": {},
   "outputs": [
    {
     "data": {
      "text/html": [
       "<div>\n",
       "<style scoped>\n",
       "    .dataframe tbody tr th:only-of-type {\n",
       "        vertical-align: middle;\n",
       "    }\n",
       "\n",
       "    .dataframe tbody tr th {\n",
       "        vertical-align: top;\n",
       "    }\n",
       "\n",
       "    .dataframe thead th {\n",
       "        text-align: right;\n",
       "    }\n",
       "</style>\n",
       "<table border=\"1\" class=\"dataframe\">\n",
       "  <thead>\n",
       "    <tr style=\"text-align: right;\">\n",
       "      <th></th>\n",
       "      <th>Eu obj</th>\n",
       "      <th>Mod obj</th>\n",
       "      <th>Time</th>\n",
       "      <th>n_items</th>\n",
       "    </tr>\n",
       "  </thead>\n",
       "  <tbody>\n",
       "    <tr>\n",
       "      <th>0</th>\n",
       "      <td>2.638998</td>\n",
       "      <td>2.399548</td>\n",
       "      <td>310.362</td>\n",
       "      <td>10</td>\n",
       "    </tr>\n",
       "  </tbody>\n",
       "</table>\n",
       "</div>"
      ],
      "text/plain": [
       "     Eu obj   Mod obj     Time  n_items\n",
       "0  2.638998  2.399548  310.362       10"
      ]
     },
     "execution_count": 18,
     "metadata": {},
     "output_type": "execute_result"
    }
   ],
   "source": [
    "dimensioni"
   ]
  },
  {
   "cell_type": "code",
   "execution_count": 19,
   "metadata": {},
   "outputs": [],
   "source": [
    "#send_mail()"
   ]
  },
  {
   "cell_type": "code",
   "execution_count": null,
   "metadata": {},
   "outputs": [],
   "source": []
  }
 ],
 "metadata": {
  "kernelspec": {
   "display_name": "Python 2",
   "language": "python",
   "name": "python2"
  },
  "language_info": {
   "codemirror_mode": {
    "name": "ipython",
    "version": 2
   },
   "file_extension": ".py",
   "mimetype": "text/x-python",
   "name": "python",
   "nbconvert_exporter": "python",
   "pygments_lexer": "ipython2",
   "version": "2.7.12"
  }
 },
 "nbformat": 4,
 "nbformat_minor": 2
}
