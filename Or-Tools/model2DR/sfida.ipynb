{
 "cells": [
  {
   "cell_type": "code",
   "execution_count": 23,
   "metadata": {},
   "outputs": [],
   "source": [
    "import sys\n",
    "sys.path.append(\"/home/rossidaniel/Documenti/bin-packing/Python/\")\n",
    "sys.path.append(\"/home/rossidaniel/Documenti/bin-packing/\")\n",
    "sys.path.append(\"/home/rossidaniel/Dropbox\")\n",
    "sys.path.append(\"/home/rossidaniel/Documenti/bin-packing/Python\")"
   ]
  },
  {
   "cell_type": "code",
   "execution_count": 24,
   "metadata": {},
   "outputs": [],
   "source": [
    "import Bin_Packing_Py as BP\n",
    "import BP_print\n",
    "import BP_plot\n",
    "import BP_utilities\n",
    "import HA_routines\n",
    "import BP_instances\n",
    "\n",
    "import matplotlib\n",
    "%matplotlib nbagg\n",
    "matplotlib.rcParams['figure.figsize'] = [6,3.5]\n",
    "\n",
    "from ortools.linear_solver import pywraplp\n",
    "import random\n",
    "import time\n",
    "import csv\n",
    "\n",
    "import pandas as pd\n",
    "from sqlalchemy import create_engine\n",
    "from mail import send_mail\n",
    "from Test_BP_G import euristic"
   ]
  },
  {
   "cell_type": "code",
   "execution_count": 25,
   "metadata": {},
   "outputs": [],
   "source": [
    "def rw(it):\n",
    "    return it.realDim().width*it.item.rotation + it.realDim().depth*(1-it.item.rotation)"
   ]
  },
  {
   "cell_type": "code",
   "execution_count": 26,
   "metadata": {},
   "outputs": [],
   "source": [
    "def rd(it):\n",
    "    return it.realDim().depth*it.item.rotation + it.realDim().width*(1-it.item.rotation)"
   ]
  },
  {
   "cell_type": "code",
   "execution_count": 27,
   "metadata": {},
   "outputs": [],
   "source": [
    "def lateral(i,j,items):\n",
    "    return 0 if(round(items[j].pos.y,6) >= round(items[i].pos.y,6) + round(rd(items[i]))) else 1"
   ]
  },
  {
   "cell_type": "code",
   "execution_count": 28,
   "metadata": {},
   "outputs": [],
   "source": [
    "def check(i,j,items):\n",
    "    if round(items[j].pos.y,6) + round(rd(items[j]),6) <= round(items[i].pos.y,6):\n",
    "        return 0,0,0\n",
    "    if(round(items[j].pos.x,6) + round(rd(items[j]),6) <= round(items[i].pos.x,6)):\n",
    "        n= lateral(i,j,items)\n",
    "        return n,0,0\n",
    "    if(round(items[j].pos.x,6) >= round(items[i].pos.x,6) + round(rw(items[i]),6)):\n",
    "        n= lateral(i,j,items)\n",
    "        return 0,n,0\n",
    "    \n",
    "    return 0,0,1"
   ]
  },
  {
   "cell_type": "code",
   "execution_count": 29,
   "metadata": {},
   "outputs": [],
   "source": [
    "def choose(i, items):\n",
    "    left = 0\n",
    "    right = 0\n",
    "    high = 0\n",
    "    l = 0\n",
    "    r = 0\n",
    "    h = 0\n",
    "    for j in range(len(items)):\n",
    "        if (items[i].item.order_id < items[j].item.order_id and i != j):\n",
    "            #print \"\"\n",
    "            #print 'i_d:',items[i].item.order_id ,' j_d:', items[j].item.order_id ,' i:', i ,' j:', j\n",
    "            l,r,h = check(i,j,items)\n",
    "\n",
    "            left += l\n",
    "            right += r\n",
    "            high += h\n",
    "\n",
    "    if left >0 and right > 0 and high > 0: print i; return False\n",
    "    return False"
   ]
  },
  {
   "cell_type": "code",
   "execution_count": 30,
   "metadata": {},
   "outputs": [],
   "source": [
    "def isfeasibleorder(solution):\n",
    "    items =solution.getAnchors(0)\n",
    "    for i in range(len(items)):\n",
    "        if choose(i,items) == False: return False\n",
    "    return True"
   ]
  },
  {
   "cell_type": "code",
   "execution_count": 31,
   "metadata": {},
   "outputs": [],
   "source": [
    "def tc_sfida():\n",
    "    item_list = []\n",
    "    bin_list = []\n",
    "\n",
    "    bin_list.append(BP.Bin(2.70, 13.5, 2.45))\n",
    "    bin_list.append(BP.Bin(0, 0, 0))\n",
    "\n",
    "    n_items =random.randint(3,7)\n",
    "\n",
    "    for i in range(10):\n",
    "        w=random.uniform(0.5,1)\n",
    "        d=random.uniform(0.5,1)\n",
    "        h=random.uniform(0.5,1.5)\n",
    "        item = BP.Item(i,h,d,w)\n",
    "        item.stackable = random.randint(0,0)\n",
    "        item.order_id = random.randint(0,3)\n",
    "        item.weight = 4\n",
    "        item_list.append(item)\n",
    "\n",
    "    return item_list, bin_list"
   ]
  },
  {
   "cell_type": "code",
   "execution_count": 32,
   "metadata": {
    "scrolled": true
   },
   "outputs": [],
   "source": [
    "class model_bin_packing:\n",
    "    def __init__(self,item_list,bin_list):\n",
    "        self.bp = BP.BinPack()\n",
    "        self.bp.items.extend(item_list)\n",
    "        self.bp.bins.extend(bin_list)\n",
    "        \n",
    "    def buildModel(self,amount_time=300000):\n",
    "        solver = pywraplp.Solver('Model2DR', pywraplp.Solver.CBC_MIXED_INTEGER_PROGRAMMING)\n",
    "        #importo dimensioni dei pacchi e del camion\n",
    "        n=len(self.bp.items)\n",
    "\n",
    "        w =[self.bp.items[i].width for i in range(n)]\n",
    "        d =[self.bp.items[i].depth for i in range(n)]\n",
    "        h =[self.bp.items[i].height for i in range(n)]\n",
    "        M=sum([max(w[i],d[i]) for i in range(n)])\n",
    "\n",
    "        W =self.bp.bins[0].width\n",
    "        D =solver.NumVar(0,M,\"D\")\n",
    "        H =self.bp.bins[0].height\n",
    "        \n",
    "        Mw=W+M\n",
    "        Md=self.bp.bins[0].depth+M\n",
    "        Mz=H+max(h)\n",
    "                \n",
    "        # definisco le variabili\n",
    "        l =[[solver.BoolVar(\"l%d%d\" % (i,j)) for i in range(n)] for j in range(n)]\n",
    "        b =[[solver.BoolVar(\"b%d%d\" % (i,j)) for i in range(n)] for j in range(n)]\n",
    "        r =[solver.BoolVar(\"r%d\" % (i)) for i in range(n)]\n",
    "\n",
    "        x =[solver.NumVar(0,solver.infinity(),\"x%d\" % i) for i in range(n)]\n",
    "        y =[solver.NumVar(0,solver.infinity(),\"y%d\" % i) for i in range(n)]\n",
    "\n",
    "\n",
    "        #definisco i constraints\n",
    "        for i in range(n):\n",
    "            for j in range(n):\n",
    "                if(i < j):\n",
    "                    solver.Add(l[i][j] + l[j][i] + b[i][j] + b[j][i] >= 1)                           #(1)\n",
    "                if(i != j):\n",
    "                    solver.Add(x[i] - x[j] + Mw * l[i][j] <= Mw - w[i]*(1-r[i]) - d[i]*r[i])         #(2)\n",
    "                    solver.Add(y[i] - y[j] + Md * b[i][j] <= Md - d[i]*(1-r[i]) - w[i]*r[i])         #(3)\n",
    "            solver.Add(x[i] + w[i]*(1-r[i]) + d[i]*r[i] <= W)                                        #(4)\n",
    "            solver.Add(y[i] + d[i]*(1-r[i]) + w[i]*r[i] <= D)                                        #(5)\n",
    "\n",
    "        #funzione obiettivo\n",
    "        objective = solver.Objective()\n",
    "        objective.SetCoefficient(D,1)\n",
    "        objective.SetMinimization()\n",
    "\n",
    "        #soluzione\n",
    "        solver.SetTimeLimit(amount_time)\n",
    "        t=time.time()\n",
    "        solver.Solve()\n",
    "        t =time.time()-t\n",
    "\n",
    "        s = BP.Solution(self.bp)\n",
    "        for i in range(len(self.bp.items)):\n",
    "            rt = False if r[i].solution_value() == 0 else True\n",
    "            s.pushItem(self.bp.items[i],0,BP.Point(round(x[i].solution_value(),3),round(y[i].solution_value(),3),0),rt,False)\n",
    "        return s,t,w,d,h,n\n",
    "    \n",
    "    def BuildSolution(self,s):\n",
    "        print s\n",
    "    \n",
    "    def plotSolution(self,s):\n",
    "        BP_plot.plotSolution(s)\n",
    "    \n",
    "    def plot3Dsolution(self,s):\n",
    "        BP_plot.plot3DSolution(s,0)\n",
    "\n",
    "    def feasible(self):\n",
    "        return self.bp.bins[0].height*self.bp.bins[0].width >= sum([self.bp.items[i].width*self.bp.items[i].height for i in range(len(self.bp.items))])"
   ]
  },
  {
   "cell_type": "code",
   "execution_count": 33,
   "metadata": {},
   "outputs": [],
   "source": [
    "n_items = []\n",
    "Time = []\n",
    "eu_obj = []\n",
    "mod_obj = []\n",
    "feasible = []\n",
    "solution = []"
   ]
  },
  {
   "cell_type": "code",
   "execution_count": 34,
   "metadata": {},
   "outputs": [
    {
     "name": "stdout",
     "output_type": "stream",
     "text": [
      "0\n",
      "1\n",
      "2\n",
      "3\n",
      "4\n",
      "5\n",
      "6\n",
      "7\n",
      "8\n",
      "9\n"
     ]
    }
   ],
   "source": [
    "for i in range(10):\n",
    "    print i\n",
    "    items,bins=tc_sfida()\n",
    "    model = model_bin_packing(items,bins)\n",
    "    s,t,w,d,h,n=model.buildModel()\n",
    "    s.computeObj()\n",
    "    mod_obj.append(s.obj)\n",
    "    eu_obj.append(euristic(items,bins))\n",
    "    Time.append(round(t,3))\n",
    "    n_items.append(n)\n",
    "    feasible.append(isfeasibleorder(s))\n",
    "    solution.append(s)"
   ]
  },
  {
   "cell_type": "code",
   "execution_count": 35,
   "metadata": {},
   "outputs": [],
   "source": [
    "dimensioni =pd.DataFrame({'n_items': n_items, 'Eu obj': eu_obj,'Mod obj': mod_obj, 'Time': Time,'Feasible': feasible})"
   ]
  },
  {
   "cell_type": "code",
   "execution_count": 36,
   "metadata": {},
   "outputs": [],
   "source": [
    "dimensioni.to_excel('result.xlsx', encoding='utf8')\n",
    "dimensioni.to_latex('result.tex', encoding='utf8')\n",
    "dimensioni.to_csv('result.csv', encoding='utf8')"
   ]
  },
  {
   "cell_type": "code",
   "execution_count": 37,
   "metadata": {},
   "outputs": [
    {
     "data": {
      "text/html": [
       "<div>\n",
       "<style scoped>\n",
       "    .dataframe tbody tr th:only-of-type {\n",
       "        vertical-align: middle;\n",
       "    }\n",
       "\n",
       "    .dataframe tbody tr th {\n",
       "        vertical-align: top;\n",
       "    }\n",
       "\n",
       "    .dataframe thead th {\n",
       "        text-align: right;\n",
       "    }\n",
       "</style>\n",
       "<table border=\"1\" class=\"dataframe\">\n",
       "  <thead>\n",
       "    <tr style=\"text-align: right;\">\n",
       "      <th></th>\n",
       "      <th>Eu obj</th>\n",
       "      <th>Feasible</th>\n",
       "      <th>Mod obj</th>\n",
       "      <th>Time</th>\n",
       "      <th>n_items</th>\n",
       "    </tr>\n",
       "  </thead>\n",
       "  <tbody>\n",
       "    <tr>\n",
       "      <th>0</th>\n",
       "      <td>2.768456</td>\n",
       "      <td>False</td>\n",
       "      <td>2.512811</td>\n",
       "      <td>308.072</td>\n",
       "      <td>10</td>\n",
       "    </tr>\n",
       "    <tr>\n",
       "      <th>1</th>\n",
       "      <td>3.182100</td>\n",
       "      <td>False</td>\n",
       "      <td>2.752291</td>\n",
       "      <td>312.397</td>\n",
       "      <td>10</td>\n",
       "    </tr>\n",
       "    <tr>\n",
       "      <th>2</th>\n",
       "      <td>3.086140</td>\n",
       "      <td>False</td>\n",
       "      <td>2.625668</td>\n",
       "      <td>306.620</td>\n",
       "      <td>10</td>\n",
       "    </tr>\n",
       "    <tr>\n",
       "      <th>3</th>\n",
       "      <td>2.752316</td>\n",
       "      <td>False</td>\n",
       "      <td>2.384715</td>\n",
       "      <td>308.370</td>\n",
       "      <td>10</td>\n",
       "    </tr>\n",
       "    <tr>\n",
       "      <th>4</th>\n",
       "      <td>2.391110</td>\n",
       "      <td>False</td>\n",
       "      <td>2.158985</td>\n",
       "      <td>307.047</td>\n",
       "      <td>10</td>\n",
       "    </tr>\n",
       "    <tr>\n",
       "      <th>5</th>\n",
       "      <td>2.467933</td>\n",
       "      <td>False</td>\n",
       "      <td>2.206253</td>\n",
       "      <td>311.059</td>\n",
       "      <td>10</td>\n",
       "    </tr>\n",
       "    <tr>\n",
       "      <th>6</th>\n",
       "      <td>2.256853</td>\n",
       "      <td>False</td>\n",
       "      <td>2.170629</td>\n",
       "      <td>308.111</td>\n",
       "      <td>10</td>\n",
       "    </tr>\n",
       "    <tr>\n",
       "      <th>7</th>\n",
       "      <td>3.288666</td>\n",
       "      <td>False</td>\n",
       "      <td>2.839190</td>\n",
       "      <td>305.122</td>\n",
       "      <td>10</td>\n",
       "    </tr>\n",
       "    <tr>\n",
       "      <th>8</th>\n",
       "      <td>2.699257</td>\n",
       "      <td>False</td>\n",
       "      <td>2.550784</td>\n",
       "      <td>305.290</td>\n",
       "      <td>10</td>\n",
       "    </tr>\n",
       "    <tr>\n",
       "      <th>9</th>\n",
       "      <td>3.067144</td>\n",
       "      <td>False</td>\n",
       "      <td>2.534722</td>\n",
       "      <td>308.132</td>\n",
       "      <td>10</td>\n",
       "    </tr>\n",
       "  </tbody>\n",
       "</table>\n",
       "</div>"
      ],
      "text/plain": [
       "     Eu obj  Feasible   Mod obj     Time  n_items\n",
       "0  2.768456     False  2.512811  308.072       10\n",
       "1  3.182100     False  2.752291  312.397       10\n",
       "2  3.086140     False  2.625668  306.620       10\n",
       "3  2.752316     False  2.384715  308.370       10\n",
       "4  2.391110     False  2.158985  307.047       10\n",
       "5  2.467933     False  2.206253  311.059       10\n",
       "6  2.256853     False  2.170629  308.111       10\n",
       "7  3.288666     False  2.839190  305.122       10\n",
       "8  2.699257     False  2.550784  305.290       10\n",
       "9  3.067144     False  2.534722  308.132       10"
      ]
     },
     "execution_count": 37,
     "metadata": {},
     "output_type": "execute_result"
    }
   ],
   "source": [
    "dimensioni"
   ]
  },
  {
   "cell_type": "code",
   "execution_count": 40,
   "metadata": {},
   "outputs": [],
   "source": [
    "send_mail()"
   ]
  },
  {
   "cell_type": "code",
   "execution_count": null,
   "metadata": {},
   "outputs": [],
   "source": [
    "BP_plot.plotSolution(solution[0])"
   ]
  }
 ],
 "metadata": {
  "kernelspec": {
   "display_name": "Python 2",
   "language": "python",
   "name": "python2"
  },
  "language_info": {
   "codemirror_mode": {
    "name": "ipython",
    "version": 2
   },
   "file_extension": ".py",
   "mimetype": "text/x-python",
   "name": "python",
   "nbconvert_exporter": "python",
   "pygments_lexer": "ipython2",
   "version": "2.7.12"
  }
 },
 "nbformat": 4,
 "nbformat_minor": 2
}
